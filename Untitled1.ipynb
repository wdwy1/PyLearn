{
 "cells": [
  {
   "cell_type": "code",
   "execution_count": 2,
   "id": "fe904e46",
   "metadata": {},
   "outputs": [],
   "source": [
    "import numpy as np"
   ]
  },
  {
   "cell_type": "code",
   "execution_count": 4,
   "id": "f6653b79",
   "metadata": {},
   "outputs": [
    {
     "name": "stdout",
     "output_type": "stream",
     "text": [
      "(array([2], dtype=int64), array([2], dtype=int64))\n",
      "8\n",
      "(array([2], dtype=int64), array([1], dtype=int64))\n",
      "7\n",
      "(array([2], dtype=int64), array([0], dtype=int64))\n",
      "6\n"
     ]
    }
   ],
   "source": [
    "array1=np.arange(0,9).reshape(4,4)\n",
    "array2=array1.ravel()\n",
    "array3=np.sort(array2)\n",
    "\n",
    "for i in range(1,4):\n",
    "    max_1=array3[-i]\n",
    "    x=np.where(array1==array3[-i])\n",
    "    print(x)\n",
    "    print(max_1)"
   ]
  },
  {
   "cell_type": "code",
   "execution_count": 14,
   "id": "326bed16",
   "metadata": {},
   "outputs": [
    {
     "name": "stdout",
     "output_type": "stream",
     "text": [
      "[[0 1 2]\n",
      " [3 4 5]\n",
      " [6 7 8]]\n",
      "(array([2], dtype=int64), array([2], dtype=int64))\n",
      "(array([2], dtype=int64), array([1], dtype=int64))\n",
      "(array([2], dtype=int64), array([0], dtype=int64))\n"
     ]
    }
   ],
   "source": [
    "array1=np.arange(0,9).reshape(3,3)\n",
    "print(array1)\n",
    "for i in range(0,3):\n",
    "    max1=np.amax(array1)\n",
    "    x=np.where(array1==max1)\n",
    "    array1[x[0][0],x[1][0]]=np.amin(array1)\n",
    "    print(x)"
   ]
  },
  {
   "cell_type": "code",
   "execution_count": 3,
   "id": "884162b6",
   "metadata": {},
   "outputs": [
    {
     "name": "stdout",
     "output_type": "stream",
     "text": [
      "array1:\n",
      " [[  1  11 100  45]\n",
      " [  2  33  88  47]\n",
      " [  3  44  77  48]\n",
      " [  4  55  66  49]\n",
      " [  5  22  99  46]]\n",
      "array2:\n",
      " [[ 11 100  45]\n",
      " [ 33  88  47]\n",
      " [ 44  77  48]\n",
      " [ 55  66  49]\n",
      " [ 22  99  46]]\n",
      "array3:\n",
      " [[0.4 0.4 0.2]\n",
      " [0.4 0.4 0.2]\n",
      " [0.4 0.4 0.2]\n",
      " [0.4 0.4 0.2]\n",
      " [0.4 0.4 0.2]]\n",
      "array4:\n",
      " [53.4 57.8 58.  58.2 57.6]\n",
      "array5:\n",
      " [53.4 57.8 58.  58.2 57.6]\n",
      "array6:\n",
      " [53.4 57.6 57.8 58.  58.2]\n",
      "排名第1的同学总成绩为： 58.2\n",
      "学号： 4\n",
      "该同学语文成绩： 55\n",
      "该同学数学成绩： 66\n",
      "该同学英语成绩： 49\n",
      "[ 4 55 66 49]\n",
      "排名第2的同学总成绩为： 58.00000000000001\n",
      "学号： 3\n",
      "该同学语文成绩： 44\n",
      "该同学数学成绩： 77\n",
      "该同学英语成绩： 48\n",
      "[ 3 44 77 48]\n"
     ]
    }
   ],
   "source": [
    "#问题：\n",
    "#1.若语文占总成绩40%，数学40%，英语20%，求各个同学总成绩\n",
    "#2.按照总分排序，求出总分最高的两位同学的学号，语文成绩，数学成绩以及英语成绩\n",
    "\n",
    "array1 = np.array([[1,11,100,45],[2,33,88,47],[3,44,77,48],[4,55,66,49],[5,22,99,46]])\n",
    "print(\"array1:\\n\",array1)\n",
    "array2 = array1[:,1:]#切片：取所有行，取1列以后所有列\n",
    "print(\"array2:\\n\",array2)\n",
    "array3 = np.array([[0.4,0.4,0.2],[0.4,0.4,0.2],[0.4,0.4,0.2],[0.4,0.4,0.2],[0.4,0.4,0.2]])#权重数组\n",
    "print(\"array3:\\n\",array3)\n",
    "array4 = np.average(array2,weights = array3,axis = 1)#按横向权重\n",
    "print(\"array4:\\n\",array4)\n",
    "array5 = array4.ravel()#多维数组转化成一维数组\n",
    "print(\"array5:\\n\",array5)\n",
    "array6 = np.sort(array5)#排序\n",
    "print(\"array6:\\n\",array6)\n",
    "for i in range(1,3):\n",
    "    max_1 = array6[-i]#找到最高成绩\n",
    "    print(\"排名第%d的同学总成绩为：\"%i,max_1)\n",
    "    x=np.where(array5 == array6[-i])[0][0]#找到最高成绩所对应的位置\n",
    "    print(\"学号：\",x+1)#输出该位置（最高成绩所对应的位置）所对应的学号\n",
    "    print(\"该同学语文成绩：\",array1[x][1])\n",
    "    print(\"该同学数学成绩：\",array1[x][2])\n",
    "    print(\"该同学英语成绩：\",array1[x][3])\n",
    "    print(array1[x])\n"
   ]
  },
  {
   "cell_type": "code",
   "execution_count": 1,
   "id": "ee62d467",
   "metadata": {},
   "outputs": [
    {
     "name": "stdout",
     "output_type": "stream",
     "text": [
      "原随机元数组:\n",
      " [[ 2  6 13  7]\n",
      " [10 13  7 10]\n",
      " [ 3  5 11  4]\n",
      " [ 7 12 12 14]]\n",
      "排序后的数组:\n",
      " [[ 2  3  4  5]\n",
      " [ 6  7  7  7]\n",
      " [10 10 11 12]\n",
      " [12 13 13 14]]\n",
      "最终结果：\n",
      "第个1最大值{(3,1):13} 第个2最大值{(3,2):13} 第个3最大值{(3,3):14} "
     ]
    }
   ],
   "source": [
    "import numpy as np\n",
    "array = np.random.randint(1,15,size = [4,4])\n",
    "print(\"原随机元数组:\\n\",array)\n",
    "array = array.ravel()\n",
    "array.sort()\n",
    "array = array.reshape(4,4)\n",
    "print(\"排序后的数组:\\n\",array)\n",
    "times = 0\n",
    "cout = 1\n",
    "print(\"最终结果：\")\n",
    "for i in range(len(array)):\n",
    "    for j in range(len(array[0])):\n",
    "        times+=1\n",
    "        if(times > len(array) * len(array[0]) -3):\n",
    "            print(\"第个{3}最大值{{({0},{1}):{2}}}\".format(i,j,array[i][j],cout),end = ' ')\n",
    "            cout += 1\n",
    "    \n"
   ]
  },
  {
   "cell_type": "code",
   "execution_count": null,
   "id": "0cae6f8f",
   "metadata": {},
   "outputs": [],
   "source": []
  }
 ],
 "metadata": {
  "kernelspec": {
   "display_name": "Python 3 (ipykernel)",
   "language": "python",
   "name": "python3"
  },
  "language_info": {
   "codemirror_mode": {
    "name": "ipython",
    "version": 3
   },
   "file_extension": ".py",
   "mimetype": "text/x-python",
   "name": "python",
   "nbconvert_exporter": "python",
   "pygments_lexer": "ipython3",
   "version": "3.10.1"
  }
 },
 "nbformat": 4,
 "nbformat_minor": 5
}
