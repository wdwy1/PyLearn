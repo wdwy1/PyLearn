{
 "cells": [
  {
   "cell_type": "code",
   "execution_count": 1,
   "id": "3973b3db",
   "metadata": {},
   "outputs": [],
   "source": [
    "import numpy as np"
   ]
  },
  {
   "cell_type": "code",
   "execution_count": 7,
   "id": "9bd886f9",
   "metadata": {},
   "outputs": [
    {
     "name": "stdout",
     "output_type": "stream",
     "text": [
      "3.0\n",
      "3.2\n",
      "3.2\n"
     ]
    }
   ],
   "source": [
    "array1=np.array([1,2,3,4,6])\n",
    "print(np.median(array1))#中位数\n",
    "print(np.mean(array1))#算术平均值\n",
    "print(np.average(array1))#加权平均值"
   ]
  },
  {
   "cell_type": "code",
   "execution_count": 11,
   "id": "d9cf5654",
   "metadata": {},
   "outputs": [
    {
     "name": "stdout",
     "output_type": "stream",
     "text": [
      "[0 1 2 3 4 5 6 7 8]\n",
      "4.0\n",
      "4.0\n",
      "8\n",
      "0\n",
      "2.581988897471611\n"
     ]
    }
   ],
   "source": [
    "array1=np.arange(9)\n",
    "print(array1)\n",
    "print(np.mean(array1))\n",
    "print(np.median(array1))\n",
    "print(np.amax(array1))\n",
    "print(np.amin(array1))\n",
    "print(np.std(array1))"
   ]
  },
  {
   "cell_type": "code",
   "execution_count": 13,
   "id": "61153400",
   "metadata": {},
   "outputs": [
    {
     "name": "stdout",
     "output_type": "stream",
     "text": [
      "0\n",
      "1\n",
      "2\n",
      "3\n"
     ]
    }
   ],
   "source": [
    "array1 = np.arange(9).reshape(3,3)\n",
    "array2 = np.arange(4).reshape(2,2)\n",
    "\n",
    "array1 = array1.ravel()\n",
    "array2 = array2.ravel()\n",
    "flag = 1\n",
    "for i in array1:\n",
    "        if i in array2:\n",
    "            flag = 0\n",
    "            print(i)\n",
    "if flag == 1:\n",
    "    print(\"无相同元素\")\n"
   ]
  },
  {
   "cell_type": "code",
   "execution_count": 42,
   "id": "d6a2c0f2",
   "metadata": {},
   "outputs": [
    {
     "name": "stdout",
     "output_type": "stream",
     "text": [
      "5\n",
      "[[1, 53.4], [2, 57.60000000000001], [3, 57.800000000000004], [4, 58.00000000000001], [5, 58.2]]\n"
     ]
    }
   ],
   "source": [
    "array1=np.array([[1,11,100,45],[2,22,99,46],[3,33,88,47],[4,44,77,48],[5,55,66,49]])\n",
    "array3=array1[:,1:]\n",
    "#array2([0.4,0.4,0.2],[0.4,0.4,0.2],[0.4,0.4,0.2],[0.4,0.4,0.2],[0.4,0.4,0.2])\n",
    "array2= []\n",
    "print(len(array1))\n",
    "for i in range(len(array1)):\n",
    "    array2.append([i+1,array3[i][0]*0.4+array3[i][1]*0.4+array3[i][2]*0.2])\n",
    "print(array2)"
   ]
  },
  {
   "cell_type": "code",
   "execution_count": null,
   "id": "aa381827",
   "metadata": {},
   "outputs": [],
   "source": [
    "import pandas as pd\n",
    "import numpy as np\n",
    "class1 = pd.read_csv(\"E:\\python大数据\\class1.csv\");\n",
    "class2 = pd.read_csv(\"E:\\python大数据\\class2.csv\");\n",
    "# print(class2)\n",
    "class1['banji'] = 1\n",
    "class2['banji'] = 2\n",
    "grade = pd.concat([class1,class2])\n",
    "#score\n",
    "grade['score'] = grade['chinese'] + grade['math'] +grade['english']\n",
    "#update index\n",
    "index1 = grade['banji']\n",
    "index2 = grade['id']\n",
    "index = pd.MultiIndex.from_arrays([index1,index2],names=['班级','姓名'])\n",
    "grade.index = index\n",
    "\n",
    "grade = grade[['chinese','math','english','score']]\n",
    "print(grade)\n",
    "maxscore=grade['score'].max()\n",
    "\n",
    "for i in range(0, len(grade)):\n",
    "    if grade.iloc[i]['score']==maxscore:\n",
    "        print('班级='+grade.iloc[i]['banji'], 'id='+grade.iloc[i]['id'])\n",
    "\n"
   ]
  }
 ],
 "metadata": {
  "kernelspec": {
   "display_name": "Python 3 (ipykernel)",
   "language": "python",
   "name": "python3"
  },
  "language_info": {
   "codemirror_mode": {
    "name": "ipython",
    "version": 3
   },
   "file_extension": ".py",
   "mimetype": "text/x-python",
   "name": "python",
   "nbconvert_exporter": "python",
   "pygments_lexer": "ipython3",
   "version": "3.10.1"
  }
 },
 "nbformat": 4,
 "nbformat_minor": 5
}
