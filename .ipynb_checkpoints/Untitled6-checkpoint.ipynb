{
 "cells": [
  {
   "cell_type": "code",
   "execution_count": 1,
   "id": "daae32f2",
   "metadata": {},
   "outputs": [],
   "source": [
    "import numpy\n",
    "import pandas\n",
    "import matplotlib"
   ]
  },
  {
   "cell_type": "code",
   "execution_count": 2,
   "id": "5936b326",
   "metadata": {},
   "outputs": [
    {
     "name": "stdout",
     "output_type": "stream",
     "text": [
      "1\n"
     ]
    }
   ],
   "source": [
    "a=1\n",
    "b=\"12345\"\n",
    "print(a)"
   ]
  },
  {
   "cell_type": "code",
   "execution_count": 3,
   "id": "23289e20",
   "metadata": {},
   "outputs": [
    {
     "name": "stdout",
     "output_type": "stream",
     "text": [
      "12345\n"
     ]
    }
   ],
   "source": [
    "print(b)"
   ]
  },
  {
   "cell_type": "code",
   "execution_count": 4,
   "id": "4d728132",
   "metadata": {},
   "outputs": [
    {
     "name": "stdout",
     "output_type": "stream",
     "text": [
      "[1]\n"
     ]
    }
   ],
   "source": [
    "[\"a\",12,13,[123,456]]\n",
    "c=[1]\n",
    "print(c)"
   ]
  },
  {
   "cell_type": "code",
   "execution_count": 5,
   "id": "4fabbe18",
   "metadata": {},
   "outputs": [
    {
     "ename": "IndexError",
     "evalue": "list index out of range",
     "output_type": "error",
     "traceback": [
      "\u001b[1;31m---------------------------------------------------------------------------\u001b[0m",
      "\u001b[1;31mIndexError\u001b[0m                                Traceback (most recent call last)",
      "Cell \u001b[1;32mIn[5], line 1\u001b[0m\n\u001b[1;32m----> 1\u001b[0m \u001b[38;5;28mprint\u001b[39m(\u001b[43mc\u001b[49m\u001b[43m[\u001b[49m\u001b[38;5;241;43m1\u001b[39;49m\u001b[43m]\u001b[49m)\n",
      "\u001b[1;31mIndexError\u001b[0m: list index out of range"
     ]
    }
   ],
   "source": [
    "print(c[1])"
   ]
  },
  {
   "cell_type": "code",
   "execution_count": 8,
   "id": "77411174",
   "metadata": {},
   "outputs": [
    {
     "ename": "SyntaxError",
     "evalue": "Missing parentheses in call to 'print'. Did you mean print(...)? (3939283643.py, line 3)",
     "output_type": "error",
     "traceback": [
      "\u001b[1;36m  Cell \u001b[1;32mIn[8], line 3\u001b[1;36m\u001b[0m\n\u001b[1;33m    print dict['c']\u001b[0m\n\u001b[1;37m    ^\u001b[0m\n\u001b[1;31mSyntaxError\u001b[0m\u001b[1;31m:\u001b[0m Missing parentheses in call to 'print'. Did you mean print(...)?\n"
     ]
    }
   ],
   "source": [
    "dict={'a':1,'b':2}\n",
    "dict['c':3]\n",
    "print dict['c']"
   ]
  },
  {
   "cell_type": "code",
   "execution_count": 7,
   "id": "ad7b3ca6",
   "metadata": {},
   "outputs": [
    {
     "ename": "SyntaxError",
     "evalue": "Missing parentheses in call to 'print'. Did you mean print(...)? (3625795540.py, line 3)",
     "output_type": "error",
     "traceback": [
      "\u001b[1;36m  Cell \u001b[1;32mIn[7], line 3\u001b[1;36m\u001b[0m\n\u001b[1;33m    print dict\u001b[0m\n\u001b[1;37m    ^\u001b[0m\n\u001b[1;31mSyntaxError\u001b[0m\u001b[1;31m:\u001b[0m Missing parentheses in call to 'print'. Did you mean print(...)?\n"
     ]
    }
   ],
   "source": [
    "dict={'a':1,'b':2}\n",
    "dict['c':3]\n",
    "print dict"
   ]
  },
  {
   "cell_type": "code",
   "execution_count": 9,
   "id": "58a4beda",
   "metadata": {},
   "outputs": [
    {
     "ename": "TypeError",
     "evalue": "unhashable type: 'slice'",
     "output_type": "error",
     "traceback": [
      "\u001b[1;31m---------------------------------------------------------------------------\u001b[0m",
      "\u001b[1;31mTypeError\u001b[0m                                 Traceback (most recent call last)",
      "Cell \u001b[1;32mIn[9], line 2\u001b[0m\n\u001b[0;32m      1\u001b[0m \u001b[38;5;28mdict\u001b[39m\u001b[38;5;241m=\u001b[39m{\u001b[38;5;124m'\u001b[39m\u001b[38;5;124ma\u001b[39m\u001b[38;5;124m'\u001b[39m:\u001b[38;5;241m1\u001b[39m,\u001b[38;5;124m'\u001b[39m\u001b[38;5;124mb\u001b[39m\u001b[38;5;124m'\u001b[39m:\u001b[38;5;241m2\u001b[39m}\n\u001b[1;32m----> 2\u001b[0m \u001b[38;5;28;43mdict\u001b[39;49m\u001b[43m[\u001b[49m\u001b[38;5;124;43m'\u001b[39;49m\u001b[38;5;124;43mc\u001b[39;49m\u001b[38;5;124;43m'\u001b[39;49m\u001b[43m:\u001b[49m\u001b[38;5;241;43m3\u001b[39;49m\u001b[43m]\u001b[49m\n\u001b[0;32m      3\u001b[0m \u001b[38;5;28mprint\u001b[39m (\u001b[38;5;28mdict\u001b[39m)\n",
      "\u001b[1;31mTypeError\u001b[0m: unhashable type: 'slice'"
     ]
    }
   ],
   "source": [
    "dict={'a':1,'b':2}\n",
    "dict['c':3]\n",
    "print (dict)"
   ]
  },
  {
   "cell_type": "code",
   "execution_count": 10,
   "id": "bc9a105f",
   "metadata": {},
   "outputs": [
    {
     "ename": "SyntaxError",
     "evalue": "Missing parentheses in call to 'print'. Did you mean print(...)? (857823247.py, line 3)",
     "output_type": "error",
     "traceback": [
      "\u001b[1;36m  Cell \u001b[1;32mIn[10], line 3\u001b[1;36m\u001b[0m\n\u001b[1;33m    print dict['c']\u001b[0m\n\u001b[1;37m    ^\u001b[0m\n\u001b[1;31mSyntaxError\u001b[0m\u001b[1;31m:\u001b[0m Missing parentheses in call to 'print'. Did you mean print(...)?\n"
     ]
    }
   ],
   "source": [
    "dict={'a':1,'b':2}\n",
    "dict['c']=3\n",
    "print dict['c']"
   ]
  },
  {
   "cell_type": "code",
   "execution_count": 11,
   "id": "56872020",
   "metadata": {},
   "outputs": [
    {
     "name": "stdout",
     "output_type": "stream",
     "text": [
      "{'a': 1, 'b': 2, 'c': 3}\n"
     ]
    }
   ],
   "source": [
    "dict={'a':1,'b':2}\n",
    "dict['c']=3\n",
    "print (dict)"
   ]
  },
  {
   "cell_type": "code",
   "execution_count": 39,
   "id": "6ff0bbf5",
   "metadata": {},
   "outputs": [
    {
     "ename": "SyntaxError",
     "evalue": "'function call' is an illegal expression for augmented assignment (590864513.py, line 3)",
     "output_type": "error",
     "traceback": [
      "\u001b[1;36m  Cell \u001b[1;32mIn[39], line 3\u001b[1;36m\u001b[0m\n\u001b[1;33m    dict['c'].values()+=1\u001b[0m\n\u001b[1;37m    ^\u001b[0m\n\u001b[1;31mSyntaxError\u001b[0m\u001b[1;31m:\u001b[0m 'function call' is an illegal expression for augmented assignment\n"
     ]
    }
   ],
   "source": [
    "dict={'a':1,'b':2}\n",
    "dict['c']=3\n",
    "dict['c']=1\n",
    "print (dict)\n",
    "print(dict['c'])"
   ]
  },
  {
   "cell_type": "code",
   "execution_count": 13,
   "id": "da221117",
   "metadata": {},
   "outputs": [
    {
     "name": "stdout",
     "output_type": "stream",
     "text": [
      "{'a': 1, 'b': 2, 'c': 3}\n",
      "3\n"
     ]
    },
    {
     "data": {
      "text/plain": [
       "dict_keys(['a', 'b', 'c'])"
      ]
     },
     "execution_count": 13,
     "metadata": {},
     "output_type": "execute_result"
    }
   ],
   "source": [
    "dict={'a':1,'b':2}\n",
    "dict['c']=3\n",
    "print (dict)\n",
    "print(dict['c'])\n",
    "dict.keys()"
   ]
  },
  {
   "cell_type": "code",
   "execution_count": 14,
   "id": "1a9f0416",
   "metadata": {},
   "outputs": [
    {
     "name": "stdout",
     "output_type": "stream",
     "text": [
      "{'a': 1, 'b': 2, 'c': 3}\n",
      "3\n"
     ]
    },
    {
     "data": {
      "text/plain": [
       "dict_values([1, 2, 3])"
      ]
     },
     "execution_count": 14,
     "metadata": {},
     "output_type": "execute_result"
    }
   ],
   "source": [
    "dict={'a':1,'b':2}\n",
    "dict['c']=3\n",
    "print (dict)\n",
    "print(dict['c'])\n",
    "dict.keys()\n",
    "dict.values()"
   ]
  },
  {
   "cell_type": "code",
   "execution_count": 15,
   "id": "8252942e",
   "metadata": {},
   "outputs": [
    {
     "ename": "SyntaxError",
     "evalue": "invalid syntax (3350577417.py, line 6)",
     "output_type": "error",
     "traceback": [
      "\u001b[1;36m  Cell \u001b[1;32mIn[15], line 6\u001b[1;36m\u001b[0m\n\u001b[1;33m    del.dict['a']\u001b[0m\n\u001b[1;37m       ^\u001b[0m\n\u001b[1;31mSyntaxError\u001b[0m\u001b[1;31m:\u001b[0m invalid syntax\n"
     ]
    }
   ],
   "source": [
    "dict={'a':1,'b':2}\n",
    "dict['c']=3\n",
    "print (dict)\n",
    "print(dict['c'])\n",
    "dict.keys()\n",
    "del.dict['a']\n",
    "print (dict)\n",
    "print (len(dict))"
   ]
  },
  {
   "cell_type": "code",
   "execution_count": 16,
   "id": "9055c17c",
   "metadata": {},
   "outputs": [
    {
     "name": "stdout",
     "output_type": "stream",
     "text": [
      "{'a': 1, 'b': 2, 'c': 3}\n",
      "3\n",
      "{'b': 2, 'c': 3}\n",
      "2\n"
     ]
    }
   ],
   "source": [
    "dict={'a':1,'b':2}\n",
    "dict['c']=3\n",
    "print (dict)\n",
    "print(dict['c'])\n",
    "dict.keys()\n",
    "del dict['a']\n",
    "print (dict)\n",
    "print (len(dict))"
   ]
  },
  {
   "cell_type": "code",
   "execution_count": 17,
   "id": "3470b4ff",
   "metadata": {},
   "outputs": [
    {
     "ename": "NameError",
     "evalue": "name 'doct1' is not defined",
     "output_type": "error",
     "traceback": [
      "\u001b[1;31m---------------------------------------------------------------------------\u001b[0m",
      "\u001b[1;31mNameError\u001b[0m                                 Traceback (most recent call last)",
      "Cell \u001b[1;32mIn[17], line 4\u001b[0m\n\u001b[0;32m      2\u001b[0m a\u001b[38;5;241m=\u001b[39m\u001b[38;5;241m1\u001b[39m\n\u001b[0;32m      3\u001b[0m \u001b[38;5;28;01mif\u001b[39;00m a\u001b[38;5;241m==\u001b[39m\u001b[38;5;241m1\u001b[39m:\n\u001b[1;32m----> 4\u001b[0m     \u001b[43mdoct1\u001b[49m[\u001b[38;5;124m'\u001b[39m\u001b[38;5;124m小明\u001b[39m\u001b[38;5;124m'\u001b[39m]\u001b[38;5;241m=\u001b[39m\u001b[38;5;241m1\u001b[39m\n\u001b[0;32m      5\u001b[0m \u001b[38;5;28;01melse\u001b[39;00m:\n\u001b[0;32m      6\u001b[0m     dict1[\u001b[38;5;124m'\u001b[39m\u001b[38;5;124m小明\u001b[39m\u001b[38;5;124m'\u001b[39m]\u001b[38;5;241m=\u001b[39m\u001b[38;5;241m2\u001b[39m\n",
      "\u001b[1;31mNameError\u001b[0m: name 'doct1' is not defined"
     ]
    }
   ],
   "source": [
    "dict1={'小明':0,'小刘':2}\n",
    "a=1\n",
    "if a==1:\n",
    "    dict1['小明']=1\n",
    "else:\n",
    "    dict1['小明']=2\n",
    "print(dict1)"
   ]
  },
  {
   "cell_type": "code",
   "execution_count": 18,
   "id": "85e1db19",
   "metadata": {},
   "outputs": [
    {
     "name": "stdout",
     "output_type": "stream",
     "text": [
      "{'小明': 1, '小刘': 2}\n"
     ]
    }
   ],
   "source": [
    "dict1={'小明':0,'小刘':2}\n",
    "a=1\n",
    "if a==1:\n",
    "    dict1['小明']=1\n",
    "else:\n",
    "    dict1['小明']=2\n",
    "print(dict1)"
   ]
  },
  {
   "cell_type": "code",
   "execution_count": 22,
   "id": "d3de45cc",
   "metadata": {},
   "outputs": [
    {
     "name": "stdout",
     "output_type": "stream",
     "text": [
      "The count is: 0\n",
      "The count is: 1\n",
      "The count is: 2\n",
      "The count is: 3\n",
      "The count is: 4\n",
      "The count is: 5\n",
      "The count is: 6\n",
      "The count is: 7\n",
      "The count is: 8\n",
      "Good bye!\n"
     ]
    }
   ],
   "source": [
    "count = 0\n",
    "while (count < 9):\n",
    "   print('The count is:', count)\n",
    "   count = count + 1\n",
    " \n",
    "print (\"Good bye!\")\n",
    "\n",
    "\n"
   ]
  },
  {
   "cell_type": "code",
   "execution_count": 27,
   "id": "7e83c32e",
   "metadata": {},
   "outputs": [
    {
     "name": "stdout",
     "output_type": "stream",
     "text": [
      "10\n"
     ]
    }
   ],
   "source": [
    "count1=0\n",
    "total=0\n",
    "while (count1<10):\n",
    "    total+=count1\n",
    "    count1=count1+1\n",
    "print(count1)\n"
   ]
  },
  {
   "cell_type": "code",
   "execution_count": 34,
   "id": "743becbe",
   "metadata": {},
   "outputs": [
    {
     "name": "stdout",
     "output_type": "stream",
     "text": [
      "55\n"
     ]
    }
   ],
   "source": [
    "count1=0\n",
    "total=0\n",
    "while (count1<11):\n",
    "    total+=count1\n",
    "    count1=count1+1\n",
    "print(total)"
   ]
  },
  {
   "cell_type": "code",
   "execution_count": 33,
   "id": "3f02931a",
   "metadata": {},
   "outputs": [
    {
     "name": "stdout",
     "output_type": "stream",
     "text": [
      "55\n"
     ]
    }
   ],
   "source": [
    "count1=0\n",
    "for i in range(0,11):\n",
    "    count1+=i\n",
    "print(count1)"
   ]
  },
  {
   "cell_type": "code",
   "execution_count": 35,
   "id": "fe1ad3cf",
   "metadata": {},
   "outputs": [
    {
     "name": "stdout",
     "output_type": "stream",
     "text": [
      "0\n",
      "1\n",
      "2\n",
      "3\n",
      "4\n",
      "5\n",
      "6\n",
      "7\n",
      "8\n",
      "9\n",
      "10\n"
     ]
    }
   ],
   "source": [
    "count1=0\n",
    "for i in range(0,11):\n",
    "    print(i)"
   ]
  },
  {
   "cell_type": "code",
   "execution_count": 36,
   "id": "930ae4a2",
   "metadata": {},
   "outputs": [
    {
     "name": "stdout",
     "output_type": "stream",
     "text": [
      "{'L': 1, 'i': 2, 'f': 1, 'e': 4, ' ': 4, 's': 2, 'h': 2, 'o': 2, 'r': 1, 't': 2, ',': 1, 'w': 1, 'n': 2, 'd': 1, 'P': 1, 'y': 1}\n"
     ]
    }
   ],
   "source": [
    "str1=\"Life is short,we need Python\"\n",
    "dict1={}\n",
    "for i in str1:\n",
    "    if i in dict1.keys():\n",
    "        dict1[i]=dict1[i]+1\n",
    "    else:\n",
    "        dict1[i]=1\n",
    "print(dict1)"
   ]
  },
  {
   "cell_type": "code",
   "execution_count": 40,
   "id": "a6b4f4b4",
   "metadata": {},
   "outputs": [
    {
     "name": "stdout",
     "output_type": "stream",
     "text": [
      "{'L': 1, 'i': 2, 'f': 1, 'e': 4, ' ': 4, 's': 2, 'h': 2, 'o': 2, 'r': 1, 't': 2, ',': 1, 'w': 1, 'n': 2, 'd': 1, 'P': 1, 'y': 1}\n"
     ]
    }
   ],
   "source": [
    "str1=\"Life is short,we need Python\"\n",
    "dict1={}\n",
    "for i in str1:\n",
    "    if i not in dict1.keys():\n",
    "         dict1[i]=1\n",
    "    else:\n",
    "       dict1[i]=dict1[i]+1\n",
    "print(dict1)"
   ]
  },
  {
   "cell_type": "code",
   "execution_count": 15,
   "id": "a680aafb",
   "metadata": {},
   "outputs": [
    {
     "name": "stdout",
     "output_type": "stream",
     "text": [
      "[1 2 3]\n",
      "----------------------\n",
      "[[1 2 3]\n",
      " [4 5 6]]\n",
      "----------------------\n",
      "[[[1 2 3]\n",
      "  [4 5 6]\n",
      "  [4 5 6]]\n",
      "\n",
      " [[7 8 9]\n",
      "  [7 8 9]\n",
      "  [7 8 9]]]\n",
      "----------------------\n",
      "[[0. 0. 0. 0.]\n",
      " [0. 0. 0. 0.]\n",
      " [0. 0. 0. 0.]]\n",
      "----------------------\n",
      "[[1. 1. 1. 1.]\n",
      " [1. 1. 1. 1.]\n",
      " [1. 1. 1. 1.]]\n",
      "----------------------\n",
      "[[1. 1. 1. 1.]\n",
      " [1. 1. 1. 1.]\n",
      " [1. 1. 1. 1.]]\n",
      "----------------------\n",
      "[0 2 4 6 8]\n",
      "----------------------\n"
     ]
    }
   ],
   "source": [
    "import numpy as np \n",
    "array1=np.array([1,2,3])\n",
    "print(array1)\n",
    "print(\"----------------------\")\n",
    "array2=np.array([[1,2,3],[4,5,6]])\n",
    "print(array2)\n",
    "print(\"----------------------\")\n",
    "array3=np.array([[[1,2,3],[4,5,6],[4,5,6]],[[7,8,9],[7,8,9],[7,8,9]]])\n",
    "print(array3)\n",
    "print(\"----------------------\")\n",
    "array4 = np.zeros((3,4)) \n",
    "print(array4)\n",
    "print(\"----------------------\")\n",
    "array5 = np.ones((3,4)) \n",
    "print(array5)\n",
    "print(\"----------------------\")\n",
    "array6 = np.empty((3,4)) \n",
    "print(array6)\n",
    "print(\"----------------------\")\n",
    "array7=np.arange(0,10,2)#0,10的前闭后开区间，step默认为一\n",
    "print(array7)\n",
    "print(\"----------------------\")\n"
   ]
  },
  {
   "cell_type": "code",
   "execution_count": 26,
   "id": "06abcf2e",
   "metadata": {},
   "outputs": [
    {
     "name": "stdout",
     "output_type": "stream",
     "text": [
      "[10 12 14 16 18 20 22 24 26 28 30 32 34 36 38 40 42 44 46 48 50 52 54 56\n",
      " 58 60]\n",
      "----------------------\n",
      "[10 20 30 40 50 60]\n",
      "----------------------\n",
      "[14 18 22]\n",
      "----------------------\n",
      "[[10 12 14 16 18 20 22 24 26 28 30 32 34]\n",
      " [36 38 40 42 44 46 48 50 52 54 56 58 60]]\n",
      "----------------------\n",
      "[36 38 40 42 44 46 48 50 52 54 56 58 60]\n",
      "----------------------\n"
     ]
    }
   ],
   "source": [
    "array1=np.arange(10,61,2)\n",
    "print(array1)\n",
    "print(\"----------------------\")\n",
    "array2=np.array([10,20,30,40,50,60])\n",
    "print(array2)\n",
    "print(\"----------------------\")\n",
    "s = slice(2,7,2)   # 从索引 2 开始到索引 7 停止，间隔为2\n",
    "print (array1[s])\n",
    "print(\"----------------------\")\n",
    "\n",
    "array1=np.arange(10,61,2).reshape(2,13)#维度转换函数reshape\n",
    "print(array1)\n",
    "print(\"----------------------\")\n",
    "print(array1[1])#取第几行\n",
    "print(\"----------------------\")"
   ]
  },
  {
   "cell_type": "code",
   "execution_count": null,
   "id": "3278b23b",
   "metadata": {},
   "outputs": [],
   "source": []
  }
 ],
 "metadata": {
  "kernelspec": {
   "display_name": "Python 3 (ipykernel)",
   "language": "python",
   "name": "python3"
  },
  "language_info": {
   "codemirror_mode": {
    "name": "ipython",
    "version": 3
   },
   "file_extension": ".py",
   "mimetype": "text/x-python",
   "name": "python",
   "nbconvert_exporter": "python",
   "pygments_lexer": "ipython3",
   "version": "3.10.1"
  }
 },
 "nbformat": 4,
 "nbformat_minor": 5
}
