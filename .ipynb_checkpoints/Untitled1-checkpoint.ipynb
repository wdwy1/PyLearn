{
 "cells": [
  {
   "cell_type": "code",
   "execution_count": 1,
   "id": "7d2c41fc",
   "metadata": {},
   "outputs": [],
   "source": [
    "import numpy as np"
   ]
  },
  {
   "cell_type": "code",
   "execution_count": 4,
   "id": "dbb2baea",
   "metadata": {},
   "outputs": [
    {
     "name": "stdout",
     "output_type": "stream",
     "text": [
      "(array([2], dtype=int64), array([2], dtype=int64))\n",
      "8\n",
      "(array([2], dtype=int64), array([1], dtype=int64))\n",
      "7\n",
      "(array([2], dtype=int64), array([0], dtype=int64))\n",
      "6\n"
     ]
    }
   ],
   "source": [
    "array1=np.arange(0,9).reshape(3,3)\n",
    "array2=array1.ravel()\n",
    "array3=np.sort(array2)\n",
    "\n",
    "for i in range(1,4):\n",
    "    max_1=array3[-i]\n",
    "    x=np.where(array1==array3[-i])\n",
    "    print(x)\n",
    "    print(max_1)"
   ]
  },
  {
   "cell_type": "code",
   "execution_count": 8,
   "id": "3694faad",
   "metadata": {},
   "outputs": [
    {
     "name": "stdout",
     "output_type": "stream",
     "text": [
      "[[0 1 2]\n",
      " [3 4 5]\n",
      " [6 7 8]]\n",
      "(array([2], dtype=int64), array([2], dtype=int64))\n"
     ]
    }
   ],
   "source": [
    "array1=np.arange(0,9).reshape(3,3)\n",
    "print(array1)\n",
    "max1=np.amax(array1)\n",
    "for i in range(0,3)\n",
    "    x=np.where(array1==max1)\n",
    "    print(x)\n",
    "    array1[x[0][0],[1][0]]=np.amin(array1)\n",
    "    "
   ]
  },
  {
   "cell_type": "code",
   "execution_count": null,
   "id": "235ad936",
   "metadata": {},
   "outputs": [],
   "source": []
  }
 ],
 "metadata": {
  "kernelspec": {
   "display_name": "Python 3 (ipykernel)",
   "language": "python",
   "name": "python3"
  },
  "language_info": {
   "codemirror_mode": {
    "name": "ipython",
    "version": 3
   },
   "file_extension": ".py",
   "mimetype": "text/x-python",
   "name": "python",
   "nbconvert_exporter": "python",
   "pygments_lexer": "ipython3",
   "version": "3.10.1"
  }
 },
 "nbformat": 4,
 "nbformat_minor": 5
}
