{
 "cells": [
  {
   "cell_type": "code",
   "execution_count": 133,
   "metadata": {
    "collapsed": true
   },
   "outputs": [],
   "source": [
    "import numpy as np\n",
    "import pandas as pd\n",
    "from math import ceil\n",
    "from sklearn.cluster import KMeans\n",
    "import re\n",
    "import os\n",
    "import matplotlib.pyplot as plt\n",
    "import matplotlib as mpl\n",
    "from sklearn.model_selection import train_test_split\n",
    "from sklearn.linear_model import LinearRegression as LR\n",
    "from sklearn.metrics import r2_score\n",
    "from datetime import datetime"
   ]
  },
  {
   "cell_type": "code",
   "execution_count": 134,
   "outputs": [
    {
     "data": {
      "text/plain": "            user_id  gender        last_pay_time  pay_num  pay_times  \\\n0  Gx4sJzcQog01UhZL       1  2016-06-26 00:00:00   300.04          2   \n1  kEXrhTiug93DIcLG       1  2016-06-26 00:00:00   300.00          3   \n2  AouXr0EOUtSRdiYK       2  2016-06-19 00:00:00    50.00          4   \n3  Yds7U30hnRZDiLtb       1  2016-06-16 00:00:00   100.00          1   \n4  OFDTSXrhN9Q2mbVw       1  2016-06-27 00:00:00  1000.03         12   \n\n   last_month_traffic  local_trafffic_month  local_caller_time  \\\n0         4096.000000           1392.038508         108.100000   \n1            0.000000          62852.509718         240.100000   \n2            0.000000           1935.242104          27.666667   \n3           37.336425            988.561075          89.900000   \n4         3305.741127              0.000000           0.000000   \n\n   service1_caller_time  service2_caller_time  online_time  age  \n0              0.000000            564.366667           85   31  \n1            355.166667              0.000000           10   30  \n2              0.000000             98.416667           12   25  \n3             74.483333            121.833333          134   44  \n4             35.100000            496.733333           84   31  ",
      "text/html": "<div>\n<style scoped>\n    .dataframe tbody tr th:only-of-type {\n        vertical-align: middle;\n    }\n\n    .dataframe tbody tr th {\n        vertical-align: top;\n    }\n\n    .dataframe thead th {\n        text-align: right;\n    }\n</style>\n<table border=\"1\" class=\"dataframe\">\n  <thead>\n    <tr style=\"text-align: right;\">\n      <th></th>\n      <th>user_id</th>\n      <th>gender</th>\n      <th>last_pay_time</th>\n      <th>pay_num</th>\n      <th>pay_times</th>\n      <th>last_month_traffic</th>\n      <th>local_trafffic_month</th>\n      <th>local_caller_time</th>\n      <th>service1_caller_time</th>\n      <th>service2_caller_time</th>\n      <th>online_time</th>\n      <th>age</th>\n    </tr>\n  </thead>\n  <tbody>\n    <tr>\n      <th>0</th>\n      <td>Gx4sJzcQog01UhZL</td>\n      <td>1</td>\n      <td>2016-06-26 00:00:00</td>\n      <td>300.04</td>\n      <td>2</td>\n      <td>4096.000000</td>\n      <td>1392.038508</td>\n      <td>108.100000</td>\n      <td>0.000000</td>\n      <td>564.366667</td>\n      <td>85</td>\n      <td>31</td>\n    </tr>\n    <tr>\n      <th>1</th>\n      <td>kEXrhTiug93DIcLG</td>\n      <td>1</td>\n      <td>2016-06-26 00:00:00</td>\n      <td>300.00</td>\n      <td>3</td>\n      <td>0.000000</td>\n      <td>62852.509718</td>\n      <td>240.100000</td>\n      <td>355.166667</td>\n      <td>0.000000</td>\n      <td>10</td>\n      <td>30</td>\n    </tr>\n    <tr>\n      <th>2</th>\n      <td>AouXr0EOUtSRdiYK</td>\n      <td>2</td>\n      <td>2016-06-19 00:00:00</td>\n      <td>50.00</td>\n      <td>4</td>\n      <td>0.000000</td>\n      <td>1935.242104</td>\n      <td>27.666667</td>\n      <td>0.000000</td>\n      <td>98.416667</td>\n      <td>12</td>\n      <td>25</td>\n    </tr>\n    <tr>\n      <th>3</th>\n      <td>Yds7U30hnRZDiLtb</td>\n      <td>1</td>\n      <td>2016-06-16 00:00:00</td>\n      <td>100.00</td>\n      <td>1</td>\n      <td>37.336425</td>\n      <td>988.561075</td>\n      <td>89.900000</td>\n      <td>74.483333</td>\n      <td>121.833333</td>\n      <td>134</td>\n      <td>44</td>\n    </tr>\n    <tr>\n      <th>4</th>\n      <td>OFDTSXrhN9Q2mbVw</td>\n      <td>1</td>\n      <td>2016-06-27 00:00:00</td>\n      <td>1000.03</td>\n      <td>12</td>\n      <td>3305.741127</td>\n      <td>0.000000</td>\n      <td>0.000000</td>\n      <td>35.100000</td>\n      <td>496.733333</td>\n      <td>84</td>\n      <td>31</td>\n    </tr>\n  </tbody>\n</table>\n</div>"
     },
     "execution_count": 134,
     "metadata": {},
     "output_type": "execute_result"
    }
   ],
   "source": [
    "datafile='E:\\python大数据\\RFM.xlsx'\n",
    "data=pd.read_excel(datafile)\n",
    "data.head()"
   ],
   "metadata": {
    "collapsed": false,
    "pycharm": {
     "name": "#%%\n"
    }
   }
  },
  {
   "cell_type": "code",
   "execution_count": 135,
   "outputs": [
    {
     "data": {
      "text/plain": "(301, 12)"
     },
     "execution_count": 135,
     "metadata": {},
     "output_type": "execute_result"
    }
   ],
   "source": [
    "data.shape#返回行数列数"
   ],
   "metadata": {
    "collapsed": false,
    "pycharm": {
     "name": "#%%\n"
    }
   }
  },
  {
   "cell_type": "code",
   "execution_count": 136,
   "outputs": [
    {
     "data": {
      "text/plain": "           gender      pay_num   pay_times  last_month_traffic  \\\ncount  301.000000   301.000000  301.000000          301.000000   \nmean     1.199336   119.214518    1.990033          447.762999   \nstd      0.496789   148.409316    1.519836         1122.077105   \nmin      0.000000     0.000000    0.000000            0.000000   \n25%      1.000000    42.000000    1.000000            0.000000   \n50%      1.000000    80.000000    2.000000            0.000000   \n75%      1.000000   150.000000    2.000000          500.000000   \nmax      2.000000  1477.600000   12.000000        11264.000000   \n\n       local_trafffic_month  local_caller_time  service1_caller_time  \\\ncount            301.000000         301.000000            301.000000   \nmean            6065.336874          47.652326             33.913234   \nstd            11290.348491          85.436413             81.736976   \nmin                0.000000           0.000000              0.000000   \n25%               22.655023           0.000000              0.000000   \n50%             1483.326315           7.883333              0.000000   \n75%             5810.480609          58.566667             26.733333   \nmax            75701.775427         567.900000            675.650000   \n\n       service2_caller_time  online_time         age  \ncount            301.000000   301.000000  301.000000  \nmean              95.810742    39.813953   31.215947  \nstd              140.865125    44.629198   12.230149  \nmin                0.000000     4.000000    0.000000  \n25%                0.000000    10.000000   24.000000  \n50%               28.566667    17.000000   30.000000  \n75%              158.033333    59.000000   39.000000  \nmax              809.616667   249.000000   70.000000  ",
      "text/html": "<div>\n<style scoped>\n    .dataframe tbody tr th:only-of-type {\n        vertical-align: middle;\n    }\n\n    .dataframe tbody tr th {\n        vertical-align: top;\n    }\n\n    .dataframe thead th {\n        text-align: right;\n    }\n</style>\n<table border=\"1\" class=\"dataframe\">\n  <thead>\n    <tr style=\"text-align: right;\">\n      <th></th>\n      <th>gender</th>\n      <th>pay_num</th>\n      <th>pay_times</th>\n      <th>last_month_traffic</th>\n      <th>local_trafffic_month</th>\n      <th>local_caller_time</th>\n      <th>service1_caller_time</th>\n      <th>service2_caller_time</th>\n      <th>online_time</th>\n      <th>age</th>\n    </tr>\n  </thead>\n  <tbody>\n    <tr>\n      <th>count</th>\n      <td>301.000000</td>\n      <td>301.000000</td>\n      <td>301.000000</td>\n      <td>301.000000</td>\n      <td>301.000000</td>\n      <td>301.000000</td>\n      <td>301.000000</td>\n      <td>301.000000</td>\n      <td>301.000000</td>\n      <td>301.000000</td>\n    </tr>\n    <tr>\n      <th>mean</th>\n      <td>1.199336</td>\n      <td>119.214518</td>\n      <td>1.990033</td>\n      <td>447.762999</td>\n      <td>6065.336874</td>\n      <td>47.652326</td>\n      <td>33.913234</td>\n      <td>95.810742</td>\n      <td>39.813953</td>\n      <td>31.215947</td>\n    </tr>\n    <tr>\n      <th>std</th>\n      <td>0.496789</td>\n      <td>148.409316</td>\n      <td>1.519836</td>\n      <td>1122.077105</td>\n      <td>11290.348491</td>\n      <td>85.436413</td>\n      <td>81.736976</td>\n      <td>140.865125</td>\n      <td>44.629198</td>\n      <td>12.230149</td>\n    </tr>\n    <tr>\n      <th>min</th>\n      <td>0.000000</td>\n      <td>0.000000</td>\n      <td>0.000000</td>\n      <td>0.000000</td>\n      <td>0.000000</td>\n      <td>0.000000</td>\n      <td>0.000000</td>\n      <td>0.000000</td>\n      <td>4.000000</td>\n      <td>0.000000</td>\n    </tr>\n    <tr>\n      <th>25%</th>\n      <td>1.000000</td>\n      <td>42.000000</td>\n      <td>1.000000</td>\n      <td>0.000000</td>\n      <td>22.655023</td>\n      <td>0.000000</td>\n      <td>0.000000</td>\n      <td>0.000000</td>\n      <td>10.000000</td>\n      <td>24.000000</td>\n    </tr>\n    <tr>\n      <th>50%</th>\n      <td>1.000000</td>\n      <td>80.000000</td>\n      <td>2.000000</td>\n      <td>0.000000</td>\n      <td>1483.326315</td>\n      <td>7.883333</td>\n      <td>0.000000</td>\n      <td>28.566667</td>\n      <td>17.000000</td>\n      <td>30.000000</td>\n    </tr>\n    <tr>\n      <th>75%</th>\n      <td>1.000000</td>\n      <td>150.000000</td>\n      <td>2.000000</td>\n      <td>500.000000</td>\n      <td>5810.480609</td>\n      <td>58.566667</td>\n      <td>26.733333</td>\n      <td>158.033333</td>\n      <td>59.000000</td>\n      <td>39.000000</td>\n    </tr>\n    <tr>\n      <th>max</th>\n      <td>2.000000</td>\n      <td>1477.600000</td>\n      <td>12.000000</td>\n      <td>11264.000000</td>\n      <td>75701.775427</td>\n      <td>567.900000</td>\n      <td>675.650000</td>\n      <td>809.616667</td>\n      <td>249.000000</td>\n      <td>70.000000</td>\n    </tr>\n  </tbody>\n</table>\n</div>"
     },
     "execution_count": 136,
     "metadata": {},
     "output_type": "execute_result"
    }
   ],
   "source": [
    "data.describe()#两个核心数据结构的统计变量"
   ],
   "metadata": {
    "collapsed": false,
    "pycharm": {
     "name": "#%%\n"
    }
   }
  },
  {
   "cell_type": "code",
   "execution_count": 137,
   "outputs": [
    {
     "data": {
      "text/plain": "user_id                 False\ngender                   True\nlast_pay_time           False\npay_num                  True\npay_times                True\nlast_month_traffic       True\nlocal_trafffic_month     True\nlocal_caller_time        True\nservice1_caller_time     True\nservice2_caller_time     True\nonline_time             False\nage                      True\ndtype: bool"
     },
     "execution_count": 137,
     "metadata": {},
     "output_type": "execute_result"
    }
   ],
   "source": [
    "(data == 0).any()"
   ],
   "metadata": {
    "collapsed": false,
    "pycharm": {
     "name": "#%%\n"
    }
   }
  },
  {
   "cell_type": "code",
   "execution_count": 138,
   "outputs": [
    {
     "name": "stdout",
     "output_type": "stream",
     "text": [
      "user_id 0\n",
      "gender 13\n",
      "last_pay_time 0\n",
      "pay_num 2\n",
      "pay_times 6\n",
      "last_month_traffic 205\n",
      "local_trafffic_month 68\n",
      "local_caller_time 92\n",
      "service1_caller_time 164\n",
      "service2_caller_time 101\n",
      "online_time 0\n",
      "age 12\n"
     ]
    }
   ],
   "source": [
    "for col in data.columns:\n",
    "    #count从0开始累加\n",
    "    count = 0\n",
    "    #如果值为0，count累加\n",
    "    count = [count + 1 for x in data[col] if x == 0]\n",
    "    #输出该列的0值个数\n",
    "    print(col+' '+str(sum(count)))"
   ],
   "metadata": {
    "collapsed": false,
    "pycharm": {
     "name": "#%%\n"
    }
   }
  },
  {
   "cell_type": "code",
   "execution_count": 139,
   "outputs": [
    {
     "data": {
      "text/plain": "(285, 12)"
     },
     "execution_count": 139,
     "metadata": {},
     "output_type": "execute_result"
    }
   ],
   "source": [
    "index3 = ((data[\"gender\"] == 0) |(data[\"age\"] == 0)) | ((data[\"pay_num\"] == 0) | (data[\"pay_times\"] == 0))\n",
    "#删除13条记录\n",
    "data = data.drop(data[index3].index)\n",
    "data.shape"
   ],
   "metadata": {
    "collapsed": false,
    "pycharm": {
     "name": "#%%\n"
    }
   }
  },
  {
   "cell_type": "code",
   "execution_count": 140,
   "outputs": [
    {
     "data": {
      "text/plain": "0"
     },
     "execution_count": 140,
     "metadata": {},
     "output_type": "execute_result"
    }
   ],
   "source": [
    "data.duplicated().sum()"
   ],
   "metadata": {
    "collapsed": false,
    "pycharm": {
     "name": "#%%\n"
    }
   }
  },
  {
   "cell_type": "code",
   "execution_count": 141,
   "outputs": [
    {
     "data": {
      "text/plain": "2"
     },
     "execution_count": 141,
     "metadata": {},
     "output_type": "execute_result"
    }
   ],
   "source": [
    "data.duplicated(['user_id']).sum()"
   ],
   "metadata": {
    "collapsed": false,
    "pycharm": {
     "name": "#%%\n"
    }
   }
  },
  {
   "cell_type": "code",
   "execution_count": 142,
   "outputs": [
    {
     "data": {
      "text/plain": "(283, 12)"
     },
     "execution_count": 142,
     "metadata": {},
     "output_type": "execute_result"
    }
   ],
   "source": [
    "data=data.drop_duplicates(['user_id'])\n",
    "data.shape"
   ],
   "metadata": {
    "collapsed": false,
    "pycharm": {
     "name": "#%%\n"
    }
   }
  },
  {
   "cell_type": "code",
   "execution_count": 143,
   "outputs": [
    {
     "data": {
      "text/plain": "               用户id     消费金额  消费次数             最后一次消费时间\n0  Gx4sJzcQog01UhZL   300.04     2  2016-06-26 00:00:00\n1  kEXrhTiug93DIcLG   300.00     3  2016-06-26 00:00:00\n2  AouXr0EOUtSRdiYK    50.00     4  2016-06-19 00:00:00\n3  Yds7U30hnRZDiLtb   100.00     1  2016-06-16 00:00:00\n4  OFDTSXrhN9Q2mbVw  1000.03    12  2016-06-27 00:00:00",
      "text/html": "<div>\n<style scoped>\n    .dataframe tbody tr th:only-of-type {\n        vertical-align: middle;\n    }\n\n    .dataframe tbody tr th {\n        vertical-align: top;\n    }\n\n    .dataframe thead th {\n        text-align: right;\n    }\n</style>\n<table border=\"1\" class=\"dataframe\">\n  <thead>\n    <tr style=\"text-align: right;\">\n      <th></th>\n      <th>用户id</th>\n      <th>消费金额</th>\n      <th>消费次数</th>\n      <th>最后一次消费时间</th>\n    </tr>\n  </thead>\n  <tbody>\n    <tr>\n      <th>0</th>\n      <td>Gx4sJzcQog01UhZL</td>\n      <td>300.04</td>\n      <td>2</td>\n      <td>2016-06-26 00:00:00</td>\n    </tr>\n    <tr>\n      <th>1</th>\n      <td>kEXrhTiug93DIcLG</td>\n      <td>300.00</td>\n      <td>3</td>\n      <td>2016-06-26 00:00:00</td>\n    </tr>\n    <tr>\n      <th>2</th>\n      <td>AouXr0EOUtSRdiYK</td>\n      <td>50.00</td>\n      <td>4</td>\n      <td>2016-06-19 00:00:00</td>\n    </tr>\n    <tr>\n      <th>3</th>\n      <td>Yds7U30hnRZDiLtb</td>\n      <td>100.00</td>\n      <td>1</td>\n      <td>2016-06-16 00:00:00</td>\n    </tr>\n    <tr>\n      <th>4</th>\n      <td>OFDTSXrhN9Q2mbVw</td>\n      <td>1000.03</td>\n      <td>12</td>\n      <td>2016-06-27 00:00:00</td>\n    </tr>\n  </tbody>\n</table>\n</div>"
     },
     "execution_count": 143,
     "metadata": {},
     "output_type": "execute_result"
    }
   ],
   "source": [
    "#筛选属性列\n",
    "data_select=data[['user_id','pay_num','pay_times','last_pay_time']]\n",
    "data_select.head()\n",
    "\n",
    "#重命名列名\n",
    "data_select.columns = ['用户id','消费金额','消费次数','最后一次消费时间']\n",
    "data_select.head()"
   ],
   "metadata": {
    "collapsed": false,
    "pycharm": {
     "name": "#%%\n"
    }
   }
  },
  {
   "cell_type": "code",
   "execution_count": 144,
   "outputs": [
    {
     "name": "stdout",
     "output_type": "stream",
     "text": [
      "2016-07-20 00:00:00\n",
      "2016-06-01 00:00:00\n"
     ]
    }
   ],
   "source": [
    "\n",
    "\n",
    "#生成起始日期和提数日日期\n",
    "exdata_date = datetime(2016,7,20)\n",
    "start_date = datetime(2016,6,1)\n",
    "\n",
    "#输出两个日期\n",
    "print(exdata_date)\n",
    "print(start_date)"
   ],
   "metadata": {
    "collapsed": false,
    "pycharm": {
     "name": "#%%\n"
    }
   }
  },
  {
   "cell_type": "code",
   "execution_count": 145,
   "outputs": [
    {
     "name": "stderr",
     "output_type": "stream",
     "text": [
      "C:\\Users\\w\\AppData\\Local\\Temp\\ipykernel_16272\\2849470151.py:2: SettingWithCopyWarning: \n",
      "A value is trying to be set on a copy of a slice from a DataFrame.\n",
      "Try using .loc[row_indexer,col_indexer] = value instead\n",
      "\n",
      "See the caveats in the documentation: https://pandas.pydata.org/pandas-docs/stable/user_guide/indexing.html#returning-a-view-versus-a-copy\n",
      "  data_select['最后一次消费时间'] = pd.to_datetime(data_select['最后一次消费时间'])\n",
      "C:\\Users\\w\\AppData\\Local\\Temp\\ipykernel_16272\\2849470151.py:5: SettingWithCopyWarning: \n",
      "A value is trying to be set on a copy of a slice from a DataFrame.\n",
      "Try using .loc[row_indexer,col_indexer] = value instead\n",
      "\n",
      "See the caveats in the documentation: https://pandas.pydata.org/pandas-docs/stable/user_guide/indexing.html#returning-a-view-versus-a-copy\n",
      "  data_select['R'] = exdata_date - data_select['最后一次消费时间']\n"
     ]
    },
    {
     "data": {
      "text/plain": "0     2016-06-26\n1     2016-06-26\n2     2016-06-19\n3     2016-06-16\n4     2016-06-27\n         ...    \n296   2016-06-19\n297   2016-06-24\n298   2016-06-30\n299   2016-06-04\n300   2016-07-05\nName: 最后一次消费时间, Length: 283, dtype: datetime64[ns]"
     },
     "execution_count": 145,
     "metadata": {},
     "output_type": "execute_result"
    }
   ],
   "source": [
    "#转化为可计算的日期类型数据\n",
    "data_select['最后一次消费时间'] = pd.to_datetime(data_select['最后一次消费时间'])\n",
    "\n",
    "#计算R（最后一次消费距提数日时间）\n",
    "data_select['R'] = exdata_date - data_select['最后一次消费时间']\n",
    "data_select['最后一次消费时间']"
   ],
   "metadata": {
    "collapsed": false,
    "pycharm": {
     "name": "#%%\n"
    }
   }
  },
  {
   "cell_type": "code",
   "execution_count": 146,
   "outputs": [
    {
     "data": {
      "text/plain": "[1,\n 1,\n 1,\n 1,\n 1,\n 1,\n 1,\n 1,\n 1,\n 1,\n 1,\n 1,\n 1,\n 1,\n 1,\n 1,\n 1,\n 1,\n 1,\n 1,\n 1,\n 1,\n 1,\n 2,\n 2,\n 1,\n 1,\n 1,\n 1,\n 1,\n 1,\n 1,\n 1,\n 1,\n 1,\n 2,\n 1,\n 1,\n 1,\n 2,\n 1,\n 1,\n 1,\n 1,\n 1,\n 2,\n 1,\n 1,\n 1,\n 1,\n 2,\n 1,\n 1,\n 1,\n 1,\n 1,\n 1,\n 2,\n 1,\n 1,\n 1,\n 1,\n 1,\n 1,\n 1,\n 1,\n 1,\n 1,\n 1,\n 1,\n 1,\n 1,\n 1,\n 2,\n 2,\n 1,\n 2,\n 1,\n 2,\n 1,\n 2,\n 1,\n 1,\n 2,\n 2,\n 2,\n 2,\n 2,\n 2,\n 1,\n 1,\n 1,\n 2,\n 2,\n 2,\n 2,\n 2,\n 1,\n 1,\n 1,\n 2,\n 2,\n 1,\n 2,\n 2,\n 1,\n 1,\n 1,\n 1,\n 1,\n 1,\n 2,\n 2,\n 2,\n 2,\n 2,\n 2,\n 1,\n 1,\n 1,\n 1,\n 1,\n 1,\n 1,\n 1,\n 1,\n 1,\n 1,\n 1,\n 1,\n 1,\n 1,\n 1,\n 1,\n 1,\n 1,\n 1,\n 1,\n 1,\n 2,\n 2,\n 2,\n 2,\n 1,\n 1,\n 1,\n 2,\n 2,\n 1,\n 2,\n 2,\n 2,\n 1,\n 1,\n 2,\n 1,\n 1,\n 2,\n 1,\n 2,\n 1,\n 1,\n 2,\n 2,\n 1,\n 1,\n 1,\n 2,\n 1,\n 2,\n 1,\n 2,\n 1,\n 1,\n 2,\n 1,\n 1,\n 2,\n 1,\n 1,\n 1,\n 2,\n 1,\n 2,\n 1,\n 1,\n 1,\n 2,\n 1,\n 2,\n 2,\n 1,\n 1,\n 1,\n 1,\n 1,\n 1,\n 2,\n 1,\n 1,\n 1,\n 1,\n 1,\n 1,\n 1,\n 1,\n 1,\n 1,\n 1,\n 1,\n 1,\n 1,\n 1,\n 1,\n 1,\n 1,\n 1,\n 2,\n 2,\n 1,\n 1,\n 1,\n 1,\n 1,\n 2,\n 2,\n 1,\n 2,\n 2,\n 1,\n 1,\n 2,\n 1,\n 1,\n 2,\n 1,\n 2,\n 2,\n 2,\n 1,\n 1,\n 1,\n 1,\n 2,\n 1,\n 1,\n 1,\n 1,\n 1,\n 2,\n 2,\n 2,\n 2,\n 1,\n 1,\n 1,\n 1,\n 1,\n 0,\n 2,\n 1,\n 1,\n 0,\n 2,\n 1,\n 1,\n 2,\n 1,\n 1,\n 2,\n 2,\n 2,\n 1,\n 1,\n 1,\n 1,\n 1,\n 0,\n 1,\n 1,\n 1,\n 1,\n 2]"
     },
     "execution_count": 146,
     "metadata": {},
     "output_type": "execute_result"
    }
   ],
   "source": [
    "\n",
    "\n",
    "#计算最后一次消费时间和起始日期的天数差\n",
    "period_day = data_select['最后一次消费时间'] - start_date\n",
    "#创建空列表统计月数\n",
    "period_month = []\n",
    "\n",
    "#遍历天数，向上取整生成月数\n",
    "for i in period_day:\n",
    "    period_month.append(ceil(i.days/30))\n",
    "\n",
    "period_month"
   ],
   "metadata": {
    "collapsed": false,
    "pycharm": {
     "name": "#%%\n"
    }
   }
  },
  {
   "cell_type": "code",
   "execution_count": 147,
   "outputs": [
    {
     "name": "stdout",
     "output_type": "stream",
     "text": [
      "[1, 1, 1, 1, 1, 1, 1, 1, 1, 1, 1, 1, 1, 1, 1, 1, 1, 1, 1, 1, 1, 1, 1, 2, 2, 1, 1, 1, 1, 1, 1, 1, 1, 1, 1, 2, 1, 1, 1, 2, 1, 1, 1, 1, 1, 2, 1, 1, 1, 1, 2, 1, 1, 1, 1, 1, 1, 2, 1, 1, 1, 1, 1, 1, 1, 1, 1, 1, 1, 1, 1, 1, 1, 2, 2, 1, 2, 1, 2, 1, 2, 1, 1, 2, 2, 2, 2, 2, 2, 1, 1, 1, 2, 2, 2, 2, 2, 1, 1, 1, 2, 2, 1, 2, 2, 1, 1, 1, 1, 1, 1, 2, 2, 2, 2, 2, 2, 1, 1, 1, 1, 1, 1, 1, 1, 1, 1, 1, 1, 1, 1, 1, 1, 1, 1, 1, 1, 1, 1, 2, 2, 2, 2, 1, 1, 1, 2, 2, 1, 2, 2, 2, 1, 1, 2, 1, 1, 2, 1, 2, 1, 1, 2, 2, 1, 1, 1, 2, 1, 2, 1, 2, 1, 1, 2, 1, 1, 2, 1, 1, 1, 2, 1, 2, 1, 1, 1, 2, 1, 2, 2, 1, 1, 1, 1, 1, 1, 2, 1, 1, 1, 1, 1, 1, 1, 1, 1, 1, 1, 1, 1, 1, 1, 1, 1, 1, 1, 2, 2, 1, 1, 1, 1, 1, 2, 2, 1, 2, 2, 1, 1, 2, 1, 1, 2, 1, 2, 2, 2, 1, 1, 1, 1, 2, 1, 1, 1, 1, 1, 2, 2, 2, 2, 1, 1, 1, 1, 1, 0, 2, 1, 1, 0, 2, 1, 1, 2, 1, 1, 2, 2, 2, 1, 1, 1, 1, 1, 0, 1, 1, 1, 1, 2]\n",
      "##############################################################################################################\n",
      "[1, 1, 1, 1, 1, 1, 1, 1, 1, 1, 1, 1, 1, 1, 1, 1, 1, 1, 1, 1, 1, 1, 1, 2, 2, 1, 1, 1, 1, 1, 1, 1, 1, 1, 1, 2, 1, 1, 1, 2, 1, 1, 1, 1, 1, 2, 1, 1, 1, 1, 2, 1, 1, 1, 1, 1, 1, 2, 1, 1, 1, 1, 1, 1, 1, 1, 1, 1, 1, 1, 1, 1, 1, 2, 2, 1, 2, 1, 2, 1, 2, 1, 1, 2, 2, 2, 2, 2, 2, 1, 1, 1, 2, 2, 2, 2, 2, 1, 1, 1, 2, 2, 1, 2, 2, 1, 1, 1, 1, 1, 1, 2, 2, 2, 2, 2, 2, 1, 1, 1, 1, 1, 1, 1, 1, 1, 1, 1, 1, 1, 1, 1, 1, 1, 1, 1, 1, 1, 1, 2, 2, 2, 2, 1, 1, 1, 2, 2, 1, 2, 2, 2, 1, 1, 2, 1, 1, 2, 1, 2, 1, 1, 2, 2, 1, 1, 1, 2, 1, 2, 1, 2, 1, 1, 2, 1, 1, 2, 1, 1, 1, 2, 1, 2, 1, 1, 1, 2, 1, 2, 2, 1, 1, 1, 1, 1, 1, 2, 1, 1, 1, 1, 1, 1, 1, 1, 1, 1, 1, 1, 1, 1, 1, 1, 1, 1, 1, 2, 2, 1, 1, 1, 1, 1, 2, 2, 1, 2, 2, 1, 1, 2, 1, 1, 2, 1, 2, 2, 2, 1, 1, 1, 1, 2, 1, 1, 1, 1, 1, 2, 2, 2, 2, 1, 1, 1, 1, 1, 1, 2, 1, 1, 1, 2, 1, 1, 2, 1, 1, 2, 2, 2, 1, 1, 1, 1, 1, 1, 1, 1, 1, 1, 2]\n"
     ]
    }
   ],
   "source": [
    "#第一次输出月数统计\n",
    "print(period_month)\n",
    "\n",
    "#分割线\n",
    "print(\"#\"*110)\n",
    "\n",
    "#遍历清除0值\n",
    "for i in range(0,len(period_month)):\n",
    "#如果有月份值为0，令其为1\n",
    "    if period_month[i] == 0:\n",
    "        period_month[i]=1\n",
    "\n",
    "#第二次输出月数统计\n",
    "print(period_month)\n"
   ],
   "metadata": {
    "collapsed": false,
    "pycharm": {
     "name": "#%%\n"
    }
   }
  },
  {
   "cell_type": "code",
   "execution_count": 148,
   "outputs": [
    {
     "name": "stderr",
     "output_type": "stream",
     "text": [
      "C:\\Users\\w\\AppData\\Local\\Temp\\ipykernel_16272\\1684445261.py:1: SettingWithCopyWarning: \n",
      "A value is trying to be set on a copy of a slice from a DataFrame.\n",
      "Try using .loc[row_indexer,col_indexer] = value instead\n",
      "\n",
      "See the caveats in the documentation: https://pandas.pydata.org/pandas-docs/stable/user_guide/indexing.html#returning-a-view-versus-a-copy\n",
      "  data_select['F(月均消费次数)']=data_select['消费次数']/period_month#月均消费次数\n",
      "C:\\Users\\w\\AppData\\Local\\Temp\\ipykernel_16272\\1684445261.py:2: SettingWithCopyWarning: \n",
      "A value is trying to be set on a copy of a slice from a DataFrame.\n",
      "Try using .loc[row_indexer,col_indexer] = value instead\n",
      "\n",
      "See the caveats in the documentation: https://pandas.pydata.org/pandas-docs/stable/user_guide/indexing.html#returning-a-view-versus-a-copy\n",
      "  data_select['M(月均消费金额)']=data_select['消费金额']/period_month#月均消费金额\n"
     ]
    },
    {
     "data": {
      "text/plain": "                 用户id     消费金额  消费次数   最后一次消费时间       R  F(月均消费次数)  M(月均消费金额)\n0    Gx4sJzcQog01UhZL   300.04     2 2016-06-26 24 days        2.0     300.04\n1    kEXrhTiug93DIcLG   300.00     3 2016-06-26 24 days        3.0     300.00\n2    AouXr0EOUtSRdiYK    50.00     4 2016-06-19 31 days        4.0      50.00\n3    Yds7U30hnRZDiLtb   100.00     1 2016-06-16 34 days        1.0     100.00\n4    OFDTSXrhN9Q2mbVw  1000.03    12 2016-06-27 23 days       12.0    1000.03\n..                ...      ...   ...        ...     ...        ...        ...\n296  qpXPSkahTJ4QnKCO   200.07     3 2016-06-19 31 days        3.0     200.07\n297  LPdyxMrDVoa4K5cC    50.00     1 2016-06-24 26 days        1.0      50.00\n298  pBUMdi2P8NhTYcj3    30.00     1 2016-06-30 20 days        1.0      30.00\n299  5aNKrc6jFdfZvqus   130.00     4 2016-06-04 46 days        4.0     130.00\n300  Qew6MoZPA9rcCyqV  1000.00    10 2016-07-05 15 days        5.0     500.00\n\n[283 rows x 7 columns]",
      "text/html": "<div>\n<style scoped>\n    .dataframe tbody tr th:only-of-type {\n        vertical-align: middle;\n    }\n\n    .dataframe tbody tr th {\n        vertical-align: top;\n    }\n\n    .dataframe thead th {\n        text-align: right;\n    }\n</style>\n<table border=\"1\" class=\"dataframe\">\n  <thead>\n    <tr style=\"text-align: right;\">\n      <th></th>\n      <th>用户id</th>\n      <th>消费金额</th>\n      <th>消费次数</th>\n      <th>最后一次消费时间</th>\n      <th>R</th>\n      <th>F(月均消费次数)</th>\n      <th>M(月均消费金额)</th>\n    </tr>\n  </thead>\n  <tbody>\n    <tr>\n      <th>0</th>\n      <td>Gx4sJzcQog01UhZL</td>\n      <td>300.04</td>\n      <td>2</td>\n      <td>2016-06-26</td>\n      <td>24 days</td>\n      <td>2.0</td>\n      <td>300.04</td>\n    </tr>\n    <tr>\n      <th>1</th>\n      <td>kEXrhTiug93DIcLG</td>\n      <td>300.00</td>\n      <td>3</td>\n      <td>2016-06-26</td>\n      <td>24 days</td>\n      <td>3.0</td>\n      <td>300.00</td>\n    </tr>\n    <tr>\n      <th>2</th>\n      <td>AouXr0EOUtSRdiYK</td>\n      <td>50.00</td>\n      <td>4</td>\n      <td>2016-06-19</td>\n      <td>31 days</td>\n      <td>4.0</td>\n      <td>50.00</td>\n    </tr>\n    <tr>\n      <th>3</th>\n      <td>Yds7U30hnRZDiLtb</td>\n      <td>100.00</td>\n      <td>1</td>\n      <td>2016-06-16</td>\n      <td>34 days</td>\n      <td>1.0</td>\n      <td>100.00</td>\n    </tr>\n    <tr>\n      <th>4</th>\n      <td>OFDTSXrhN9Q2mbVw</td>\n      <td>1000.03</td>\n      <td>12</td>\n      <td>2016-06-27</td>\n      <td>23 days</td>\n      <td>12.0</td>\n      <td>1000.03</td>\n    </tr>\n    <tr>\n      <th>...</th>\n      <td>...</td>\n      <td>...</td>\n      <td>...</td>\n      <td>...</td>\n      <td>...</td>\n      <td>...</td>\n      <td>...</td>\n    </tr>\n    <tr>\n      <th>296</th>\n      <td>qpXPSkahTJ4QnKCO</td>\n      <td>200.07</td>\n      <td>3</td>\n      <td>2016-06-19</td>\n      <td>31 days</td>\n      <td>3.0</td>\n      <td>200.07</td>\n    </tr>\n    <tr>\n      <th>297</th>\n      <td>LPdyxMrDVoa4K5cC</td>\n      <td>50.00</td>\n      <td>1</td>\n      <td>2016-06-24</td>\n      <td>26 days</td>\n      <td>1.0</td>\n      <td>50.00</td>\n    </tr>\n    <tr>\n      <th>298</th>\n      <td>pBUMdi2P8NhTYcj3</td>\n      <td>30.00</td>\n      <td>1</td>\n      <td>2016-06-30</td>\n      <td>20 days</td>\n      <td>1.0</td>\n      <td>30.00</td>\n    </tr>\n    <tr>\n      <th>299</th>\n      <td>5aNKrc6jFdfZvqus</td>\n      <td>130.00</td>\n      <td>4</td>\n      <td>2016-06-04</td>\n      <td>46 days</td>\n      <td>4.0</td>\n      <td>130.00</td>\n    </tr>\n    <tr>\n      <th>300</th>\n      <td>Qew6MoZPA9rcCyqV</td>\n      <td>1000.00</td>\n      <td>10</td>\n      <td>2016-07-05</td>\n      <td>15 days</td>\n      <td>5.0</td>\n      <td>500.00</td>\n    </tr>\n  </tbody>\n</table>\n<p>283 rows × 7 columns</p>\n</div>"
     },
     "execution_count": 148,
     "metadata": {},
     "output_type": "execute_result"
    }
   ],
   "source": [
    "data_select['F(月均消费次数)']=data_select['消费次数']/period_month#月均消费次数\n",
    "data_select['M(月均消费金额)']=data_select['消费金额']/period_month#月均消费金额\n",
    "data_select"
   ],
   "metadata": {
    "collapsed": false,
    "pycharm": {
     "name": "#%%\n"
    }
   }
  },
  {
   "cell_type": "code",
   "execution_count": 149,
   "outputs": [
    {
     "name": "stderr",
     "output_type": "stream",
     "text": [
      "C:\\Users\\w\\AppData\\Local\\Temp\\ipykernel_16272\\1728647155.py:4: SettingWithCopyWarning: \n",
      "A value is trying to be set on a copy of a slice from a DataFrame.\n",
      "Try using .loc[row_indexer,col_indexer] = value instead\n",
      "\n",
      "See the caveats in the documentation: https://pandas.pydata.org/pandas-docs/stable/user_guide/indexing.html#returning-a-view-versus-a-copy\n",
      "  data_select.R=data_select.R.map(lambda x : float(x.days))\n"
     ]
    },
    {
     "data": {
      "text/plain": "     R(标准化)    F(标准化)    M(标准化)              用户id\n0 -0.020365  0.169045  1.452731  Gx4sJzcQog01UhZL\n1 -0.020365  0.867433  1.452436  kEXrhTiug93DIcLG\n2  0.610008  1.565821 -0.387261  AouXr0EOUtSRdiYK\n3  0.880169 -0.529344 -0.019322  Yds7U30hnRZDiLtb\n4 -0.110419  7.152927  6.603810  OFDTSXrhN9Q2mbVw",
      "text/html": "<div>\n<style scoped>\n    .dataframe tbody tr th:only-of-type {\n        vertical-align: middle;\n    }\n\n    .dataframe tbody tr th {\n        vertical-align: top;\n    }\n\n    .dataframe thead th {\n        text-align: right;\n    }\n</style>\n<table border=\"1\" class=\"dataframe\">\n  <thead>\n    <tr style=\"text-align: right;\">\n      <th></th>\n      <th>R(标准化)</th>\n      <th>F(标准化)</th>\n      <th>M(标准化)</th>\n      <th>用户id</th>\n    </tr>\n  </thead>\n  <tbody>\n    <tr>\n      <th>0</th>\n      <td>-0.020365</td>\n      <td>0.169045</td>\n      <td>1.452731</td>\n      <td>Gx4sJzcQog01UhZL</td>\n    </tr>\n    <tr>\n      <th>1</th>\n      <td>-0.020365</td>\n      <td>0.867433</td>\n      <td>1.452436</td>\n      <td>kEXrhTiug93DIcLG</td>\n    </tr>\n    <tr>\n      <th>2</th>\n      <td>0.610008</td>\n      <td>1.565821</td>\n      <td>-0.387261</td>\n      <td>AouXr0EOUtSRdiYK</td>\n    </tr>\n    <tr>\n      <th>3</th>\n      <td>0.880169</td>\n      <td>-0.529344</td>\n      <td>-0.019322</td>\n      <td>Yds7U30hnRZDiLtb</td>\n    </tr>\n    <tr>\n      <th>4</th>\n      <td>-0.110419</td>\n      <td>7.152927</td>\n      <td>6.603810</td>\n      <td>OFDTSXrhN9Q2mbVw</td>\n    </tr>\n  </tbody>\n</table>\n</div>"
     },
     "execution_count": 149,
     "metadata": {},
     "output_type": "execute_result"
    }
   ],
   "source": [
    "#标准化处理\n",
    "user_id=data_select.用户id\n",
    "data_select=data_select[['R','F(月均消费次数)','M(月均消费金额)']]\n",
    "data_select.R=data_select.R.map(lambda x : float(x.days))\n",
    "data_select= (data_select- data_select.mean())/data_select.std()\n",
    "\n",
    "#重命名列名\n",
    "data_select.columns = ['R(标准化)','F(标准化)','M(标准化)']\n",
    "data_select=data_select.join(user_id)\n",
    "data_select.head()"
   ],
   "metadata": {
    "collapsed": false,
    "pycharm": {
     "name": "#%%\n"
    }
   }
  },
  {
   "cell_type": "code",
   "execution_count": 150,
   "outputs": [],
   "source": [
    "data_select.to_excel('E:\\python大数据\\class13.xlsx')"
   ],
   "metadata": {
    "collapsed": false,
    "pycharm": {
     "name": "#%%\n"
    }
   }
  }
 ],
 "metadata": {
  "kernelspec": {
   "display_name": "Python 3",
   "language": "python",
   "name": "python3"
  },
  "language_info": {
   "codemirror_mode": {
    "name": "ipython",
    "version": 2
   },
   "file_extension": ".py",
   "mimetype": "text/x-python",
   "name": "python",
   "nbconvert_exporter": "python",
   "pygments_lexer": "ipython2",
   "version": "2.7.6"
  }
 },
 "nbformat": 4,
 "nbformat_minor": 0
}