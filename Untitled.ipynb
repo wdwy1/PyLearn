{
 "cells": [
  {
   "cell_type": "code",
   "execution_count": 1,
   "id": "9d6d765f",
   "metadata": {},
   "outputs": [
    {
     "name": "stdout",
     "output_type": "stream",
     "text": [
      "[1 2 3 4]\n",
      "4\n",
      "[2 3 4]\n",
      "[1 2]\n",
      "[1 3]\n"
     ]
    }
   ],
   "source": [
    "import numpy as np\n",
    "\n",
    "array1 = np.array([1, 2, 3, 4])\n",
    "print(array1[:])\n",
    "print(array1[-1])\n",
    "print(array1[1:])\n",
    "print(array1[0:2])\n",
    "print(array1[::2])"
   ]
  },
  {
   "cell_type": "code",
   "execution_count": 15,
   "id": "8ad93210",
   "metadata": {},
   "outputs": [
    {
     "name": "stdout",
     "output_type": "stream",
     "text": [
      "[[0 1 2]\n",
      " [3 4 5]\n",
      " [6 7 8]]\n",
      "----------------------\n",
      "[[0 1 2]]\n",
      "----------------------\n",
      "[[0]]\n",
      "----------------------\n",
      "[0]\n"
     ]
    }
   ],
   "source": [
    "array2=np.arange(0,9).reshape(3,3)\n",
    "print(array2)\n",
    "print(\"----------------------\")\n",
    "print(array2[:1])#二维\n",
    "print(\"----------------------\")\n",
    "print(array2[:1,:1])#二维\n",
    "print(\"----------------------\")\n",
    "print(array2[:1,0])#一维"
   ]
  },
  {
   "cell_type": "code",
   "execution_count": 45,
   "id": "84d4add1",
   "metadata": {},
   "outputs": [
    {
     "name": "stdout",
     "output_type": "stream",
     "text": [
      "[[1 2 3]\n",
      " [4 5 6]\n",
      " [7 8 9]]\n",
      "----------------------\n",
      "[[ 2  3  4]\n",
      " [ 5  6  7]\n",
      " [ 8  9 10]]\n",
      "----------------------\n",
      "[[ 3  5  7]\n",
      " [ 9 11 13]\n",
      " [15 17 19]]\n",
      "----------------------\n",
      "[[-1 -1 -1]\n",
      " [-1 -1 -1]\n",
      " [-1 -1 -1]]\n",
      "----------------------\n",
      "[[ 2  6 12]\n",
      " [20 30 42]\n",
      " [56 72 90]]\n",
      "----------------------\n",
      "[[0.5        0.66666667 0.75      ]\n",
      " [0.8        0.83333333 0.85714286]\n",
      " [0.875      0.88888889 0.9       ]]\n"
     ]
    }
   ],
   "source": [
    "array3=np.arange(1,10).reshape(3,3)\n",
    "array4=np.arange(2,11).reshape(3,3)\n",
    "print(array3)\n",
    "print(\"----------------------\")\n",
    "print(array4)\n",
    "print(\"----------------------\")\n",
    "print(array3+array4)\n",
    "print(\"----------------------\")\n",
    "print(array3-array4)\n",
    "print(\"----------------------\")\n",
    "print(array3*array4)\n",
    "print(\"----------------------\")\n",
    "print(array3/array4)"
   ]
  },
  {
   "cell_type": "code",
   "execution_count": 28,
   "id": "44aede2c",
   "metadata": {},
   "outputs": [
    {
     "name": "stdout",
     "output_type": "stream",
     "text": [
      "[1 2 3 4 5 6 7 8 9]\n"
     ]
    }
   ],
   "source": [
    "print(array3.ravel())#转一维函数\n"
   ]
  },
  {
   "cell_type": "code",
   "execution_count": 37,
   "id": "7066f4eb",
   "metadata": {},
   "outputs": [
    {
     "name": "stdout",
     "output_type": "stream",
     "text": [
      "[[ 2  3  4  1  4  7]\n",
      " [ 5  6  7  2  5  8]\n",
      " [ 8  9 10  3  6  9]]\n"
     ]
    }
   ],
   "source": [
    "print(np.concatenate((array4,array3.T),1))#增加行0，增加列1  ,  .T为转置"
   ]
  },
  {
   "cell_type": "code",
   "execution_count": 46,
   "id": "20d8ed38",
   "metadata": {},
   "outputs": [
    {
     "data": {
      "text/plain": [
       "array([[4, 5, 6],\n",
       "       [7, 8, 9]])"
      ]
     },
     "execution_count": 46,
     "metadata": {},
     "output_type": "execute_result"
    }
   ],
   "source": [
    "np.delete(array3,0,0)"
   ]
  },
  {
   "cell_type": "code",
   "execution_count": null,
   "id": "68323805",
   "metadata": {},
   "outputs": [],
   "source": []
  },
  {
   "cell_type": "code",
   "execution_count": null,
   "id": "bdd30c2d",
   "metadata": {},
   "outputs": [],
   "source": []
  }
 ],
 "metadata": {
  "kernelspec": {
   "display_name": "Python 3 (ipykernel)",
   "language": "python",
   "name": "python3"
  },
  "language_info": {
   "codemirror_mode": {
    "name": "ipython",
    "version": 3
   },
   "file_extension": ".py",
   "mimetype": "text/x-python",
   "name": "python",
   "nbconvert_exporter": "python",
   "pygments_lexer": "ipython3",
   "version": "3.10.1"
  }
 },
 "nbformat": 4,
 "nbformat_minor": 5
}