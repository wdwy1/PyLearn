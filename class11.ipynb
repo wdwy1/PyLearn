{
 "cells": [
  {
   "cell_type": "code",
   "execution_count": 15,
   "metadata": {
    "collapsed": true
   },
   "outputs": [],
   "source": [
    "import numpy as np\n",
    "import pandas as pd\n",
    "import re\n",
    "import os"
   ]
  },
  {
   "cell_type": "code",
   "execution_count": 16,
   "outputs": [
    {
     "data": {
      "text/plain": "                     描述       位置信息  区域  \\\n0    嘉裕第六洲龙泽台 4室2厅 280万  嘉裕第六洲龙泽台   崇州   \n1    满2年 中间楼层 套三双卫 随时看房    西蜀御景二期   崇州   \n2      前后中庭 中间楼层 清水房 套三    西蜀御景二期   崇州   \n3    嘉裕第六洲龙泽台 3室2厅 120万  嘉裕第六洲龙泽台   崇州   \n4  嘉裕龙泽台清水套三 户型方正 对小区中庭  嘉裕第六洲龙泽台   崇州   \n\n                                                房屋信息            关注信息    总价  \\\n0        4室2厅 | 223.73平米 | 南 | 毛坯 | 低楼层(共9层)  | 暂无数据  0人关注 / 31天以前发布  280万   \n1  3室2厅 | 128.7平米 | 东南 | 毛坯 | 中楼层(共18层) | 2012年建 ...   15人关注 / 一年前发布   77万   \n2         3室2厅 | 128.7平米 | 东南 | 毛坯 | 高楼层(共18层)  | 塔楼  1人关注 / 8个月以前发布   90万   \n3         3室2厅 | 106.8平米 | 南 | 其他 | 低楼层(共7层)  | 暂无数据  0人关注 / 15天以前发布  120万   \n4            3室2厅 | 125平米 | 东南 | 毛坯 | 中楼层(共7层)  | 板楼  4人关注 / 14天以前发布   89万   \n\n            单价  \n0  单价12516元/平米  \n1   单价5983元/平米  \n2   单价6994元/平米  \n3  单价11236元/平米  \n4   单价7120元/平米  ",
      "text/html": "<div>\n<style scoped>\n    .dataframe tbody tr th:only-of-type {\n        vertical-align: middle;\n    }\n\n    .dataframe tbody tr th {\n        vertical-align: top;\n    }\n\n    .dataframe thead th {\n        text-align: right;\n    }\n</style>\n<table border=\"1\" class=\"dataframe\">\n  <thead>\n    <tr style=\"text-align: right;\">\n      <th></th>\n      <th>描述</th>\n      <th>位置信息</th>\n      <th>区域</th>\n      <th>房屋信息</th>\n      <th>关注信息</th>\n      <th>总价</th>\n      <th>单价</th>\n    </tr>\n  </thead>\n  <tbody>\n    <tr>\n      <th>0</th>\n      <td>嘉裕第六洲龙泽台 4室2厅 280万</td>\n      <td>嘉裕第六洲龙泽台</td>\n      <td>崇州</td>\n      <td>4室2厅 | 223.73平米 | 南 | 毛坯 | 低楼层(共9层)  | 暂无数据</td>\n      <td>0人关注 / 31天以前发布</td>\n      <td>280万</td>\n      <td>单价12516元/平米</td>\n    </tr>\n    <tr>\n      <th>1</th>\n      <td>满2年 中间楼层 套三双卫 随时看房</td>\n      <td>西蜀御景二期</td>\n      <td>崇州</td>\n      <td>3室2厅 | 128.7平米 | 东南 | 毛坯 | 中楼层(共18层) | 2012年建 ...</td>\n      <td>15人关注 / 一年前发布</td>\n      <td>77万</td>\n      <td>单价5983元/平米</td>\n    </tr>\n    <tr>\n      <th>2</th>\n      <td>前后中庭 中间楼层 清水房 套三</td>\n      <td>西蜀御景二期</td>\n      <td>崇州</td>\n      <td>3室2厅 | 128.7平米 | 东南 | 毛坯 | 高楼层(共18层)  | 塔楼</td>\n      <td>1人关注 / 8个月以前发布</td>\n      <td>90万</td>\n      <td>单价6994元/平米</td>\n    </tr>\n    <tr>\n      <th>3</th>\n      <td>嘉裕第六洲龙泽台 3室2厅 120万</td>\n      <td>嘉裕第六洲龙泽台</td>\n      <td>崇州</td>\n      <td>3室2厅 | 106.8平米 | 南 | 其他 | 低楼层(共7层)  | 暂无数据</td>\n      <td>0人关注 / 15天以前发布</td>\n      <td>120万</td>\n      <td>单价11236元/平米</td>\n    </tr>\n    <tr>\n      <th>4</th>\n      <td>嘉裕龙泽台清水套三 户型方正 对小区中庭</td>\n      <td>嘉裕第六洲龙泽台</td>\n      <td>崇州</td>\n      <td>3室2厅 | 125平米 | 东南 | 毛坯 | 中楼层(共7层)  | 板楼</td>\n      <td>4人关注 / 14天以前发布</td>\n      <td>89万</td>\n      <td>单价7120元/平米</td>\n    </tr>\n  </tbody>\n</table>\n</div>"
     },
     "execution_count": 16,
     "metadata": {},
     "output_type": "execute_result"
    }
   ],
   "source": [
    "input_dir='E:\\python大数据\\data_csv\\data_csv/'\n",
    "files =os.listdir(input_dir)\n",
    "data=[]\n",
    "for i in files[1:]:\n",
    "    data.append(pd.read_csv(input_dir+i))\n",
    "data=pd.concat(data)\n",
    "data.head()"
   ],
   "metadata": {
    "collapsed": false,
    "pycharm": {
     "name": "#%%\n"
    }
   }
  },
  {
   "cell_type": "code",
   "execution_count": 17,
   "outputs": [],
   "source": [
    "data=data.reset_index()\n",
    "data=data.drop('index',axis=1)\n"
   ],
   "metadata": {
    "collapsed": false,
    "pycharm": {
     "name": "#%%\n"
    }
   }
  },
  {
   "cell_type": "code",
   "execution_count": 18,
   "outputs": [
    {
     "data": {
      "text/plain": "                     描述       位置信息  区域  \\\n0    嘉裕第六洲龙泽台 4室2厅 280万  嘉裕第六洲龙泽台   崇州   \n1    满2年 中间楼层 套三双卫 随时看房    西蜀御景二期   崇州   \n2      前后中庭 中间楼层 清水房 套三    西蜀御景二期   崇州   \n3    嘉裕第六洲龙泽台 3室2厅 120万  嘉裕第六洲龙泽台   崇州   \n4  嘉裕龙泽台清水套三 户型方正 对小区中庭  嘉裕第六洲龙泽台   崇州   \n\n                                                房屋信息            关注信息    总价  \\\n0        4室2厅 | 223.73平米 | 南 | 毛坯 | 低楼层(共9层)  | 暂无数据  0人关注 / 31天以前发布  280万   \n1  3室2厅 | 128.7平米 | 东南 | 毛坯 | 中楼层(共18层) | 2012年建 ...   15人关注 / 一年前发布   77万   \n2         3室2厅 | 128.7平米 | 东南 | 毛坯 | 高楼层(共18层)  | 塔楼  1人关注 / 8个月以前发布   90万   \n3         3室2厅 | 106.8平米 | 南 | 其他 | 低楼层(共7层)  | 暂无数据  0人关注 / 15天以前发布  120万   \n4            3室2厅 | 125平米 | 东南 | 毛坯 | 中楼层(共7层)  | 板楼  4人关注 / 14天以前发布   89万   \n\n            单价  \n0  单价12516元/平米  \n1   单价5983元/平米  \n2   单价6994元/平米  \n3  单价11236元/平米  \n4   单价7120元/平米  ",
      "text/html": "<div>\n<style scoped>\n    .dataframe tbody tr th:only-of-type {\n        vertical-align: middle;\n    }\n\n    .dataframe tbody tr th {\n        vertical-align: top;\n    }\n\n    .dataframe thead th {\n        text-align: right;\n    }\n</style>\n<table border=\"1\" class=\"dataframe\">\n  <thead>\n    <tr style=\"text-align: right;\">\n      <th></th>\n      <th>描述</th>\n      <th>位置信息</th>\n      <th>区域</th>\n      <th>房屋信息</th>\n      <th>关注信息</th>\n      <th>总价</th>\n      <th>单价</th>\n    </tr>\n  </thead>\n  <tbody>\n    <tr>\n      <th>0</th>\n      <td>嘉裕第六洲龙泽台 4室2厅 280万</td>\n      <td>嘉裕第六洲龙泽台</td>\n      <td>崇州</td>\n      <td>4室2厅 | 223.73平米 | 南 | 毛坯 | 低楼层(共9层)  | 暂无数据</td>\n      <td>0人关注 / 31天以前发布</td>\n      <td>280万</td>\n      <td>单价12516元/平米</td>\n    </tr>\n    <tr>\n      <th>1</th>\n      <td>满2年 中间楼层 套三双卫 随时看房</td>\n      <td>西蜀御景二期</td>\n      <td>崇州</td>\n      <td>3室2厅 | 128.7平米 | 东南 | 毛坯 | 中楼层(共18层) | 2012年建 ...</td>\n      <td>15人关注 / 一年前发布</td>\n      <td>77万</td>\n      <td>单价5983元/平米</td>\n    </tr>\n    <tr>\n      <th>2</th>\n      <td>前后中庭 中间楼层 清水房 套三</td>\n      <td>西蜀御景二期</td>\n      <td>崇州</td>\n      <td>3室2厅 | 128.7平米 | 东南 | 毛坯 | 高楼层(共18层)  | 塔楼</td>\n      <td>1人关注 / 8个月以前发布</td>\n      <td>90万</td>\n      <td>单价6994元/平米</td>\n    </tr>\n    <tr>\n      <th>3</th>\n      <td>嘉裕第六洲龙泽台 3室2厅 120万</td>\n      <td>嘉裕第六洲龙泽台</td>\n      <td>崇州</td>\n      <td>3室2厅 | 106.8平米 | 南 | 其他 | 低楼层(共7层)  | 暂无数据</td>\n      <td>0人关注 / 15天以前发布</td>\n      <td>120万</td>\n      <td>单价11236元/平米</td>\n    </tr>\n    <tr>\n      <th>4</th>\n      <td>嘉裕龙泽台清水套三 户型方正 对小区中庭</td>\n      <td>嘉裕第六洲龙泽台</td>\n      <td>崇州</td>\n      <td>3室2厅 | 125平米 | 东南 | 毛坯 | 中楼层(共7层)  | 板楼</td>\n      <td>4人关注 / 14天以前发布</td>\n      <td>89万</td>\n      <td>单价7120元/平米</td>\n    </tr>\n  </tbody>\n</table>\n</div>"
     },
     "execution_count": 18,
     "metadata": {},
     "output_type": "execute_result"
    }
   ],
   "source": [
    "data.head()"
   ],
   "metadata": {
    "collapsed": false,
    "pycharm": {
     "name": "#%%\n"
    }
   }
  },
  {
   "cell_type": "code",
   "execution_count": 19,
   "outputs": [],
   "source": [
    "msg=data.房屋信息.map(lambda  x: len(x.split('|')))\n",
    "data=data[msg==7]"
   ],
   "metadata": {
    "collapsed": false,
    "pycharm": {
     "name": "#%%\n"
    }
   }
  },
  {
   "cell_type": "code",
   "execution_count": 20,
   "outputs": [],
   "source": [
    "msg=data.关注信息.map(lambda  x: len(x.split('/')))\n"
   ],
   "metadata": {
    "collapsed": false,
    "pycharm": {
     "name": "#%%\n"
    }
   }
  },
  {
   "cell_type": "code",
   "execution_count": 21,
   "outputs": [],
   "source": [
    "data.loc[:,'房型']=data.房屋信息.map(lambda  x: x.split('|')[0])\n",
    "data.loc[:,'房型']=data.房屋信息.map(lambda  x: x.split('|')[1])\n",
    "data.loc[:,'朝向']=data.房屋信息.map(lambda  x: x.split('|')[2])\n",
    "data.loc[:,'类型']=data.房屋信息.map(lambda  x: x.split('|')[3])\n",
    "data.loc[:,'楼层']=data.房屋信息.map(lambda  x: x.split('|')[4])\n",
    "data.loc[:,'建成时间']=data.房屋信息.map(lambda  x: x.split('|')[5])\n",
    "data.loc[:,'结构']=data.房屋信息.map(lambda  x: x.split('|')[6])\n",
    "\n",
    "#\n"
   ],
   "metadata": {
    "collapsed": false,
    "pycharm": {
     "name": "#%%\n"
    }
   }
  },
  {
   "cell_type": "code",
   "execution_count": 22,
   "outputs": [
    {
     "data": {
      "text/plain": "                    描述       位置信息  区域  \\\n1   满2年 中间楼层 套三双卫 随时看房    西蜀御景二期   崇州   \n8   洋房品质小区，户型设计方正，采光良好  嘉裕第六洲龙泽台   崇州   \n23  嘉裕第六洲龙泽台 3室2厅 155万  嘉裕第六洲龙泽台   崇州   \n25   龙泽台顶跃户型，清水交付，灵活装修  嘉裕第六洲龙泽台   崇州   \n26     三室两厅一厨两卫，通透大三室户  嘉裕第六洲龙泽台   崇州   \n\n                                                 房屋信息            关注信息    总价  \\\n1   3室2厅 | 128.7平米 | 东南 | 毛坯 | 中楼层(共18层) | 2012年建 ...   15人关注 / 一年前发布   77万   \n8   3室2厅 | 204.77平米 | 南 | 毛坯 | 低楼层(共7层) | 2018年建 |...  0人关注 / 1个月以前发布  200万   \n23  3室2厅 | 161.6平米 | 东南 | 毛坯 | 高楼层(共9层) | 2019年建 | 板楼  2人关注 / 2个月以前发布  155万   \n25  4室2厅 | 161.11平米 | 南 | 毛坯 | 高楼层(共9层) | 2018年建 | 板楼  2人关注 / 1个月以前发布  160万   \n26  3室2厅 | 125.13平米 | 南 | 毛坯 | 中楼层(共9层) | 2018年建 | 板楼  2人关注 / 1个月以前发布  100万   \n\n            单价     房型          面积    朝向    类型           楼层      建成时间     结构  \\\n1   单价5983元/平米  3室2厅     128.7平米    东南    毛坯    中楼层(共18层)    2012年建      塔楼   \n8   单价9768元/平米  3室2厅    204.77平米     南    毛坯     低楼层(共7层)    2018年建    暂无数据   \n23  单价9592元/平米  3室2厅     161.6平米    东南    毛坯     高楼层(共9层)    2019年建      板楼   \n25  单价9932元/平米  4室2厅    161.11平米     南    毛坯     高楼层(共9层)    2018年建      板楼   \n26  单价7992元/平米  3室2厅    125.13平米     南    毛坯     中楼层(共9层)    2018年建      板楼   \n\n      关注人数      发布时间  \n1   15人关注      一年前发布  \n8    0人关注    1个月以前发布  \n23   2人关注    2个月以前发布  \n25   2人关注    1个月以前发布  \n26   2人关注    1个月以前发布  ",
      "text/html": "<div>\n<style scoped>\n    .dataframe tbody tr th:only-of-type {\n        vertical-align: middle;\n    }\n\n    .dataframe tbody tr th {\n        vertical-align: top;\n    }\n\n    .dataframe thead th {\n        text-align: right;\n    }\n</style>\n<table border=\"1\" class=\"dataframe\">\n  <thead>\n    <tr style=\"text-align: right;\">\n      <th></th>\n      <th>描述</th>\n      <th>位置信息</th>\n      <th>区域</th>\n      <th>房屋信息</th>\n      <th>关注信息</th>\n      <th>总价</th>\n      <th>单价</th>\n      <th>房型</th>\n      <th>面积</th>\n      <th>朝向</th>\n      <th>类型</th>\n      <th>楼层</th>\n      <th>建成时间</th>\n      <th>结构</th>\n      <th>关注人数</th>\n      <th>发布时间</th>\n    </tr>\n  </thead>\n  <tbody>\n    <tr>\n      <th>1</th>\n      <td>满2年 中间楼层 套三双卫 随时看房</td>\n      <td>西蜀御景二期</td>\n      <td>崇州</td>\n      <td>3室2厅 | 128.7平米 | 东南 | 毛坯 | 中楼层(共18层) | 2012年建 ...</td>\n      <td>15人关注 / 一年前发布</td>\n      <td>77万</td>\n      <td>单价5983元/平米</td>\n      <td>3室2厅</td>\n      <td>128.7平米</td>\n      <td>东南</td>\n      <td>毛坯</td>\n      <td>中楼层(共18层)</td>\n      <td>2012年建</td>\n      <td>塔楼</td>\n      <td>15人关注</td>\n      <td>一年前发布</td>\n    </tr>\n    <tr>\n      <th>8</th>\n      <td>洋房品质小区，户型设计方正，采光良好</td>\n      <td>嘉裕第六洲龙泽台</td>\n      <td>崇州</td>\n      <td>3室2厅 | 204.77平米 | 南 | 毛坯 | 低楼层(共7层) | 2018年建 |...</td>\n      <td>0人关注 / 1个月以前发布</td>\n      <td>200万</td>\n      <td>单价9768元/平米</td>\n      <td>3室2厅</td>\n      <td>204.77平米</td>\n      <td>南</td>\n      <td>毛坯</td>\n      <td>低楼层(共7层)</td>\n      <td>2018年建</td>\n      <td>暂无数据</td>\n      <td>0人关注</td>\n      <td>1个月以前发布</td>\n    </tr>\n    <tr>\n      <th>23</th>\n      <td>嘉裕第六洲龙泽台 3室2厅 155万</td>\n      <td>嘉裕第六洲龙泽台</td>\n      <td>崇州</td>\n      <td>3室2厅 | 161.6平米 | 东南 | 毛坯 | 高楼层(共9层) | 2019年建 | 板楼</td>\n      <td>2人关注 / 2个月以前发布</td>\n      <td>155万</td>\n      <td>单价9592元/平米</td>\n      <td>3室2厅</td>\n      <td>161.6平米</td>\n      <td>东南</td>\n      <td>毛坯</td>\n      <td>高楼层(共9层)</td>\n      <td>2019年建</td>\n      <td>板楼</td>\n      <td>2人关注</td>\n      <td>2个月以前发布</td>\n    </tr>\n    <tr>\n      <th>25</th>\n      <td>龙泽台顶跃户型，清水交付，灵活装修</td>\n      <td>嘉裕第六洲龙泽台</td>\n      <td>崇州</td>\n      <td>4室2厅 | 161.11平米 | 南 | 毛坯 | 高楼层(共9层) | 2018年建 | 板楼</td>\n      <td>2人关注 / 1个月以前发布</td>\n      <td>160万</td>\n      <td>单价9932元/平米</td>\n      <td>4室2厅</td>\n      <td>161.11平米</td>\n      <td>南</td>\n      <td>毛坯</td>\n      <td>高楼层(共9层)</td>\n      <td>2018年建</td>\n      <td>板楼</td>\n      <td>2人关注</td>\n      <td>1个月以前发布</td>\n    </tr>\n    <tr>\n      <th>26</th>\n      <td>三室两厅一厨两卫，通透大三室户</td>\n      <td>嘉裕第六洲龙泽台</td>\n      <td>崇州</td>\n      <td>3室2厅 | 125.13平米 | 南 | 毛坯 | 中楼层(共9层) | 2018年建 | 板楼</td>\n      <td>2人关注 / 1个月以前发布</td>\n      <td>100万</td>\n      <td>单价7992元/平米</td>\n      <td>3室2厅</td>\n      <td>125.13平米</td>\n      <td>南</td>\n      <td>毛坯</td>\n      <td>中楼层(共9层)</td>\n      <td>2018年建</td>\n      <td>板楼</td>\n      <td>2人关注</td>\n      <td>1个月以前发布</td>\n    </tr>\n  </tbody>\n</table>\n</div>"
     },
     "execution_count": 22,
     "metadata": {},
     "output_type": "execute_result"
    }
   ],
   "source": [
    "data.loc[:,'关注人数']=data.关注信息.map(lambda  x: x.split('/')[0])\n",
    "data.loc[:,'发布时间']=data.关注信息.map(lambda  x: x.split('/')[1])\n",
    "data.head()"
   ],
   "metadata": {
    "collapsed": false,
    "pycharm": {
     "name": "#%%\n"
    }
   }
  },
  {
   "cell_type": "code",
   "execution_count": 23,
   "outputs": [],
   "source": [
    "data=data.drop('房屋信息',axis=1)\n",
    "data=data.drop('关注信息',axis=1)\n"
   ],
   "metadata": {
    "collapsed": false,
    "pycharm": {
     "name": "#%%\n"
    }
   }
  },
  {
   "cell_type": "code",
   "execution_count": 24,
   "outputs": [
    {
     "data": {
      "text/plain": "            位置信息  区域    总价           单价     房型          面积    朝向    类型  \\\n1        西蜀御景二期   崇州   77万   单价5983元/平米  3室2厅     128.7平米    东南    毛坯    \n8      嘉裕第六洲龙泽台   崇州  200万   单价9768元/平米  3室2厅    204.77平米     南    毛坯    \n23     嘉裕第六洲龙泽台   崇州  155万   单价9592元/平米  3室2厅     161.6平米    东南    毛坯    \n25     嘉裕第六洲龙泽台   崇州  160万   单价9932元/平米  4室2厅    161.11平米     南    毛坯    \n26     嘉裕第六洲龙泽台   崇州  100万   单价7992元/平米  3室2厅    125.13平米     南    毛坯    \n...          ...  ..   ...          ...    ...         ...   ...   ...   \n3208   万科魅力之城四期   成华  180万  单价22247元/平米  2室1厅     80.91平米     东    精装    \n3209      钢管厂三区   成华   90万  单价16240元/平米  2室2厅     55.42平米     南    精装    \n3210  蜜城(双林南支路)   成华  140万  单价14943元/平米  2室2厅     93.69平米    西北    简装    \n3211      花样年花郡   成华   82万  单价18544元/平米  1室1厅     44.22平米     东    简装    \n3212    槐树苑二期欣苑   成华   92万  单价13946元/平米  2室2厅     65.97平米     南    简装    \n\n               楼层      建成时间     结构    关注人数       发布时间  \n1      中楼层(共18层)    2012年建      塔楼  15人关注       一年前发布  \n8       低楼层(共7层)    2018年建    暂无数据   0人关注     1个月以前发布  \n23      高楼层(共9层)    2019年建      板楼   2人关注     2个月以前发布  \n25      高楼层(共9层)    2018年建      板楼   2人关注     1个月以前发布  \n26      中楼层(共9层)    2018年建      板楼   2人关注     1个月以前发布  \n...           ...       ...    ...     ...        ...  \n3208   中楼层(共18层)    2009年建      塔楼  25人关注    10个月以前发布  \n3209    中楼层(共7层)    1991年建      板楼  10人关注    10个月以前发布  \n3210   低楼层(共22层)    2007年建      板楼  27人关注     9个月以前发布  \n3211   高楼层(共32层)    2008年建    板塔结合  13人关注     8个月以前发布  \n3212    中楼层(共6层)    2004年建      板楼  78人关注     8个月以前发布  \n\n[2793 rows x 13 columns]",
      "text/html": "<div>\n<style scoped>\n    .dataframe tbody tr th:only-of-type {\n        vertical-align: middle;\n    }\n\n    .dataframe tbody tr th {\n        vertical-align: top;\n    }\n\n    .dataframe thead th {\n        text-align: right;\n    }\n</style>\n<table border=\"1\" class=\"dataframe\">\n  <thead>\n    <tr style=\"text-align: right;\">\n      <th></th>\n      <th>位置信息</th>\n      <th>区域</th>\n      <th>总价</th>\n      <th>单价</th>\n      <th>房型</th>\n      <th>面积</th>\n      <th>朝向</th>\n      <th>类型</th>\n      <th>楼层</th>\n      <th>建成时间</th>\n      <th>结构</th>\n      <th>关注人数</th>\n      <th>发布时间</th>\n    </tr>\n  </thead>\n  <tbody>\n    <tr>\n      <th>1</th>\n      <td>西蜀御景二期</td>\n      <td>崇州</td>\n      <td>77万</td>\n      <td>单价5983元/平米</td>\n      <td>3室2厅</td>\n      <td>128.7平米</td>\n      <td>东南</td>\n      <td>毛坯</td>\n      <td>中楼层(共18层)</td>\n      <td>2012年建</td>\n      <td>塔楼</td>\n      <td>15人关注</td>\n      <td>一年前发布</td>\n    </tr>\n    <tr>\n      <th>8</th>\n      <td>嘉裕第六洲龙泽台</td>\n      <td>崇州</td>\n      <td>200万</td>\n      <td>单价9768元/平米</td>\n      <td>3室2厅</td>\n      <td>204.77平米</td>\n      <td>南</td>\n      <td>毛坯</td>\n      <td>低楼层(共7层)</td>\n      <td>2018年建</td>\n      <td>暂无数据</td>\n      <td>0人关注</td>\n      <td>1个月以前发布</td>\n    </tr>\n    <tr>\n      <th>23</th>\n      <td>嘉裕第六洲龙泽台</td>\n      <td>崇州</td>\n      <td>155万</td>\n      <td>单价9592元/平米</td>\n      <td>3室2厅</td>\n      <td>161.6平米</td>\n      <td>东南</td>\n      <td>毛坯</td>\n      <td>高楼层(共9层)</td>\n      <td>2019年建</td>\n      <td>板楼</td>\n      <td>2人关注</td>\n      <td>2个月以前发布</td>\n    </tr>\n    <tr>\n      <th>25</th>\n      <td>嘉裕第六洲龙泽台</td>\n      <td>崇州</td>\n      <td>160万</td>\n      <td>单价9932元/平米</td>\n      <td>4室2厅</td>\n      <td>161.11平米</td>\n      <td>南</td>\n      <td>毛坯</td>\n      <td>高楼层(共9层)</td>\n      <td>2018年建</td>\n      <td>板楼</td>\n      <td>2人关注</td>\n      <td>1个月以前发布</td>\n    </tr>\n    <tr>\n      <th>26</th>\n      <td>嘉裕第六洲龙泽台</td>\n      <td>崇州</td>\n      <td>100万</td>\n      <td>单价7992元/平米</td>\n      <td>3室2厅</td>\n      <td>125.13平米</td>\n      <td>南</td>\n      <td>毛坯</td>\n      <td>中楼层(共9层)</td>\n      <td>2018年建</td>\n      <td>板楼</td>\n      <td>2人关注</td>\n      <td>1个月以前发布</td>\n    </tr>\n    <tr>\n      <th>...</th>\n      <td>...</td>\n      <td>...</td>\n      <td>...</td>\n      <td>...</td>\n      <td>...</td>\n      <td>...</td>\n      <td>...</td>\n      <td>...</td>\n      <td>...</td>\n      <td>...</td>\n      <td>...</td>\n      <td>...</td>\n      <td>...</td>\n    </tr>\n    <tr>\n      <th>3208</th>\n      <td>万科魅力之城四期</td>\n      <td>成华</td>\n      <td>180万</td>\n      <td>单价22247元/平米</td>\n      <td>2室1厅</td>\n      <td>80.91平米</td>\n      <td>东</td>\n      <td>精装</td>\n      <td>中楼层(共18层)</td>\n      <td>2009年建</td>\n      <td>塔楼</td>\n      <td>25人关注</td>\n      <td>10个月以前发布</td>\n    </tr>\n    <tr>\n      <th>3209</th>\n      <td>钢管厂三区</td>\n      <td>成华</td>\n      <td>90万</td>\n      <td>单价16240元/平米</td>\n      <td>2室2厅</td>\n      <td>55.42平米</td>\n      <td>南</td>\n      <td>精装</td>\n      <td>中楼层(共7层)</td>\n      <td>1991年建</td>\n      <td>板楼</td>\n      <td>10人关注</td>\n      <td>10个月以前发布</td>\n    </tr>\n    <tr>\n      <th>3210</th>\n      <td>蜜城(双林南支路)</td>\n      <td>成华</td>\n      <td>140万</td>\n      <td>单价14943元/平米</td>\n      <td>2室2厅</td>\n      <td>93.69平米</td>\n      <td>西北</td>\n      <td>简装</td>\n      <td>低楼层(共22层)</td>\n      <td>2007年建</td>\n      <td>板楼</td>\n      <td>27人关注</td>\n      <td>9个月以前发布</td>\n    </tr>\n    <tr>\n      <th>3211</th>\n      <td>花样年花郡</td>\n      <td>成华</td>\n      <td>82万</td>\n      <td>单价18544元/平米</td>\n      <td>1室1厅</td>\n      <td>44.22平米</td>\n      <td>东</td>\n      <td>简装</td>\n      <td>高楼层(共32层)</td>\n      <td>2008年建</td>\n      <td>板塔结合</td>\n      <td>13人关注</td>\n      <td>8个月以前发布</td>\n    </tr>\n    <tr>\n      <th>3212</th>\n      <td>槐树苑二期欣苑</td>\n      <td>成华</td>\n      <td>92万</td>\n      <td>单价13946元/平米</td>\n      <td>2室2厅</td>\n      <td>65.97平米</td>\n      <td>南</td>\n      <td>简装</td>\n      <td>中楼层(共6层)</td>\n      <td>2004年建</td>\n      <td>板楼</td>\n      <td>78人关注</td>\n      <td>8个月以前发布</td>\n    </tr>\n  </tbody>\n</table>\n<p>2793 rows × 13 columns</p>\n</div>"
     },
     "execution_count": 24,
     "metadata": {},
     "output_type": "execute_result"
    }
   ],
   "source": [
    "data=data.drop('描述',axis=1)\n",
    "data"
   ],
   "metadata": {
    "collapsed": false,
    "pycharm": {
     "name": "#%%\n"
    }
   }
  },
  {
   "cell_type": "code",
   "execution_count": 25,
   "outputs": [
    {
     "data": {
      "text/plain": "         位置信息  区域   总价          单价     房型          面积    朝向    类型  \\\n1     西蜀御景二期   崇州   77  单价5983元/平米  3室2厅     128.7平米    东南    毛坯    \n8   嘉裕第六洲龙泽台   崇州  200  单价9768元/平米  3室2厅    204.77平米     南    毛坯    \n23  嘉裕第六洲龙泽台   崇州  155  单价9592元/平米  3室2厅     161.6平米    东南    毛坯    \n25  嘉裕第六洲龙泽台   崇州  160  单价9932元/平米  4室2厅    161.11平米     南    毛坯    \n26  嘉裕第六洲龙泽台   崇州  100  单价7992元/平米  3室2厅    125.13平米     南    毛坯    \n\n             楼层      建成时间     结构    关注人数      发布时间  \n1    中楼层(共18层)    2012年建      塔楼  15人关注      一年前发布  \n8     低楼层(共7层)    2018年建    暂无数据   0人关注    1个月以前发布  \n23    高楼层(共9层)    2019年建      板楼   2人关注    2个月以前发布  \n25    高楼层(共9层)    2018年建      板楼   2人关注    1个月以前发布  \n26    中楼层(共9层)    2018年建      板楼   2人关注    1个月以前发布  ",
      "text/html": "<div>\n<style scoped>\n    .dataframe tbody tr th:only-of-type {\n        vertical-align: middle;\n    }\n\n    .dataframe tbody tr th {\n        vertical-align: top;\n    }\n\n    .dataframe thead th {\n        text-align: right;\n    }\n</style>\n<table border=\"1\" class=\"dataframe\">\n  <thead>\n    <tr style=\"text-align: right;\">\n      <th></th>\n      <th>位置信息</th>\n      <th>区域</th>\n      <th>总价</th>\n      <th>单价</th>\n      <th>房型</th>\n      <th>面积</th>\n      <th>朝向</th>\n      <th>类型</th>\n      <th>楼层</th>\n      <th>建成时间</th>\n      <th>结构</th>\n      <th>关注人数</th>\n      <th>发布时间</th>\n    </tr>\n  </thead>\n  <tbody>\n    <tr>\n      <th>1</th>\n      <td>西蜀御景二期</td>\n      <td>崇州</td>\n      <td>77</td>\n      <td>单价5983元/平米</td>\n      <td>3室2厅</td>\n      <td>128.7平米</td>\n      <td>东南</td>\n      <td>毛坯</td>\n      <td>中楼层(共18层)</td>\n      <td>2012年建</td>\n      <td>塔楼</td>\n      <td>15人关注</td>\n      <td>一年前发布</td>\n    </tr>\n    <tr>\n      <th>8</th>\n      <td>嘉裕第六洲龙泽台</td>\n      <td>崇州</td>\n      <td>200</td>\n      <td>单价9768元/平米</td>\n      <td>3室2厅</td>\n      <td>204.77平米</td>\n      <td>南</td>\n      <td>毛坯</td>\n      <td>低楼层(共7层)</td>\n      <td>2018年建</td>\n      <td>暂无数据</td>\n      <td>0人关注</td>\n      <td>1个月以前发布</td>\n    </tr>\n    <tr>\n      <th>23</th>\n      <td>嘉裕第六洲龙泽台</td>\n      <td>崇州</td>\n      <td>155</td>\n      <td>单价9592元/平米</td>\n      <td>3室2厅</td>\n      <td>161.6平米</td>\n      <td>东南</td>\n      <td>毛坯</td>\n      <td>高楼层(共9层)</td>\n      <td>2019年建</td>\n      <td>板楼</td>\n      <td>2人关注</td>\n      <td>2个月以前发布</td>\n    </tr>\n    <tr>\n      <th>25</th>\n      <td>嘉裕第六洲龙泽台</td>\n      <td>崇州</td>\n      <td>160</td>\n      <td>单价9932元/平米</td>\n      <td>4室2厅</td>\n      <td>161.11平米</td>\n      <td>南</td>\n      <td>毛坯</td>\n      <td>高楼层(共9层)</td>\n      <td>2018年建</td>\n      <td>板楼</td>\n      <td>2人关注</td>\n      <td>1个月以前发布</td>\n    </tr>\n    <tr>\n      <th>26</th>\n      <td>嘉裕第六洲龙泽台</td>\n      <td>崇州</td>\n      <td>100</td>\n      <td>单价7992元/平米</td>\n      <td>3室2厅</td>\n      <td>125.13平米</td>\n      <td>南</td>\n      <td>毛坯</td>\n      <td>中楼层(共9层)</td>\n      <td>2018年建</td>\n      <td>板楼</td>\n      <td>2人关注</td>\n      <td>1个月以前发布</td>\n    </tr>\n  </tbody>\n</table>\n</div>"
     },
     "execution_count": 25,
     "metadata": {},
     "output_type": "execute_result"
    }
   ],
   "source": [
    "# 使用正则表达式替换单价列中含有的中文字符\n",
    "data.总价 = data.总价.map(lambda x : re.sub('[\\u4e00-\\u9fa5].*','',x))\n",
    "data.head()"
   ],
   "metadata": {
    "collapsed": false,
    "pycharm": {
     "name": "#%%\n"
    }
   }
  },
  {
   "cell_type": "code",
   "execution_count": 26,
   "outputs": [
    {
     "data": {
      "text/plain": "            位置信息  区域     总价           单价     房型          面积    朝向    类型  \\\n1        西蜀御景二期   崇州   77.0   单价5983元/平米  3室2厅     128.7平米    东南    毛坯    \n8      嘉裕第六洲龙泽台   崇州  200.0   单价9768元/平米  3室2厅    204.77平米     南    毛坯    \n23     嘉裕第六洲龙泽台   崇州  155.0   单价9592元/平米  3室2厅     161.6平米    东南    毛坯    \n25     嘉裕第六洲龙泽台   崇州  160.0   单价9932元/平米  4室2厅    161.11平米     南    毛坯    \n26     嘉裕第六洲龙泽台   崇州  100.0   单价7992元/平米  3室2厅    125.13平米     南    毛坯    \n...          ...  ..    ...          ...    ...         ...   ...   ...   \n3208   万科魅力之城四期   成华  180.0  单价22247元/平米  2室1厅     80.91平米     东    精装    \n3209      钢管厂三区   成华   90.0  单价16240元/平米  2室2厅     55.42平米     南    精装    \n3210  蜜城(双林南支路)   成华  140.0  单价14943元/平米  2室2厅     93.69平米    西北    简装    \n3211      花样年花郡   成华   82.0  单价18544元/平米  1室1厅     44.22平米     东    简装    \n3212    槐树苑二期欣苑   成华   92.0  单价13946元/平米  2室2厅     65.97平米     南    简装    \n\n               楼层      建成时间     结构    关注人数       发布时间  \n1      中楼层(共18层)    2012年建      塔楼  15人关注       一年前发布  \n8       低楼层(共7层)    2018年建    暂无数据   0人关注     1个月以前发布  \n23      高楼层(共9层)    2019年建      板楼   2人关注     2个月以前发布  \n25      高楼层(共9层)    2018年建      板楼   2人关注     1个月以前发布  \n26      中楼层(共9层)    2018年建      板楼   2人关注     1个月以前发布  \n...           ...       ...    ...     ...        ...  \n3208   中楼层(共18层)    2009年建      塔楼  25人关注    10个月以前发布  \n3209    中楼层(共7层)    1991年建      板楼  10人关注    10个月以前发布  \n3210   低楼层(共22层)    2007年建      板楼  27人关注     9个月以前发布  \n3211   高楼层(共32层)    2008年建    板塔结合  13人关注     8个月以前发布  \n3212    中楼层(共6层)    2004年建      板楼  78人关注     8个月以前发布  \n\n[2793 rows x 13 columns]",
      "text/html": "<div>\n<style scoped>\n    .dataframe tbody tr th:only-of-type {\n        vertical-align: middle;\n    }\n\n    .dataframe tbody tr th {\n        vertical-align: top;\n    }\n\n    .dataframe thead th {\n        text-align: right;\n    }\n</style>\n<table border=\"1\" class=\"dataframe\">\n  <thead>\n    <tr style=\"text-align: right;\">\n      <th></th>\n      <th>位置信息</th>\n      <th>区域</th>\n      <th>总价</th>\n      <th>单价</th>\n      <th>房型</th>\n      <th>面积</th>\n      <th>朝向</th>\n      <th>类型</th>\n      <th>楼层</th>\n      <th>建成时间</th>\n      <th>结构</th>\n      <th>关注人数</th>\n      <th>发布时间</th>\n    </tr>\n  </thead>\n  <tbody>\n    <tr>\n      <th>1</th>\n      <td>西蜀御景二期</td>\n      <td>崇州</td>\n      <td>77.0</td>\n      <td>单价5983元/平米</td>\n      <td>3室2厅</td>\n      <td>128.7平米</td>\n      <td>东南</td>\n      <td>毛坯</td>\n      <td>中楼层(共18层)</td>\n      <td>2012年建</td>\n      <td>塔楼</td>\n      <td>15人关注</td>\n      <td>一年前发布</td>\n    </tr>\n    <tr>\n      <th>8</th>\n      <td>嘉裕第六洲龙泽台</td>\n      <td>崇州</td>\n      <td>200.0</td>\n      <td>单价9768元/平米</td>\n      <td>3室2厅</td>\n      <td>204.77平米</td>\n      <td>南</td>\n      <td>毛坯</td>\n      <td>低楼层(共7层)</td>\n      <td>2018年建</td>\n      <td>暂无数据</td>\n      <td>0人关注</td>\n      <td>1个月以前发布</td>\n    </tr>\n    <tr>\n      <th>23</th>\n      <td>嘉裕第六洲龙泽台</td>\n      <td>崇州</td>\n      <td>155.0</td>\n      <td>单价9592元/平米</td>\n      <td>3室2厅</td>\n      <td>161.6平米</td>\n      <td>东南</td>\n      <td>毛坯</td>\n      <td>高楼层(共9层)</td>\n      <td>2019年建</td>\n      <td>板楼</td>\n      <td>2人关注</td>\n      <td>2个月以前发布</td>\n    </tr>\n    <tr>\n      <th>25</th>\n      <td>嘉裕第六洲龙泽台</td>\n      <td>崇州</td>\n      <td>160.0</td>\n      <td>单价9932元/平米</td>\n      <td>4室2厅</td>\n      <td>161.11平米</td>\n      <td>南</td>\n      <td>毛坯</td>\n      <td>高楼层(共9层)</td>\n      <td>2018年建</td>\n      <td>板楼</td>\n      <td>2人关注</td>\n      <td>1个月以前发布</td>\n    </tr>\n    <tr>\n      <th>26</th>\n      <td>嘉裕第六洲龙泽台</td>\n      <td>崇州</td>\n      <td>100.0</td>\n      <td>单价7992元/平米</td>\n      <td>3室2厅</td>\n      <td>125.13平米</td>\n      <td>南</td>\n      <td>毛坯</td>\n      <td>中楼层(共9层)</td>\n      <td>2018年建</td>\n      <td>板楼</td>\n      <td>2人关注</td>\n      <td>1个月以前发布</td>\n    </tr>\n    <tr>\n      <th>...</th>\n      <td>...</td>\n      <td>...</td>\n      <td>...</td>\n      <td>...</td>\n      <td>...</td>\n      <td>...</td>\n      <td>...</td>\n      <td>...</td>\n      <td>...</td>\n      <td>...</td>\n      <td>...</td>\n      <td>...</td>\n      <td>...</td>\n    </tr>\n    <tr>\n      <th>3208</th>\n      <td>万科魅力之城四期</td>\n      <td>成华</td>\n      <td>180.0</td>\n      <td>单价22247元/平米</td>\n      <td>2室1厅</td>\n      <td>80.91平米</td>\n      <td>东</td>\n      <td>精装</td>\n      <td>中楼层(共18层)</td>\n      <td>2009年建</td>\n      <td>塔楼</td>\n      <td>25人关注</td>\n      <td>10个月以前发布</td>\n    </tr>\n    <tr>\n      <th>3209</th>\n      <td>钢管厂三区</td>\n      <td>成华</td>\n      <td>90.0</td>\n      <td>单价16240元/平米</td>\n      <td>2室2厅</td>\n      <td>55.42平米</td>\n      <td>南</td>\n      <td>精装</td>\n      <td>中楼层(共7层)</td>\n      <td>1991年建</td>\n      <td>板楼</td>\n      <td>10人关注</td>\n      <td>10个月以前发布</td>\n    </tr>\n    <tr>\n      <th>3210</th>\n      <td>蜜城(双林南支路)</td>\n      <td>成华</td>\n      <td>140.0</td>\n      <td>单价14943元/平米</td>\n      <td>2室2厅</td>\n      <td>93.69平米</td>\n      <td>西北</td>\n      <td>简装</td>\n      <td>低楼层(共22层)</td>\n      <td>2007年建</td>\n      <td>板楼</td>\n      <td>27人关注</td>\n      <td>9个月以前发布</td>\n    </tr>\n    <tr>\n      <th>3211</th>\n      <td>花样年花郡</td>\n      <td>成华</td>\n      <td>82.0</td>\n      <td>单价18544元/平米</td>\n      <td>1室1厅</td>\n      <td>44.22平米</td>\n      <td>东</td>\n      <td>简装</td>\n      <td>高楼层(共32层)</td>\n      <td>2008年建</td>\n      <td>板塔结合</td>\n      <td>13人关注</td>\n      <td>8个月以前发布</td>\n    </tr>\n    <tr>\n      <th>3212</th>\n      <td>槐树苑二期欣苑</td>\n      <td>成华</td>\n      <td>92.0</td>\n      <td>单价13946元/平米</td>\n      <td>2室2厅</td>\n      <td>65.97平米</td>\n      <td>南</td>\n      <td>简装</td>\n      <td>中楼层(共6层)</td>\n      <td>2004年建</td>\n      <td>板楼</td>\n      <td>78人关注</td>\n      <td>8个月以前发布</td>\n    </tr>\n  </tbody>\n</table>\n<p>2793 rows × 13 columns</p>\n</div>"
     },
     "execution_count": 26,
     "metadata": {},
     "output_type": "execute_result"
    }
   ],
   "source": [
    "data.总价 = data.总价.map(lambda x : float(x))\n",
    "data"
   ],
   "metadata": {
    "collapsed": false,
    "pycharm": {
     "name": "#%%\n"
    }
   }
  },
  {
   "cell_type": "code",
   "execution_count": 27,
   "outputs": [
    {
     "data": {
      "text/plain": "            位置信息  区域     总价     单价     房型          面积    朝向    类型  \\\n1        西蜀御景二期   崇州   77.0   5983  3室2厅     128.7平米    东南    毛坯    \n8      嘉裕第六洲龙泽台   崇州  200.0   9768  3室2厅    204.77平米     南    毛坯    \n23     嘉裕第六洲龙泽台   崇州  155.0   9592  3室2厅     161.6平米    东南    毛坯    \n25     嘉裕第六洲龙泽台   崇州  160.0   9932  4室2厅    161.11平米     南    毛坯    \n26     嘉裕第六洲龙泽台   崇州  100.0   7992  3室2厅    125.13平米     南    毛坯    \n...          ...  ..    ...    ...    ...         ...   ...   ...   \n3208   万科魅力之城四期   成华  180.0  22247  2室1厅     80.91平米     东    精装    \n3209      钢管厂三区   成华   90.0  16240  2室2厅     55.42平米     南    精装    \n3210  蜜城(双林南支路)   成华  140.0  14943  2室2厅     93.69平米    西北    简装    \n3211      花样年花郡   成华   82.0  18544  1室1厅     44.22平米     东    简装    \n3212    槐树苑二期欣苑   成华   92.0  13946  2室2厅     65.97平米     南    简装    \n\n               楼层      建成时间     结构    关注人数       发布时间  \n1      中楼层(共18层)    2012年建      塔楼  15人关注       一年前发布  \n8       低楼层(共7层)    2018年建    暂无数据   0人关注     1个月以前发布  \n23      高楼层(共9层)    2019年建      板楼   2人关注     2个月以前发布  \n25      高楼层(共9层)    2018年建      板楼   2人关注     1个月以前发布  \n26      中楼层(共9层)    2018年建      板楼   2人关注     1个月以前发布  \n...           ...       ...    ...     ...        ...  \n3208   中楼层(共18层)    2009年建      塔楼  25人关注    10个月以前发布  \n3209    中楼层(共7层)    1991年建      板楼  10人关注    10个月以前发布  \n3210   低楼层(共22层)    2007年建      板楼  27人关注     9个月以前发布  \n3211   高楼层(共32层)    2008年建    板塔结合  13人关注     8个月以前发布  \n3212    中楼层(共6层)    2004年建      板楼  78人关注     8个月以前发布  \n\n[2793 rows x 13 columns]",
      "text/html": "<div>\n<style scoped>\n    .dataframe tbody tr th:only-of-type {\n        vertical-align: middle;\n    }\n\n    .dataframe tbody tr th {\n        vertical-align: top;\n    }\n\n    .dataframe thead th {\n        text-align: right;\n    }\n</style>\n<table border=\"1\" class=\"dataframe\">\n  <thead>\n    <tr style=\"text-align: right;\">\n      <th></th>\n      <th>位置信息</th>\n      <th>区域</th>\n      <th>总价</th>\n      <th>单价</th>\n      <th>房型</th>\n      <th>面积</th>\n      <th>朝向</th>\n      <th>类型</th>\n      <th>楼层</th>\n      <th>建成时间</th>\n      <th>结构</th>\n      <th>关注人数</th>\n      <th>发布时间</th>\n    </tr>\n  </thead>\n  <tbody>\n    <tr>\n      <th>1</th>\n      <td>西蜀御景二期</td>\n      <td>崇州</td>\n      <td>77.0</td>\n      <td>5983</td>\n      <td>3室2厅</td>\n      <td>128.7平米</td>\n      <td>东南</td>\n      <td>毛坯</td>\n      <td>中楼层(共18层)</td>\n      <td>2012年建</td>\n      <td>塔楼</td>\n      <td>15人关注</td>\n      <td>一年前发布</td>\n    </tr>\n    <tr>\n      <th>8</th>\n      <td>嘉裕第六洲龙泽台</td>\n      <td>崇州</td>\n      <td>200.0</td>\n      <td>9768</td>\n      <td>3室2厅</td>\n      <td>204.77平米</td>\n      <td>南</td>\n      <td>毛坯</td>\n      <td>低楼层(共7层)</td>\n      <td>2018年建</td>\n      <td>暂无数据</td>\n      <td>0人关注</td>\n      <td>1个月以前发布</td>\n    </tr>\n    <tr>\n      <th>23</th>\n      <td>嘉裕第六洲龙泽台</td>\n      <td>崇州</td>\n      <td>155.0</td>\n      <td>9592</td>\n      <td>3室2厅</td>\n      <td>161.6平米</td>\n      <td>东南</td>\n      <td>毛坯</td>\n      <td>高楼层(共9层)</td>\n      <td>2019年建</td>\n      <td>板楼</td>\n      <td>2人关注</td>\n      <td>2个月以前发布</td>\n    </tr>\n    <tr>\n      <th>25</th>\n      <td>嘉裕第六洲龙泽台</td>\n      <td>崇州</td>\n      <td>160.0</td>\n      <td>9932</td>\n      <td>4室2厅</td>\n      <td>161.11平米</td>\n      <td>南</td>\n      <td>毛坯</td>\n      <td>高楼层(共9层)</td>\n      <td>2018年建</td>\n      <td>板楼</td>\n      <td>2人关注</td>\n      <td>1个月以前发布</td>\n    </tr>\n    <tr>\n      <th>26</th>\n      <td>嘉裕第六洲龙泽台</td>\n      <td>崇州</td>\n      <td>100.0</td>\n      <td>7992</td>\n      <td>3室2厅</td>\n      <td>125.13平米</td>\n      <td>南</td>\n      <td>毛坯</td>\n      <td>中楼层(共9层)</td>\n      <td>2018年建</td>\n      <td>板楼</td>\n      <td>2人关注</td>\n      <td>1个月以前发布</td>\n    </tr>\n    <tr>\n      <th>...</th>\n      <td>...</td>\n      <td>...</td>\n      <td>...</td>\n      <td>...</td>\n      <td>...</td>\n      <td>...</td>\n      <td>...</td>\n      <td>...</td>\n      <td>...</td>\n      <td>...</td>\n      <td>...</td>\n      <td>...</td>\n      <td>...</td>\n    </tr>\n    <tr>\n      <th>3208</th>\n      <td>万科魅力之城四期</td>\n      <td>成华</td>\n      <td>180.0</td>\n      <td>22247</td>\n      <td>2室1厅</td>\n      <td>80.91平米</td>\n      <td>东</td>\n      <td>精装</td>\n      <td>中楼层(共18层)</td>\n      <td>2009年建</td>\n      <td>塔楼</td>\n      <td>25人关注</td>\n      <td>10个月以前发布</td>\n    </tr>\n    <tr>\n      <th>3209</th>\n      <td>钢管厂三区</td>\n      <td>成华</td>\n      <td>90.0</td>\n      <td>16240</td>\n      <td>2室2厅</td>\n      <td>55.42平米</td>\n      <td>南</td>\n      <td>精装</td>\n      <td>中楼层(共7层)</td>\n      <td>1991年建</td>\n      <td>板楼</td>\n      <td>10人关注</td>\n      <td>10个月以前发布</td>\n    </tr>\n    <tr>\n      <th>3210</th>\n      <td>蜜城(双林南支路)</td>\n      <td>成华</td>\n      <td>140.0</td>\n      <td>14943</td>\n      <td>2室2厅</td>\n      <td>93.69平米</td>\n      <td>西北</td>\n      <td>简装</td>\n      <td>低楼层(共22层)</td>\n      <td>2007年建</td>\n      <td>板楼</td>\n      <td>27人关注</td>\n      <td>9个月以前发布</td>\n    </tr>\n    <tr>\n      <th>3211</th>\n      <td>花样年花郡</td>\n      <td>成华</td>\n      <td>82.0</td>\n      <td>18544</td>\n      <td>1室1厅</td>\n      <td>44.22平米</td>\n      <td>东</td>\n      <td>简装</td>\n      <td>高楼层(共32层)</td>\n      <td>2008年建</td>\n      <td>板塔结合</td>\n      <td>13人关注</td>\n      <td>8个月以前发布</td>\n    </tr>\n    <tr>\n      <th>3212</th>\n      <td>槐树苑二期欣苑</td>\n      <td>成华</td>\n      <td>92.0</td>\n      <td>13946</td>\n      <td>2室2厅</td>\n      <td>65.97平米</td>\n      <td>南</td>\n      <td>简装</td>\n      <td>中楼层(共6层)</td>\n      <td>2004年建</td>\n      <td>板楼</td>\n      <td>78人关注</td>\n      <td>8个月以前发布</td>\n    </tr>\n  </tbody>\n</table>\n<p>2793 rows × 13 columns</p>\n</div>"
     },
     "execution_count": 27,
     "metadata": {},
     "output_type": "execute_result"
    }
   ],
   "source": [
    "data.单价=data.单价.map(lambda x:re.findall(r\"\\d+\\.?\\d*\",x)[0] )\n",
    "data"
   ],
   "metadata": {
    "collapsed": false,
    "pycharm": {
     "name": "#%%\n"
    }
   }
  },
  {
   "cell_type": "code",
   "execution_count": 28,
   "outputs": [],
   "source": [
    "data.单价=data.单价.map(lambda x:float(x))"
   ],
   "metadata": {
    "collapsed": false,
    "pycharm": {
     "name": "#%%\n"
    }
   }
  },
  {
   "cell_type": "code",
   "execution_count": 29,
   "outputs": [
    {
     "data": {
      "text/plain": "            位置信息  区域     总价       单价     房型          面积    朝向    类型  \\\n1        西蜀御景二期   崇州   77.0   5983.0  3室2厅     128.7平米    东南    毛坯    \n8      嘉裕第六洲龙泽台   崇州  200.0   9768.0  3室2厅    204.77平米     南    毛坯    \n23     嘉裕第六洲龙泽台   崇州  155.0   9592.0  3室2厅     161.6平米    东南    毛坯    \n25     嘉裕第六洲龙泽台   崇州  160.0   9932.0  4室2厅    161.11平米     南    毛坯    \n26     嘉裕第六洲龙泽台   崇州  100.0   7992.0  3室2厅    125.13平米     南    毛坯    \n...          ...  ..    ...      ...    ...         ...   ...   ...   \n3208   万科魅力之城四期   成华  180.0  22247.0  2室1厅     80.91平米     东    精装    \n3209      钢管厂三区   成华   90.0  16240.0  2室2厅     55.42平米     南    精装    \n3210  蜜城(双林南支路)   成华  140.0  14943.0  2室2厅     93.69平米    西北    简装    \n3211      花样年花郡   成华   82.0  18544.0  1室1厅     44.22平米     东    简装    \n3212    槐树苑二期欣苑   成华   92.0  13946.0  2室2厅     65.97平米     南    简装    \n\n               楼层      建成时间     结构    关注人数       发布时间  \n1      中楼层(共18层)    2012年建      塔楼  15人关注       一年前发布  \n8       低楼层(共7层)    2018年建    暂无数据   0人关注     1个月以前发布  \n23      高楼层(共9层)    2019年建      板楼   2人关注     2个月以前发布  \n25      高楼层(共9层)    2018年建      板楼   2人关注     1个月以前发布  \n26      中楼层(共9层)    2018年建      板楼   2人关注     1个月以前发布  \n...           ...       ...    ...     ...        ...  \n3208   中楼层(共18层)    2009年建      塔楼  25人关注    10个月以前发布  \n3209    中楼层(共7层)    1991年建      板楼  10人关注    10个月以前发布  \n3210   低楼层(共22层)    2007年建      板楼  27人关注     9个月以前发布  \n3211   高楼层(共32层)    2008年建    板塔结合  13人关注     8个月以前发布  \n3212    中楼层(共6层)    2004年建      板楼  78人关注     8个月以前发布  \n\n[2793 rows x 13 columns]",
      "text/html": "<div>\n<style scoped>\n    .dataframe tbody tr th:only-of-type {\n        vertical-align: middle;\n    }\n\n    .dataframe tbody tr th {\n        vertical-align: top;\n    }\n\n    .dataframe thead th {\n        text-align: right;\n    }\n</style>\n<table border=\"1\" class=\"dataframe\">\n  <thead>\n    <tr style=\"text-align: right;\">\n      <th></th>\n      <th>位置信息</th>\n      <th>区域</th>\n      <th>总价</th>\n      <th>单价</th>\n      <th>房型</th>\n      <th>面积</th>\n      <th>朝向</th>\n      <th>类型</th>\n      <th>楼层</th>\n      <th>建成时间</th>\n      <th>结构</th>\n      <th>关注人数</th>\n      <th>发布时间</th>\n    </tr>\n  </thead>\n  <tbody>\n    <tr>\n      <th>1</th>\n      <td>西蜀御景二期</td>\n      <td>崇州</td>\n      <td>77.0</td>\n      <td>5983.0</td>\n      <td>3室2厅</td>\n      <td>128.7平米</td>\n      <td>东南</td>\n      <td>毛坯</td>\n      <td>中楼层(共18层)</td>\n      <td>2012年建</td>\n      <td>塔楼</td>\n      <td>15人关注</td>\n      <td>一年前发布</td>\n    </tr>\n    <tr>\n      <th>8</th>\n      <td>嘉裕第六洲龙泽台</td>\n      <td>崇州</td>\n      <td>200.0</td>\n      <td>9768.0</td>\n      <td>3室2厅</td>\n      <td>204.77平米</td>\n      <td>南</td>\n      <td>毛坯</td>\n      <td>低楼层(共7层)</td>\n      <td>2018年建</td>\n      <td>暂无数据</td>\n      <td>0人关注</td>\n      <td>1个月以前发布</td>\n    </tr>\n    <tr>\n      <th>23</th>\n      <td>嘉裕第六洲龙泽台</td>\n      <td>崇州</td>\n      <td>155.0</td>\n      <td>9592.0</td>\n      <td>3室2厅</td>\n      <td>161.6平米</td>\n      <td>东南</td>\n      <td>毛坯</td>\n      <td>高楼层(共9层)</td>\n      <td>2019年建</td>\n      <td>板楼</td>\n      <td>2人关注</td>\n      <td>2个月以前发布</td>\n    </tr>\n    <tr>\n      <th>25</th>\n      <td>嘉裕第六洲龙泽台</td>\n      <td>崇州</td>\n      <td>160.0</td>\n      <td>9932.0</td>\n      <td>4室2厅</td>\n      <td>161.11平米</td>\n      <td>南</td>\n      <td>毛坯</td>\n      <td>高楼层(共9层)</td>\n      <td>2018年建</td>\n      <td>板楼</td>\n      <td>2人关注</td>\n      <td>1个月以前发布</td>\n    </tr>\n    <tr>\n      <th>26</th>\n      <td>嘉裕第六洲龙泽台</td>\n      <td>崇州</td>\n      <td>100.0</td>\n      <td>7992.0</td>\n      <td>3室2厅</td>\n      <td>125.13平米</td>\n      <td>南</td>\n      <td>毛坯</td>\n      <td>中楼层(共9层)</td>\n      <td>2018年建</td>\n      <td>板楼</td>\n      <td>2人关注</td>\n      <td>1个月以前发布</td>\n    </tr>\n    <tr>\n      <th>...</th>\n      <td>...</td>\n      <td>...</td>\n      <td>...</td>\n      <td>...</td>\n      <td>...</td>\n      <td>...</td>\n      <td>...</td>\n      <td>...</td>\n      <td>...</td>\n      <td>...</td>\n      <td>...</td>\n      <td>...</td>\n      <td>...</td>\n    </tr>\n    <tr>\n      <th>3208</th>\n      <td>万科魅力之城四期</td>\n      <td>成华</td>\n      <td>180.0</td>\n      <td>22247.0</td>\n      <td>2室1厅</td>\n      <td>80.91平米</td>\n      <td>东</td>\n      <td>精装</td>\n      <td>中楼层(共18层)</td>\n      <td>2009年建</td>\n      <td>塔楼</td>\n      <td>25人关注</td>\n      <td>10个月以前发布</td>\n    </tr>\n    <tr>\n      <th>3209</th>\n      <td>钢管厂三区</td>\n      <td>成华</td>\n      <td>90.0</td>\n      <td>16240.0</td>\n      <td>2室2厅</td>\n      <td>55.42平米</td>\n      <td>南</td>\n      <td>精装</td>\n      <td>中楼层(共7层)</td>\n      <td>1991年建</td>\n      <td>板楼</td>\n      <td>10人关注</td>\n      <td>10个月以前发布</td>\n    </tr>\n    <tr>\n      <th>3210</th>\n      <td>蜜城(双林南支路)</td>\n      <td>成华</td>\n      <td>140.0</td>\n      <td>14943.0</td>\n      <td>2室2厅</td>\n      <td>93.69平米</td>\n      <td>西北</td>\n      <td>简装</td>\n      <td>低楼层(共22层)</td>\n      <td>2007年建</td>\n      <td>板楼</td>\n      <td>27人关注</td>\n      <td>9个月以前发布</td>\n    </tr>\n    <tr>\n      <th>3211</th>\n      <td>花样年花郡</td>\n      <td>成华</td>\n      <td>82.0</td>\n      <td>18544.0</td>\n      <td>1室1厅</td>\n      <td>44.22平米</td>\n      <td>东</td>\n      <td>简装</td>\n      <td>高楼层(共32层)</td>\n      <td>2008年建</td>\n      <td>板塔结合</td>\n      <td>13人关注</td>\n      <td>8个月以前发布</td>\n    </tr>\n    <tr>\n      <th>3212</th>\n      <td>槐树苑二期欣苑</td>\n      <td>成华</td>\n      <td>92.0</td>\n      <td>13946.0</td>\n      <td>2室2厅</td>\n      <td>65.97平米</td>\n      <td>南</td>\n      <td>简装</td>\n      <td>中楼层(共6层)</td>\n      <td>2004年建</td>\n      <td>板楼</td>\n      <td>78人关注</td>\n      <td>8个月以前发布</td>\n    </tr>\n  </tbody>\n</table>\n<p>2793 rows × 13 columns</p>\n</div>"
     },
     "execution_count": 29,
     "metadata": {},
     "output_type": "execute_result"
    }
   ],
   "source": [
    "data"
   ],
   "metadata": {
    "collapsed": false,
    "pycharm": {
     "name": "#%%\n"
    }
   }
  },
  {
   "cell_type": "code",
   "execution_count": 30,
   "outputs": [
    {
     "data": {
      "text/plain": "         位置信息  区域     总价      单价     房型      面积    朝向    类型           楼层  \\\n1     西蜀御景二期   崇州   77.0  5983.0  3室2厅   128.70   东南    毛坯    中楼层(共18层)    \n8   嘉裕第六洲龙泽台   崇州  200.0  9768.0  3室2厅   204.77    南    毛坯     低楼层(共7层)    \n23  嘉裕第六洲龙泽台   崇州  155.0  9592.0  3室2厅   161.60   东南    毛坯     高楼层(共9层)    \n25  嘉裕第六洲龙泽台   崇州  160.0  9932.0  4室2厅   161.11    南    毛坯     高楼层(共9层)    \n26  嘉裕第六洲龙泽台   崇州  100.0  7992.0  3室2厅   125.13    南    毛坯     中楼层(共9层)    \n\n        建成时间     结构    关注人数      发布时间  \n1    2012年建      塔楼  15人关注      一年前发布  \n8    2018年建    暂无数据   0人关注    1个月以前发布  \n23   2019年建      板楼   2人关注    2个月以前发布  \n25   2018年建      板楼   2人关注    1个月以前发布  \n26   2018年建      板楼   2人关注    1个月以前发布  ",
      "text/html": "<div>\n<style scoped>\n    .dataframe tbody tr th:only-of-type {\n        vertical-align: middle;\n    }\n\n    .dataframe tbody tr th {\n        vertical-align: top;\n    }\n\n    .dataframe thead th {\n        text-align: right;\n    }\n</style>\n<table border=\"1\" class=\"dataframe\">\n  <thead>\n    <tr style=\"text-align: right;\">\n      <th></th>\n      <th>位置信息</th>\n      <th>区域</th>\n      <th>总价</th>\n      <th>单价</th>\n      <th>房型</th>\n      <th>面积</th>\n      <th>朝向</th>\n      <th>类型</th>\n      <th>楼层</th>\n      <th>建成时间</th>\n      <th>结构</th>\n      <th>关注人数</th>\n      <th>发布时间</th>\n    </tr>\n  </thead>\n  <tbody>\n    <tr>\n      <th>1</th>\n      <td>西蜀御景二期</td>\n      <td>崇州</td>\n      <td>77.0</td>\n      <td>5983.0</td>\n      <td>3室2厅</td>\n      <td>128.70</td>\n      <td>东南</td>\n      <td>毛坯</td>\n      <td>中楼层(共18层)</td>\n      <td>2012年建</td>\n      <td>塔楼</td>\n      <td>15人关注</td>\n      <td>一年前发布</td>\n    </tr>\n    <tr>\n      <th>8</th>\n      <td>嘉裕第六洲龙泽台</td>\n      <td>崇州</td>\n      <td>200.0</td>\n      <td>9768.0</td>\n      <td>3室2厅</td>\n      <td>204.77</td>\n      <td>南</td>\n      <td>毛坯</td>\n      <td>低楼层(共7层)</td>\n      <td>2018年建</td>\n      <td>暂无数据</td>\n      <td>0人关注</td>\n      <td>1个月以前发布</td>\n    </tr>\n    <tr>\n      <th>23</th>\n      <td>嘉裕第六洲龙泽台</td>\n      <td>崇州</td>\n      <td>155.0</td>\n      <td>9592.0</td>\n      <td>3室2厅</td>\n      <td>161.60</td>\n      <td>东南</td>\n      <td>毛坯</td>\n      <td>高楼层(共9层)</td>\n      <td>2019年建</td>\n      <td>板楼</td>\n      <td>2人关注</td>\n      <td>2个月以前发布</td>\n    </tr>\n    <tr>\n      <th>25</th>\n      <td>嘉裕第六洲龙泽台</td>\n      <td>崇州</td>\n      <td>160.0</td>\n      <td>9932.0</td>\n      <td>4室2厅</td>\n      <td>161.11</td>\n      <td>南</td>\n      <td>毛坯</td>\n      <td>高楼层(共9层)</td>\n      <td>2018年建</td>\n      <td>板楼</td>\n      <td>2人关注</td>\n      <td>1个月以前发布</td>\n    </tr>\n    <tr>\n      <th>26</th>\n      <td>嘉裕第六洲龙泽台</td>\n      <td>崇州</td>\n      <td>100.0</td>\n      <td>7992.0</td>\n      <td>3室2厅</td>\n      <td>125.13</td>\n      <td>南</td>\n      <td>毛坯</td>\n      <td>中楼层(共9层)</td>\n      <td>2018年建</td>\n      <td>板楼</td>\n      <td>2人关注</td>\n      <td>1个月以前发布</td>\n    </tr>\n  </tbody>\n</table>\n</div>"
     },
     "execution_count": 30,
     "metadata": {},
     "output_type": "execute_result"
    }
   ],
   "source": [
    "data.面积 = data.面积.map(lambda x : re.sub('[\\u4e00-\\u9fa5]','',x))\n",
    "data.面积 = data.面积.map(lambda x : float(x))\n",
    "data.head()"
   ],
   "metadata": {
    "collapsed": false,
    "pycharm": {
     "name": "#%%\n"
    }
   }
  },
  {
   "cell_type": "code",
   "execution_count": 31,
   "outputs": [
    {
     "data": {
      "text/plain": "         位置信息  区域     总价      单价     房型      面积    朝向    类型           楼层  \\\n1     西蜀御景二期   崇州   77.0  5983.0  3室2厅   128.70   东南    毛坯    中楼层(共18层)    \n8   嘉裕第六洲龙泽台   崇州  200.0  9768.0  3室2厅   204.77    南    毛坯     低楼层(共7层)    \n23  嘉裕第六洲龙泽台   崇州  155.0  9592.0  3室2厅   161.60   东南    毛坯     高楼层(共9层)    \n25  嘉裕第六洲龙泽台   崇州  160.0  9932.0  4室2厅   161.11    南    毛坯     高楼层(共9层)    \n26  嘉裕第六洲龙泽台   崇州  100.0  7992.0  3室2厅   125.13    南    毛坯     中楼层(共9层)    \n\n        建成时间     结构  关注人数      发布时间  \n1    2012年建      塔楼    15     一年前发布  \n8    2018年建    暂无数据     0   1个月以前发布  \n23   2019年建      板楼     2   2个月以前发布  \n25   2018年建      板楼     2   1个月以前发布  \n26   2018年建      板楼     2   1个月以前发布  ",
      "text/html": "<div>\n<style scoped>\n    .dataframe tbody tr th:only-of-type {\n        vertical-align: middle;\n    }\n\n    .dataframe tbody tr th {\n        vertical-align: top;\n    }\n\n    .dataframe thead th {\n        text-align: right;\n    }\n</style>\n<table border=\"1\" class=\"dataframe\">\n  <thead>\n    <tr style=\"text-align: right;\">\n      <th></th>\n      <th>位置信息</th>\n      <th>区域</th>\n      <th>总价</th>\n      <th>单价</th>\n      <th>房型</th>\n      <th>面积</th>\n      <th>朝向</th>\n      <th>类型</th>\n      <th>楼层</th>\n      <th>建成时间</th>\n      <th>结构</th>\n      <th>关注人数</th>\n      <th>发布时间</th>\n    </tr>\n  </thead>\n  <tbody>\n    <tr>\n      <th>1</th>\n      <td>西蜀御景二期</td>\n      <td>崇州</td>\n      <td>77.0</td>\n      <td>5983.0</td>\n      <td>3室2厅</td>\n      <td>128.70</td>\n      <td>东南</td>\n      <td>毛坯</td>\n      <td>中楼层(共18层)</td>\n      <td>2012年建</td>\n      <td>塔楼</td>\n      <td>15</td>\n      <td>一年前发布</td>\n    </tr>\n    <tr>\n      <th>8</th>\n      <td>嘉裕第六洲龙泽台</td>\n      <td>崇州</td>\n      <td>200.0</td>\n      <td>9768.0</td>\n      <td>3室2厅</td>\n      <td>204.77</td>\n      <td>南</td>\n      <td>毛坯</td>\n      <td>低楼层(共7层)</td>\n      <td>2018年建</td>\n      <td>暂无数据</td>\n      <td>0</td>\n      <td>1个月以前发布</td>\n    </tr>\n    <tr>\n      <th>23</th>\n      <td>嘉裕第六洲龙泽台</td>\n      <td>崇州</td>\n      <td>155.0</td>\n      <td>9592.0</td>\n      <td>3室2厅</td>\n      <td>161.60</td>\n      <td>东南</td>\n      <td>毛坯</td>\n      <td>高楼层(共9层)</td>\n      <td>2019年建</td>\n      <td>板楼</td>\n      <td>2</td>\n      <td>2个月以前发布</td>\n    </tr>\n    <tr>\n      <th>25</th>\n      <td>嘉裕第六洲龙泽台</td>\n      <td>崇州</td>\n      <td>160.0</td>\n      <td>9932.0</td>\n      <td>4室2厅</td>\n      <td>161.11</td>\n      <td>南</td>\n      <td>毛坯</td>\n      <td>高楼层(共9层)</td>\n      <td>2018年建</td>\n      <td>板楼</td>\n      <td>2</td>\n      <td>1个月以前发布</td>\n    </tr>\n    <tr>\n      <th>26</th>\n      <td>嘉裕第六洲龙泽台</td>\n      <td>崇州</td>\n      <td>100.0</td>\n      <td>7992.0</td>\n      <td>3室2厅</td>\n      <td>125.13</td>\n      <td>南</td>\n      <td>毛坯</td>\n      <td>中楼层(共9层)</td>\n      <td>2018年建</td>\n      <td>板楼</td>\n      <td>2</td>\n      <td>1个月以前发布</td>\n    </tr>\n  </tbody>\n</table>\n</div>"
     },
     "execution_count": 31,
     "metadata": {},
     "output_type": "execute_result"
    }
   ],
   "source": [
    "data.关注人数 = data.关注人数.map(lambda x : re.sub('[\\u4e00-\\u9fa5]','',x))\n",
    "data.关注人数 = data.关注人数.map(lambda x : int(x))\n",
    "data.head()"
   ],
   "metadata": {
    "collapsed": false,
    "pycharm": {
     "name": "#%%\n"
    }
   }
  },
  {
   "cell_type": "code",
   "execution_count": 32,
   "outputs": [],
   "source": [
    "data = data[data.建成时间.str.contains('年建')]"
   ],
   "metadata": {
    "collapsed": false,
    "pycharm": {
     "name": "#%%\n"
    }
   }
  },
  {
   "cell_type": "code",
   "execution_count": null,
   "outputs": [],
   "source": [],
   "metadata": {
    "collapsed": false,
    "pycharm": {
     "name": "#%%\n"
    }
   }
  },
  {
   "cell_type": "code",
   "execution_count": 33,
   "outputs": [
    {
     "name": "stderr",
     "output_type": "stream",
     "text": [
      "C:\\Users\\w\\AppData\\Local\\Temp\\ipykernel_25168\\392362808.py:1: SettingWithCopyWarning: \n",
      "A value is trying to be set on a copy of a slice from a DataFrame.\n",
      "Try using .loc[row_indexer,col_indexer] = value instead\n",
      "\n",
      "See the caveats in the documentation: https://pandas.pydata.org/pandas-docs/stable/user_guide/indexing.html#returning-a-view-versus-a-copy\n",
      "  data.建成时间 = data.建成时间.map(lambda x : re.sub('[\\u4e00-\\u9fa5]','',x))\n",
      "C:\\Users\\w\\AppData\\Local\\Temp\\ipykernel_25168\\392362808.py:2: SettingWithCopyWarning: \n",
      "A value is trying to be set on a copy of a slice from a DataFrame.\n",
      "Try using .loc[row_indexer,col_indexer] = value instead\n",
      "\n",
      "See the caveats in the documentation: https://pandas.pydata.org/pandas-docs/stable/user_guide/indexing.html#returning-a-view-versus-a-copy\n",
      "  data.建成时间 = data.建成时间.map(lambda x : int(x))\n"
     ]
    },
    {
     "data": {
      "text/plain": "         位置信息  区域     总价      单价     房型      面积    朝向    类型           楼层  \\\n1     西蜀御景二期   崇州   77.0  5983.0  3室2厅   128.70   东南    毛坯    中楼层(共18层)    \n8   嘉裕第六洲龙泽台   崇州  200.0  9768.0  3室2厅   204.77    南    毛坯     低楼层(共7层)    \n23  嘉裕第六洲龙泽台   崇州  155.0  9592.0  3室2厅   161.60   东南    毛坯     高楼层(共9层)    \n25  嘉裕第六洲龙泽台   崇州  160.0  9932.0  4室2厅   161.11    南    毛坯     高楼层(共9层)    \n26  嘉裕第六洲龙泽台   崇州  100.0  7992.0  3室2厅   125.13    南    毛坯     中楼层(共9层)    \n\n    建成时间     结构  关注人数      发布时间  \n1   2012     塔楼    15     一年前发布  \n8   2018   暂无数据     0   1个月以前发布  \n23  2019     板楼     2   2个月以前发布  \n25  2018     板楼     2   1个月以前发布  \n26  2018     板楼     2   1个月以前发布  ",
      "text/html": "<div>\n<style scoped>\n    .dataframe tbody tr th:only-of-type {\n        vertical-align: middle;\n    }\n\n    .dataframe tbody tr th {\n        vertical-align: top;\n    }\n\n    .dataframe thead th {\n        text-align: right;\n    }\n</style>\n<table border=\"1\" class=\"dataframe\">\n  <thead>\n    <tr style=\"text-align: right;\">\n      <th></th>\n      <th>位置信息</th>\n      <th>区域</th>\n      <th>总价</th>\n      <th>单价</th>\n      <th>房型</th>\n      <th>面积</th>\n      <th>朝向</th>\n      <th>类型</th>\n      <th>楼层</th>\n      <th>建成时间</th>\n      <th>结构</th>\n      <th>关注人数</th>\n      <th>发布时间</th>\n    </tr>\n  </thead>\n  <tbody>\n    <tr>\n      <th>1</th>\n      <td>西蜀御景二期</td>\n      <td>崇州</td>\n      <td>77.0</td>\n      <td>5983.0</td>\n      <td>3室2厅</td>\n      <td>128.70</td>\n      <td>东南</td>\n      <td>毛坯</td>\n      <td>中楼层(共18层)</td>\n      <td>2012</td>\n      <td>塔楼</td>\n      <td>15</td>\n      <td>一年前发布</td>\n    </tr>\n    <tr>\n      <th>8</th>\n      <td>嘉裕第六洲龙泽台</td>\n      <td>崇州</td>\n      <td>200.0</td>\n      <td>9768.0</td>\n      <td>3室2厅</td>\n      <td>204.77</td>\n      <td>南</td>\n      <td>毛坯</td>\n      <td>低楼层(共7层)</td>\n      <td>2018</td>\n      <td>暂无数据</td>\n      <td>0</td>\n      <td>1个月以前发布</td>\n    </tr>\n    <tr>\n      <th>23</th>\n      <td>嘉裕第六洲龙泽台</td>\n      <td>崇州</td>\n      <td>155.0</td>\n      <td>9592.0</td>\n      <td>3室2厅</td>\n      <td>161.60</td>\n      <td>东南</td>\n      <td>毛坯</td>\n      <td>高楼层(共9层)</td>\n      <td>2019</td>\n      <td>板楼</td>\n      <td>2</td>\n      <td>2个月以前发布</td>\n    </tr>\n    <tr>\n      <th>25</th>\n      <td>嘉裕第六洲龙泽台</td>\n      <td>崇州</td>\n      <td>160.0</td>\n      <td>9932.0</td>\n      <td>4室2厅</td>\n      <td>161.11</td>\n      <td>南</td>\n      <td>毛坯</td>\n      <td>高楼层(共9层)</td>\n      <td>2018</td>\n      <td>板楼</td>\n      <td>2</td>\n      <td>1个月以前发布</td>\n    </tr>\n    <tr>\n      <th>26</th>\n      <td>嘉裕第六洲龙泽台</td>\n      <td>崇州</td>\n      <td>100.0</td>\n      <td>7992.0</td>\n      <td>3室2厅</td>\n      <td>125.13</td>\n      <td>南</td>\n      <td>毛坯</td>\n      <td>中楼层(共9层)</td>\n      <td>2018</td>\n      <td>板楼</td>\n      <td>2</td>\n      <td>1个月以前发布</td>\n    </tr>\n  </tbody>\n</table>\n</div>"
     },
     "execution_count": 33,
     "metadata": {},
     "output_type": "execute_result"
    }
   ],
   "source": [
    "data.建成时间 = data.建成时间.map(lambda x : re.sub('[\\u4e00-\\u9fa5]','',x))\n",
    "data.建成时间 = data.建成时间.map(lambda x : int(x))\n",
    "data.head()"
   ],
   "metadata": {
    "collapsed": false,
    "pycharm": {
     "name": "#%%\n"
    }
   }
  },
  {
   "cell_type": "code",
   "execution_count": 34,
   "outputs": [
    {
     "data": {
      "text/plain": "蓝光富丽花城        52\n金科一城          45\n富丽东方          39\n首创国际城二期       37\n蓝光COCO时代      36\n              ..\n万年场下街121号      1\n建设路52号         1\n双林中横路14号       1\n双庆路45号院        1\n公交苑            1\nName: 位置信息, Length: 531, dtype: int64"
     },
     "execution_count": 34,
     "metadata": {},
     "output_type": "execute_result"
    }
   ],
   "source": [
    "data.位置信息.value_counts()"
   ],
   "metadata": {
    "collapsed": false,
    "pycharm": {
     "name": "#%%\n"
    }
   }
  },
  {
   "cell_type": "code",
   "execution_count": 35,
   "outputs": [],
   "source": [
    "index = data[data.结构.str.contains('暂无数据')].index"
   ],
   "metadata": {
    "collapsed": false,
    "pycharm": {
     "name": "#%%\n"
    }
   }
  },
  {
   "cell_type": "code",
   "execution_count": 36,
   "outputs": [],
   "source": [
    "for i in index:\n",
    "    data = data.drop(i,axis = 0)"
   ],
   "metadata": {
    "collapsed": false,
    "pycharm": {
     "name": "#%%\n"
    }
   }
  },
  {
   "cell_type": "code",
   "execution_count": 37,
   "outputs": [],
   "source": [
    "data.head()\n",
    "data.isnull().sum()\n",
    "data.duplicated().sum()\n",
    "data.to_csv(\"E:\\python大数据\\class11data.csv\")"
   ],
   "metadata": {
    "collapsed": false,
    "pycharm": {
     "name": "#%%\n"
    }
   }
  },
  {
   "cell_type": "code",
   "execution_count": null,
   "outputs": [],
   "source": [],
   "metadata": {
    "collapsed": false,
    "pycharm": {
     "name": "#%%\n"
    }
   }
  }
 ],
 "metadata": {
  "kernelspec": {
   "display_name": "Python 3",
   "language": "python",
   "name": "python3"
  },
  "language_info": {
   "codemirror_mode": {
    "name": "ipython",
    "version": 2
   },
   "file_extension": ".py",
   "mimetype": "text/x-python",
   "name": "python",
   "nbconvert_exporter": "python",
   "pygments_lexer": "ipython2",
   "version": "2.7.6"
  }
 },
 "nbformat": 4,
 "nbformat_minor": 0
}