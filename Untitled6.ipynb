{
 "cells": [
  {
   "cell_type": "code",
   "execution_count": 1,
   "id": "daae32f2",
   "metadata": {},
   "outputs": [],
   "source": [
    "import numpy\n",
    "import pandas\n",
    "import matplotlib"
   ]
  },
  {
   "cell_type": "code",
   "execution_count": 2,
   "id": "5936b326",
   "metadata": {},
   "outputs": [
    {
     "name": "stdout",
     "output_type": "stream",
     "text": [
      "1\n"
     ]
    }
   ],
   "source": [
    "a=1\n",
    "b=\"12345\"\n",
    "print(a)"
   ]
  },
  {
   "cell_type": "code",
   "execution_count": 3,
   "id": "23289e20",
   "metadata": {},
   "outputs": [
    {
     "name": "stdout",
     "output_type": "stream",
     "text": [
      "12345\n"
     ]
    }
   ],
   "source": [
    "print(b)"
   ]
  },
  {
   "cell_type": "code",
   "execution_count": 4,
   "id": "4d728132",
   "metadata": {},
   "outputs": [
    {
     "name": "stdout",
     "output_type": "stream",
     "text": [
      "[1]\n"
     ]
    }
   ],
   "source": [
    "[\"a\",12,13,[123,456]]\n",
    "c=[1]\n",
    "print(c)"
   ]
  },
  {
   "cell_type": "code",
   "execution_count": 5,
   "id": "4fabbe18",
   "metadata": {},
   "outputs": [
    {
     "ename": "IndexError",
     "evalue": "list index out of range",
     "output_type": "error",
     "traceback": [
      "\u001B[1;31m---------------------------------------------------------------------------\u001B[0m",
      "\u001B[1;31mIndexError\u001B[0m                                Traceback (most recent call last)",
      "Cell \u001B[1;32mIn[5], line 1\u001B[0m\n\u001B[1;32m----> 1\u001B[0m \u001B[38;5;28mprint\u001B[39m(\u001B[43mc\u001B[49m\u001B[43m[\u001B[49m\u001B[38;5;241;43m1\u001B[39;49m\u001B[43m]\u001B[49m)\n",
      "\u001B[1;31mIndexError\u001B[0m: list index out of range"
     ]
    }
   ],
   "source": [
    "print(c[1])"
   ]
  },
  {
   "cell_type": "code",
   "execution_count": 8,
   "id": "77411174",
   "metadata": {},
   "outputs": [
    {
     "ename": "SyntaxError",
     "evalue": "Missing parentheses in call to 'print'. Did you mean print(...)? (3939283643.py, line 3)",
     "output_type": "error",
     "traceback": [
      "\u001B[1;36m  Cell \u001B[1;32mIn[8], line 3\u001B[1;36m\u001B[0m\n\u001B[1;33m    print dict['c']\u001B[0m\n\u001B[1;37m    ^\u001B[0m\n\u001B[1;31mSyntaxError\u001B[0m\u001B[1;31m:\u001B[0m Missing parentheses in call to 'print'. Did you mean print(...)?\n"
     ]
    }
   ],
   "source": [
    "dict={'a':1,'b':2}\n",
    "dict['c':3]\n",
    "print dict['c']"
   ]
  },
  {
   "cell_type": "code",
   "execution_count": 7,
   "id": "ad7b3ca6",
   "metadata": {},
   "outputs": [
    {
     "ename": "SyntaxError",
     "evalue": "Missing parentheses in call to 'print'. Did you mean print(...)? (3625795540.py, line 3)",
     "output_type": "error",
     "traceback": [
      "\u001B[1;36m  Cell \u001B[1;32mIn[7], line 3\u001B[1;36m\u001B[0m\n\u001B[1;33m    print dict\u001B[0m\n\u001B[1;37m    ^\u001B[0m\n\u001B[1;31mSyntaxError\u001B[0m\u001B[1;31m:\u001B[0m Missing parentheses in call to 'print'. Did you mean print(...)?\n"
     ]
    }
   ],
   "source": [
    "dict={'a':1,'b':2}\n",
    "dict['c':3]\n",
    "print dict"
   ]
  },
  {
   "cell_type": "code",
   "execution_count": 9,
   "id": "58a4beda",
   "metadata": {},
   "outputs": [
    {
     "ename": "TypeError",
     "evalue": "unhashable type: 'slice'",
     "output_type": "error",
     "traceback": [
      "\u001B[1;31m---------------------------------------------------------------------------\u001B[0m",
      "\u001B[1;31mTypeError\u001B[0m                                 Traceback (most recent call last)",
      "Cell \u001B[1;32mIn[9], line 2\u001B[0m\n\u001B[0;32m      1\u001B[0m \u001B[38;5;28mdict\u001B[39m\u001B[38;5;241m=\u001B[39m{\u001B[38;5;124m'\u001B[39m\u001B[38;5;124ma\u001B[39m\u001B[38;5;124m'\u001B[39m:\u001B[38;5;241m1\u001B[39m,\u001B[38;5;124m'\u001B[39m\u001B[38;5;124mb\u001B[39m\u001B[38;5;124m'\u001B[39m:\u001B[38;5;241m2\u001B[39m}\n\u001B[1;32m----> 2\u001B[0m \u001B[38;5;28;43mdict\u001B[39;49m\u001B[43m[\u001B[49m\u001B[38;5;124;43m'\u001B[39;49m\u001B[38;5;124;43mc\u001B[39;49m\u001B[38;5;124;43m'\u001B[39;49m\u001B[43m:\u001B[49m\u001B[38;5;241;43m3\u001B[39;49m\u001B[43m]\u001B[49m\n\u001B[0;32m      3\u001B[0m \u001B[38;5;28mprint\u001B[39m (\u001B[38;5;28mdict\u001B[39m)\n",
      "\u001B[1;31mTypeError\u001B[0m: unhashable type: 'slice'"
     ]
    }
   ],
   "source": [
    "dict={'a':1,'b':2}\n",
    "dict['c':3]\n",
    "print (dict)"
   ]
  },
  {
   "cell_type": "code",
   "execution_count": 10,
   "id": "bc9a105f",
   "metadata": {},
   "outputs": [
    {
     "ename": "SyntaxError",
     "evalue": "Missing parentheses in call to 'print'. Did you mean print(...)? (857823247.py, line 3)",
     "output_type": "error",
     "traceback": [
      "\u001B[1;36m  Cell \u001B[1;32mIn[10], line 3\u001B[1;36m\u001B[0m\n\u001B[1;33m    print dict['c']\u001B[0m\n\u001B[1;37m    ^\u001B[0m\n\u001B[1;31mSyntaxError\u001B[0m\u001B[1;31m:\u001B[0m Missing parentheses in call to 'print'. Did you mean print(...)?\n"
     ]
    }
   ],
   "source": [
    "dict={'a':1,'b':2}\n",
    "dict['c']=3\n",
    "print dict['c']"
   ]
  },
  {
   "cell_type": "code",
   "execution_count": 11,
   "id": "56872020",
   "metadata": {},
   "outputs": [
    {
     "name": "stdout",
     "output_type": "stream",
     "text": [
      "{'a': 1, 'b': 2, 'c': 3}\n"
     ]
    }
   ],
   "source": [
    "dict={'a':1,'b':2}\n",
    "dict['c']=3\n",
    "print (dict)"
   ]
  },
  {
   "cell_type": "code",
   "execution_count": 39,
   "id": "6ff0bbf5",
   "metadata": {},
   "outputs": [
    {
     "ename": "SyntaxError",
     "evalue": "'function call' is an illegal expression for augmented assignment (590864513.py, line 3)",
     "output_type": "error",
     "traceback": [
      "\u001B[1;36m  Cell \u001B[1;32mIn[39], line 3\u001B[1;36m\u001B[0m\n\u001B[1;33m    dict['c'].values()+=1\u001B[0m\n\u001B[1;37m    ^\u001B[0m\n\u001B[1;31mSyntaxError\u001B[0m\u001B[1;31m:\u001B[0m 'function call' is an illegal expression for augmented assignment\n"
     ]
    }
   ],
   "source": [
    "dict={'a':1,'b':2}\n",
    "dict['c']=3\n",
    "dict['c']=1\n",
    "print (dict)\n",
    "print(dict['c'])"
   ]
  },
  {
   "cell_type": "code",
   "execution_count": 13,
   "id": "da221117",
   "metadata": {},
   "outputs": [
    {
     "name": "stdout",
     "output_type": "stream",
     "text": [
      "{'a': 1, 'b': 2, 'c': 3}\n",
      "3\n"
     ]
    },
    {
     "data": {
      "text/plain": [
       "dict_keys(['a', 'b', 'c'])"
      ]
     },
     "execution_count": 13,
     "metadata": {},
     "output_type": "execute_result"
    }
   ],
   "source": [
    "dict={'a':1,'b':2}\n",
    "dict['c']=3\n",
    "print (dict)\n",
    "print(dict['c'])\n",
    "dict.keys()"
   ]
  },
  {
   "cell_type": "code",
   "execution_count": 14,
   "id": "1a9f0416",
   "metadata": {},
   "outputs": [
    {
     "name": "stdout",
     "output_type": "stream",
     "text": [
      "{'a': 1, 'b': 2, 'c': 3}\n",
      "3\n"
     ]
    },
    {
     "data": {
      "text/plain": [
       "dict_values([1, 2, 3])"
      ]
     },
     "execution_count": 14,
     "metadata": {},
     "output_type": "execute_result"
    }
   ],
   "source": [
    "dict={'a':1,'b':2}\n",
    "dict['c']=3\n",
    "print (dict)\n",
    "print(dict['c'])\n",
    "dict.keys()\n",
    "dict.values()"
   ]
  },
  {
   "cell_type": "code",
   "execution_count": 15,
   "id": "8252942e",
   "metadata": {},
   "outputs": [
    {
     "ename": "SyntaxError",
     "evalue": "invalid syntax (3350577417.py, line 6)",
     "output_type": "error",
     "traceback": [
      "\u001B[1;36m  Cell \u001B[1;32mIn[15], line 6\u001B[1;36m\u001B[0m\n\u001B[1;33m    del.dict['a']\u001B[0m\n\u001B[1;37m       ^\u001B[0m\n\u001B[1;31mSyntaxError\u001B[0m\u001B[1;31m:\u001B[0m invalid syntax\n"
     ]
    }
   ],
   "source": [
    "dict={'a':1,'b':2}\n",
    "dict['c']=3\n",
    "print (dict)\n",
    "print(dict['c'])\n",
    "dict.keys()\n",
    "del.dict['a']\n",
    "print (dict)\n",
    "print (len(dict))"
   ]
  },
  {
   "cell_type": "code",
   "execution_count": 16,
   "id": "9055c17c",
   "metadata": {},
   "outputs": [
    {
     "name": "stdout",
     "output_type": "stream",
     "text": [
      "{'a': 1, 'b': 2, 'c': 3}\n",
      "3\n",
      "{'b': 2, 'c': 3}\n",
      "2\n"
     ]
    }
   ],
   "source": [
    "dict={'a':1,'b':2}\n",
    "dict['c']=3\n",
    "print (dict)\n",
    "print(dict['c'])\n",
    "dict.keys()\n",
    "del dict['a']\n",
    "print (dict)\n",
    "print (len(dict))"
   ]
  },
  {
   "cell_type": "code",
   "execution_count": 17,
   "id": "3470b4ff",
   "metadata": {},
   "outputs": [
    {
     "ename": "NameError",
     "evalue": "name 'doct1' is not defined",
     "output_type": "error",
     "traceback": [
      "\u001B[1;31m---------------------------------------------------------------------------\u001B[0m",
      "\u001B[1;31mNameError\u001B[0m                                 Traceback (most recent call last)",
      "Cell \u001B[1;32mIn[17], line 4\u001B[0m\n\u001B[0;32m      2\u001B[0m a\u001B[38;5;241m=\u001B[39m\u001B[38;5;241m1\u001B[39m\n\u001B[0;32m      3\u001B[0m \u001B[38;5;28;01mif\u001B[39;00m a\u001B[38;5;241m==\u001B[39m\u001B[38;5;241m1\u001B[39m:\n\u001B[1;32m----> 4\u001B[0m     \u001B[43mdoct1\u001B[49m[\u001B[38;5;124m'\u001B[39m\u001B[38;5;124m小明\u001B[39m\u001B[38;5;124m'\u001B[39m]\u001B[38;5;241m=\u001B[39m\u001B[38;5;241m1\u001B[39m\n\u001B[0;32m      5\u001B[0m \u001B[38;5;28;01melse\u001B[39;00m:\n\u001B[0;32m      6\u001B[0m     dict1[\u001B[38;5;124m'\u001B[39m\u001B[38;5;124m小明\u001B[39m\u001B[38;5;124m'\u001B[39m]\u001B[38;5;241m=\u001B[39m\u001B[38;5;241m2\u001B[39m\n",
      "\u001B[1;31mNameError\u001B[0m: name 'doct1' is not defined"
     ]
    }
   ],
   "source": [
    "dict1={'小明':0,'小刘':2}\n",
    "a=1\n",
    "if a==1:\n",
    "    dict1['小明']=1\n",
    "else:\n",
    "    dict1['小明']=2\n",
    "print(dict1)"
   ]
  },
  {
   "cell_type": "code",
   "execution_count": 18,
   "id": "85e1db19",
   "metadata": {},
   "outputs": [
    {
     "name": "stdout",
     "output_type": "stream",
     "text": [
      "{'小明': 1, '小刘': 2}\n"
     ]
    }
   ],
   "source": [
    "dict1={'小明':0,'小刘':2}\n",
    "a=1\n",
    "if a==1:\n",
    "    dict1['小明']=1\n",
    "else:\n",
    "    dict1['小明']=2\n",
    "print(dict1)"
   ]
  },
  {
   "cell_type": "code",
   "execution_count": 22,
   "id": "d3de45cc",
   "metadata": {},
   "outputs": [
    {
     "name": "stdout",
     "output_type": "stream",
     "text": [
      "The count is: 0\n",
      "The count is: 1\n",
      "The count is: 2\n",
      "The count is: 3\n",
      "The count is: 4\n",
      "The count is: 5\n",
      "The count is: 6\n",
      "The count is: 7\n",
      "The count is: 8\n",
      "Good bye!\n"
     ]
    }
   ],
   "source": [
    "count = 0\n",
    "while (count < 9):\n",
    "   print('The count is:', count)\n",
    "   count = count + 1\n",
    " \n",
    "print (\"Good bye!\")\n",
    "\n",
    "\n"
   ]
  },
  {
   "cell_type": "code",
   "execution_count": 27,
   "id": "7e83c32e",
   "metadata": {},
   "outputs": [
    {
     "name": "stdout",
     "output_type": "stream",
     "text": [
      "10\n"
     ]
    }
   ],
   "source": [
    "count1=0\n",
    "total=0\n",
    "while (count1<10):\n",
    "    total+=count1\n",
    "    count1=count1+1\n",
    "print(count1)\n"
   ]
  },
  {
   "cell_type": "code",
   "execution_count": 34,
   "id": "743becbe",
   "metadata": {},
   "outputs": [
    {
     "name": "stdout",
     "output_type": "stream",
     "text": [
      "55\n"
     ]
    }
   ],
   "source": [
    "count1=0\n",
    "total=0\n",
    "while (count1<11):\n",
    "    total+=count1\n",
    "    count1=count1+1\n",
    "print(total)"
   ]
  },
  {
   "cell_type": "code",
   "execution_count": 33,
   "id": "3f02931a",
   "metadata": {},
   "outputs": [
    {
     "name": "stdout",
     "output_type": "stream",
     "text": [
      "55\n"
     ]
    }
   ],
   "source": [
    "count1=0\n",
    "for i in range(0,11):\n",
    "    count1+=i\n",
    "print(count1)"
   ]
  },
  {
   "cell_type": "code",
   "execution_count": 35,
   "id": "fe1ad3cf",
   "metadata": {},
   "outputs": [
    {
     "name": "stdout",
     "output_type": "stream",
     "text": [
      "0\n",
      "1\n",
      "2\n",
      "3\n",
      "4\n",
      "5\n",
      "6\n",
      "7\n",
      "8\n",
      "9\n",
      "10\n"
     ]
    }
   ],
   "source": [
    "count1=0\n",
    "for i in range(0,11):\n",
    "    print(i)"
   ]
  },
  {
   "cell_type": "code",
   "execution_count": 36,
   "id": "930ae4a2",
   "metadata": {},
   "outputs": [
    {
     "name": "stdout",
     "output_type": "stream",
     "text": [
      "{'L': 1, 'i': 2, 'f': 1, 'e': 4, ' ': 4, 's': 2, 'h': 2, 'o': 2, 'r': 1, 't': 2, ',': 1, 'w': 1, 'n': 2, 'd': 1, 'P': 1, 'y': 1}\n"
     ]
    }
   ],
   "source": [
    "str1=\"Life is short,we need Python\"\n",
    "dict1={}\n",
    "for i in str1:\n",
    "    if i in dict1.keys():\n",
    "        dict1[i]=dict1[i]+1\n",
    "    else:\n",
    "        dict1[i]=1\n",
    "print(dict1)"
   ]
  },
  {
   "cell_type": "code",
   "execution_count": 40,
   "id": "a6b4f4b4",
   "metadata": {},
   "outputs": [
    {
     "name": "stdout",
     "output_type": "stream",
     "text": [
      "{'L': 1, 'i': 2, 'f': 1, 'e': 4, ' ': 4, 's': 2, 'h': 2, 'o': 2, 'r': 1, 't': 2, ',': 1, 'w': 1, 'n': 2, 'd': 1, 'P': 1, 'y': 1}\n"
     ]
    }
   ],
   "source": [
    "str1=\"Life is short,we need Python\"\n",
    "dict1={}\n",
    "for i in str1:\n",
    "    if i not in dict1.keys():\n",
    "         dict1[i]=1\n",
    "    else:\n",
    "       dict1[i]=dict1[i]+1\n",
    "print(dict1)"
   ]
  },
  {
   "cell_type": "code",
   "execution_count": 15,
   "id": "a680aafb",
   "metadata": {},
   "outputs": [
    {
     "name": "stdout",
     "output_type": "stream",
     "text": [
      "[1 2 3]\n",
      "----------------------\n",
      "[[1 2 3]\n",
      " [4 5 6]]\n",
      "----------------------\n",
      "[[[1 2 3]\n",
      "  [4 5 6]\n",
      "  [4 5 6]]\n",
      "\n",
      " [[7 8 9]\n",
      "  [7 8 9]\n",
      "  [7 8 9]]]\n",
      "----------------------\n",
      "[[0. 0. 0. 0.]\n",
      " [0. 0. 0. 0.]\n",
      " [0. 0. 0. 0.]]\n",
      "----------------------\n",
      "[[1. 1. 1. 1.]\n",
      " [1. 1. 1. 1.]\n",
      " [1. 1. 1. 1.]]\n",
      "----------------------\n",
      "[[1. 1. 1. 1.]\n",
      " [1. 1. 1. 1.]\n",
      " [1. 1. 1. 1.]]\n",
      "----------------------\n",
      "[0 2 4 6 8]\n",
      "----------------------\n"
     ]
    }
   ],
   "source": [
    "import numpy as np \n",
    "array1=np.array([1,2,3])\n",
    "print(array1)\n",
    "print(\"----------------------\")\n",
    "array2=np.array([[1,2,3],[4,5,6]])\n",
    "print(array2)\n",
    "print(\"----------------------\")\n",
    "array3=np.array([[[1,2,3],[4,5,6],[4,5,6]],[[7,8,9],[7,8,9],[7,8,9]]])\n",
    "print(array3)\n",
    "print(\"----------------------\")\n",
    "array4 = np.zeros((3,4)) \n",
    "print(array4)\n",
    "print(\"----------------------\")\n",
    "array5 = np.ones((3,4)) \n",
    "print(array5)\n",
    "print(\"----------------------\")\n",
    "array6 = np.empty((3,4)) \n",
    "print(array6)\n",
    "print(\"----------------------\")\n",
    "array7=np.arange(0,10,2)#0,10的前闭后开区间，step默认为一\n",
    "print(array7)\n",
    "print(\"----------------------\")\n"
   ]
  },
  {
   "cell_type": "code",
   "execution_count": 30,
   "id": "4077a9c1",
   "metadata": {},
   "outputs": [
    {
     "name": "stdout",
     "output_type": "stream",
     "text": [
      "[10 12 14 16 18 20 22 24 26 28 30 32 34 36 38 40 42 44 46 48 50 52 54 56\n",
      " 58 60]\n",
      "----------------------\n",
      "[10 20 30 40 50 60]\n",
      "----------------------\n",
      "[14 18 22]\n",
      "----------------------\n",
      "[12 14 16]\n",
      "[[10 12 14 16 18 20 22 24 26 28 30 32 34]\n",
      " [36 38 40 42 44 46 48 50 52 54 56 58 60]]\n",
      "----------------------\n",
      "40\n",
      "----------------------\n"
     ]
    }
   ],
   "source": [
    "array1=np.arange(10,61,2)\n",
    "print(array1)\n",
    "print(\"----------------------\")\n",
    "array2=np.array([10,20,30,40,50,60])\n",
    "print(array2)\n",
    "print(\"----------------------\")\n",
    "s = slice(2,7,2)   # 从索引 2 开始到索引 7 停止，间隔为2\n",
    "print (array1[s])\n",
    "print(\"----------------------\")\n",
    "array1=np.arange(10,61,2).reshape(2,13)#维度转换函数reshape\n",
    "print(array1)\n",
    "print(\"----------------------\")\n",
    "print(array1[1,2])#取第几行,第几列\n",
    "\n",
    "print(\"----------------------\")"
   ]
  },
  {
   "cell_type": "code",
   "execution_count": 43,
   "id": "de5654a9",
   "metadata": {},
   "outputs": [
    {
     "name": "stdout",
     "output_type": "stream",
     "text": [
      "[1 2 3 4 5 6 7 8 9]\n",
      "[2 3 4 5]\n",
      "----------------------\n",
      "[[1 2 3]\n",
      " [4 5 6]\n",
      " [7 8 9]]\n",
      "----------------------\n",
      "[[1 2 3]\n",
      " [7 8 9]]\n",
      "[[1 2 3]]\n",
      "----------------------\n",
      "[1 5]\n",
      "[1 6]\n",
      "----------------------\n"
     ]
    }
   ],
   "source": [
    "array1=np.arange(1,10,1)\n",
    "print(array1)\n",
    "print(array1[[1,2,3,4]])#取几个位置的数\n",
    "print(\"----------------------\")\n",
    "array1=np.arange(1,10,1).reshape(3,3)\n",
    "print(array1)\n",
    "print(\"----------------------\")\n",
    "print(array1[[0,2]])#低0行和第3行的数\n",
    "print(\"----------------------\")\n",
    "print(array1[[0,1],[0,1]])#取[0,0],[2,2]的值\n",
    "print(array1[[0,1],[0,2]])\n",
    "print(\"----------------------\")"
   ]
  },
  {
   "cell_type": "code",
   "execution_count": 51,
   "id": "f3082c9a",
   "metadata": {},
   "outputs": [
    {
     "name": "stdout",
     "output_type": "stream",
     "text": [
      "[False False False  True  True  True  True  True  True]\n",
      "[4 5 6 7 8 9]\n"
     ]
    }
   ],
   "source": [
    "#布尔索引\n",
    "array1=np.arange(1,10)\n",
    "print(array1>=4)\n",
    "print(array1[array1>=4])"
   ]
  },
  {
   "cell_type": "code",
   "execution_count": 7,
   "id": "efbce135",
   "metadata": {},
   "outputs": [
    {
     "name": "stdout",
     "output_type": "stream",
     "text": [
      "原随机元数组:\n",
      " [[12  5 15  5]\n",
      " [ 7  2  4  4]\n",
      " [ 6  3 11 18]\n",
      " [ 4 12 17  1]]\n",
      "排序后的数组:\n",
      " [[ 1  2  3  4]\n",
      " [ 4  4  5  5]\n",
      " [ 6  7 11 12]\n",
      " [12 15 17 18]]\n",
      "最终结果：\n",
      "第个1最大值{(3,1):15} 第个2最大值{(3,2):17} 第个3最大值{(3,3):18} "
     ]
    }
   ],
   "source": [
    "import numpy as np\n",
    "array = np.random.randint(1,20,size = [4,4])#随机数生成\n",
    "print(\"原随机元数组:\\n\",array)\n",
    "array = array.ravel()#多维转一维\n",
    "array.sort()#排序\n",
    "array = array.reshape(4,4)#数组重塑\n",
    "print(\"排序后的数组:\\n\",array)\n",
    "times = 0\n",
    "cout = 1\n",
    "print(\"最终结果：\")\n",
    "for i in range(len(array)):\n",
    "    for j in range(len(array[0])):\n",
    "        times+=1\n",
    "        if(times > len(array) * len(array[0]) -3):\n",
    "            print(\"第个{3}最大值{{({0},{1}):{2}}}\".format(i,j,array[i][j],cout),end = ' ')\n",
    "            cout += 1\n",
    "    "
   ]
  },
  {
   "cell_type": "code",
   "execution_count": 2,
   "id": "4b2dff58",
   "metadata": {},
   "outputs": [
    {
     "name": "stdout",
     "output_type": "stream",
     "text": [
      "总分最高为37分\n",
      "chinese最高分为17分\n",
      "math最高分为17分\n",
      "english最高分为6分\n",
      "总分最高同学的班级=1  id=5\n",
      "math分最高同学的班级=1  id=5\n",
      "english分最高同学的班级=2  id=3\n",
      "总分最高同学的班级=2  id=4\n",
      "chinese分最高同学的班级=2  id=4\n",
      "总分最高同学的班级=2  id=5\n",
      "math分最高同学的班级=2  id=5\n"
     ]
    },
    {
     "data": {
      "text/plain": "       chinese  math  english  score\n班级 姓名                               \n1  1        11    13        1     25\n   2        12    14        2     28\n   3        13    15        3     31\n   4        14    16        4     34\n   5        15    17        5     37\n2  1        13    18        1     32\n   2        12    14        2     28\n   3        13    15        6     34\n   4        17    16        4     37\n   5        15    17        5     37",
      "text/html": "<div>\n<style scoped>\n    .dataframe tbody tr th:only-of-type {\n        vertical-align: middle;\n    }\n\n    .dataframe tbody tr th {\n        vertical-align: top;\n    }\n\n    .dataframe thead th {\n        text-align: right;\n    }\n</style>\n<table border=\"1\" class=\"dataframe\">\n  <thead>\n    <tr style=\"text-align: right;\">\n      <th></th>\n      <th></th>\n      <th>chinese</th>\n      <th>math</th>\n      <th>english</th>\n      <th>score</th>\n    </tr>\n    <tr>\n      <th>班级</th>\n      <th>姓名</th>\n      <th></th>\n      <th></th>\n      <th></th>\n      <th></th>\n    </tr>\n  </thead>\n  <tbody>\n    <tr>\n      <th rowspan=\"5\" valign=\"top\">1</th>\n      <th>1</th>\n      <td>11</td>\n      <td>13</td>\n      <td>1</td>\n      <td>25</td>\n    </tr>\n    <tr>\n      <th>2</th>\n      <td>12</td>\n      <td>14</td>\n      <td>2</td>\n      <td>28</td>\n    </tr>\n    <tr>\n      <th>3</th>\n      <td>13</td>\n      <td>15</td>\n      <td>3</td>\n      <td>31</td>\n    </tr>\n    <tr>\n      <th>4</th>\n      <td>14</td>\n      <td>16</td>\n      <td>4</td>\n      <td>34</td>\n    </tr>\n    <tr>\n      <th>5</th>\n      <td>15</td>\n      <td>17</td>\n      <td>5</td>\n      <td>37</td>\n    </tr>\n    <tr>\n      <th rowspan=\"5\" valign=\"top\">2</th>\n      <th>1</th>\n      <td>13</td>\n      <td>18</td>\n      <td>1</td>\n      <td>32</td>\n    </tr>\n    <tr>\n      <th>2</th>\n      <td>12</td>\n      <td>14</td>\n      <td>2</td>\n      <td>28</td>\n    </tr>\n    <tr>\n      <th>3</th>\n      <td>13</td>\n      <td>15</td>\n      <td>6</td>\n      <td>34</td>\n    </tr>\n    <tr>\n      <th>4</th>\n      <td>17</td>\n      <td>16</td>\n      <td>4</td>\n      <td>37</td>\n    </tr>\n    <tr>\n      <th>5</th>\n      <td>15</td>\n      <td>17</td>\n      <td>5</td>\n      <td>37</td>\n    </tr>\n  </tbody>\n</table>\n</div>"
     },
     "execution_count": 2,
     "metadata": {},
     "output_type": "execute_result"
    }
   ],
   "source": [
    "import pandas as pd\n",
    "import numpy as np\n",
    "class1 = pd.read_csv(\"E:\\python大数据\\class1.csv\");\n",
    "class2 = pd.read_csv(\"E:\\python大数据\\class2.csv\");\n",
    "# print(class2)\n",
    "class1['banji'] = 1\n",
    "class2['banji'] = 2\n",
    "grade = pd.concat([class1,class2])\n",
    "#score\n",
    "grade['score'] = grade['chinese'] + grade['math'] +grade['english']\n",
    "maxscore=grade['score'].max()\n",
    "maxchinese=grade['chinese'].max()\n",
    "maxmath=grade['chinese'].max()\n",
    "maxenglish=grade['english'].max()\n",
    "print(\"总分最高为\"+str(maxscore)+\"分\")\n",
    "print(\"chinese最高分为\"+str(maxchinese)+\"分\")\n",
    "print(\"math最高分为\"+str(maxmath)+\"分\")\n",
    "print(\"english最高分为\"+str(maxenglish)+\"分\")\n",
    "for i in range(0, len(grade)):\n",
    "    if grade.iloc[i][5]==maxscore:\n",
    "        print('总分最高同学的班级='+str(grade.iloc[i][4])+'  id='+str(grade.iloc[i][0]))\n",
    "    if grade.iloc[i][1]==maxchinese:\n",
    "        print('chinese分最高同学的班级=' + str(grade.iloc[i][4]) + '  id=' + str(grade.iloc[i][0]))\n",
    "    if grade.iloc[i][2]==maxmath:\n",
    "        print('math分最高同学的班级=' + str(grade.iloc[i][4]) + '  id=' + str(grade.iloc[i][0]))\n",
    "    if grade.iloc[i][3]==maxenglish:\n",
    "        print('english分最高同学的班级=' + str(grade.iloc[i][4]) + '  id=' + str(grade.iloc[i][0]))\n",
    "\n",
    "#update index\n",
    "index1 = grade['banji']\n",
    "index2 = grade['id']\n",
    "index = pd.MultiIndex.from_arrays([index1,index2],names=['班级','姓名'])\n",
    "grade.index = index\n",
    "\n",
    "grade = grade[['chinese','math','english','score']]\n",
    "grade\n",
    "\n",
    "\n"
   ]
  },
  {
   "cell_type": "code",
   "execution_count": null,
   "outputs": [],
   "source": [],
   "metadata": {
    "collapsed": false,
    "pycharm": {
     "name": "#%%\n"
    }
   }
  }
 ],
 "metadata": {
  "kernelspec": {
   "display_name": "Python 3 (ipykernel)",
   "language": "python",
   "name": "python3"
  },
  "language_info": {
   "codemirror_mode": {
    "name": "ipython",
    "version": 3
   },
   "file_extension": ".py",
   "mimetype": "text/x-python",
   "name": "python",
   "nbconvert_exporter": "python",
   "pygments_lexer": "ipython3",
   "version": "3.10.1"
  }
 },
 "nbformat": 4,
 "nbformat_minor": 5
}