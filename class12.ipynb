{
 "cells": [
  {
   "cell_type": "code",
   "execution_count": 190,
   "metadata": {
    "collapsed": true
   },
   "outputs": [],
   "source": [
    "import numpy as np\n",
    "import pandas as pd\n",
    "import re\n",
    "import os\n",
    "import matplotlib.pyplot as plt\n",
    "import matplotlib as mpl\n",
    "from sklearn.model_selection import train_test_split\n",
    "from sklearn.linear_model import LinearRegression as LR\n",
    "from sklearn.metrics import r2_score"
   ]
  },
  {
   "cell_type": "code",
   "execution_count": 191,
   "outputs": [
    {
     "data": {
      "text/plain": "   Unnamed: 0       位置信息  区域     总价      单价     房型      面积    朝向    类型  \\\n0           1    西蜀御景二期   崇州   77.0  5983.0  3室2厅   128.70   东南    毛坯    \n1          23  嘉裕第六洲龙泽台   崇州  155.0  9592.0  3室2厅   161.60   东南    毛坯    \n2          25  嘉裕第六洲龙泽台   崇州  160.0  9932.0  4室2厅   161.11    南    毛坯    \n3          26  嘉裕第六洲龙泽台   崇州  100.0  7992.0  3室2厅   125.13    南    毛坯    \n4          28  嘉裕第六洲龙泽台   崇州  108.0  8522.0  3室2厅   126.74    南    简装    \n\n            楼层  建成时间   结构  关注人数      发布时间  \n0   中楼层(共18层)   2012   塔楼    15     一年前发布  \n1    高楼层(共9层)   2019   板楼     2   2个月以前发布  \n2    高楼层(共9层)   2018   板楼     2   1个月以前发布  \n3    中楼层(共9层)   2018   板楼     2   1个月以前发布  \n4    中楼层(共6层)   2018   板楼     1   1个月以前发布  ",
      "text/html": "<div>\n<style scoped>\n    .dataframe tbody tr th:only-of-type {\n        vertical-align: middle;\n    }\n\n    .dataframe tbody tr th {\n        vertical-align: top;\n    }\n\n    .dataframe thead th {\n        text-align: right;\n    }\n</style>\n<table border=\"1\" class=\"dataframe\">\n  <thead>\n    <tr style=\"text-align: right;\">\n      <th></th>\n      <th>Unnamed: 0</th>\n      <th>位置信息</th>\n      <th>区域</th>\n      <th>总价</th>\n      <th>单价</th>\n      <th>房型</th>\n      <th>面积</th>\n      <th>朝向</th>\n      <th>类型</th>\n      <th>楼层</th>\n      <th>建成时间</th>\n      <th>结构</th>\n      <th>关注人数</th>\n      <th>发布时间</th>\n    </tr>\n  </thead>\n  <tbody>\n    <tr>\n      <th>0</th>\n      <td>1</td>\n      <td>西蜀御景二期</td>\n      <td>崇州</td>\n      <td>77.0</td>\n      <td>5983.0</td>\n      <td>3室2厅</td>\n      <td>128.70</td>\n      <td>东南</td>\n      <td>毛坯</td>\n      <td>中楼层(共18层)</td>\n      <td>2012</td>\n      <td>塔楼</td>\n      <td>15</td>\n      <td>一年前发布</td>\n    </tr>\n    <tr>\n      <th>1</th>\n      <td>23</td>\n      <td>嘉裕第六洲龙泽台</td>\n      <td>崇州</td>\n      <td>155.0</td>\n      <td>9592.0</td>\n      <td>3室2厅</td>\n      <td>161.60</td>\n      <td>东南</td>\n      <td>毛坯</td>\n      <td>高楼层(共9层)</td>\n      <td>2019</td>\n      <td>板楼</td>\n      <td>2</td>\n      <td>2个月以前发布</td>\n    </tr>\n    <tr>\n      <th>2</th>\n      <td>25</td>\n      <td>嘉裕第六洲龙泽台</td>\n      <td>崇州</td>\n      <td>160.0</td>\n      <td>9932.0</td>\n      <td>4室2厅</td>\n      <td>161.11</td>\n      <td>南</td>\n      <td>毛坯</td>\n      <td>高楼层(共9层)</td>\n      <td>2018</td>\n      <td>板楼</td>\n      <td>2</td>\n      <td>1个月以前发布</td>\n    </tr>\n    <tr>\n      <th>3</th>\n      <td>26</td>\n      <td>嘉裕第六洲龙泽台</td>\n      <td>崇州</td>\n      <td>100.0</td>\n      <td>7992.0</td>\n      <td>3室2厅</td>\n      <td>125.13</td>\n      <td>南</td>\n      <td>毛坯</td>\n      <td>中楼层(共9层)</td>\n      <td>2018</td>\n      <td>板楼</td>\n      <td>2</td>\n      <td>1个月以前发布</td>\n    </tr>\n    <tr>\n      <th>4</th>\n      <td>28</td>\n      <td>嘉裕第六洲龙泽台</td>\n      <td>崇州</td>\n      <td>108.0</td>\n      <td>8522.0</td>\n      <td>3室2厅</td>\n      <td>126.74</td>\n      <td>南</td>\n      <td>简装</td>\n      <td>中楼层(共6层)</td>\n      <td>2018</td>\n      <td>板楼</td>\n      <td>1</td>\n      <td>1个月以前发布</td>\n    </tr>\n  </tbody>\n</table>\n</div>"
     },
     "execution_count": 191,
     "metadata": {},
     "output_type": "execute_result"
    }
   ],
   "source": [
    "input_dir='E:\\python大数据\\class11data.csv'\n",
    "data = pd.read_csv(input_dir);\n",
    "data.head()"
   ],
   "metadata": {
    "collapsed": false,
    "pycharm": {
     "name": "#%%\n"
    }
   }
  },
  {
   "cell_type": "code",
   "execution_count": 192,
   "outputs": [],
   "source": [
    "data = data.drop(['Unnamed: 0','位置信息','关注人数'],axis = 1)\n"
   ],
   "metadata": {
    "collapsed": false,
    "pycharm": {
     "name": "#%%\n"
    }
   }
  },
  {
   "cell_type": "code",
   "execution_count": 193,
   "outputs": [],
   "source": [
    "data = data.drop('发布时间',axis = 1)\n"
   ],
   "metadata": {
    "collapsed": false,
    "pycharm": {
     "name": "#%%\n"
    }
   }
  },
  {
   "cell_type": "code",
   "execution_count": 194,
   "outputs": [],
   "source": [
    "data = data.drop(data[data.楼层 == ' 30层 '].index)"
   ],
   "metadata": {
    "collapsed": false,
    "pycharm": {
     "name": "#%%\n"
    }
   }
  },
  {
   "cell_type": "code",
   "execution_count": 195,
   "outputs": [
    {
     "data": {
      "text/plain": "array(['崇州', '成华'], dtype=object)"
     },
     "execution_count": 195,
     "metadata": {},
     "output_type": "execute_result"
    }
   ],
   "source": [
    "data.区域.unique()\n"
   ],
   "metadata": {
    "collapsed": false,
    "pycharm": {
     "name": "#%%\n"
    }
   }
  },
  {
   "cell_type": "code",
   "execution_count": 196,
   "outputs": [],
   "source": [
    "data = data.join(pd.get_dummies(data.区域))\n",
    "data=data.drop('区域',axis=1)"
   ],
   "metadata": {
    "collapsed": false,
    "pycharm": {
     "name": "#%%\n"
    }
   }
  },
  {
   "cell_type": "code",
   "execution_count": 197,
   "outputs": [],
   "source": [
    "data = data.join(pd.get_dummies(data.房型))\n",
    "data=data.drop('房型',axis=1)"
   ],
   "metadata": {
    "collapsed": false,
    "pycharm": {
     "name": "#%%\n"
    }
   }
  },
  {
   "cell_type": "code",
   "execution_count": 198,
   "outputs": [],
   "source": [
    "data = data.join(pd.get_dummies(data.类型))\n",
    "data=data.drop('类型',axis=1)\n"
   ],
   "metadata": {
    "collapsed": false,
    "pycharm": {
     "name": "#%%\n"
    }
   }
  },
  {
   "cell_type": "code",
   "execution_count": 199,
   "outputs": [],
   "source": [
    "data = data.join(pd.get_dummies(data.结构))\n",
    "data=data.drop('结构',axis=1)"
   ],
   "metadata": {
    "collapsed": false,
    "pycharm": {
     "name": "#%%\n"
    }
   }
  },
  {
   "cell_type": "code",
   "execution_count": 200,
   "outputs": [
    {
     "data": {
      "text/plain": "      总价      单价      面积    朝向           楼层  建成时间  崇州  成华  1室0厅   1室1厅   ...  \\\n0   77.0  5983.0  128.70   东南    中楼层(共18层)   2012   1   0      0      0  ...   \n1  155.0  9592.0  161.60   东南     高楼层(共9层)   2019   1   0      0      0  ...   \n2  160.0  9932.0  161.11    南     高楼层(共9层)   2018   1   0      0      0  ...   \n3  100.0  7992.0  125.13    南     中楼层(共9层)   2018   1   0      0      0  ...   \n4  108.0  8522.0  126.74    南     中楼层(共6层)   2018   1   0      0      0  ...   \n\n   6室2厅   6室3厅    其他    毛坯    简装    精装    塔楼   平房   板塔结合   板楼  \n0      0      0     0     1     0     0    1    0      0    0  \n1      0      0     0     1     0     0    0    0      0    1  \n2      0      0     0     1     0     0    0    0      0    1  \n3      0      0     0     1     0     0    0    0      0    1  \n4      0      0     0     0     1     0    0    0      0    1  \n\n[5 rows x 34 columns]",
      "text/html": "<div>\n<style scoped>\n    .dataframe tbody tr th:only-of-type {\n        vertical-align: middle;\n    }\n\n    .dataframe tbody tr th {\n        vertical-align: top;\n    }\n\n    .dataframe thead th {\n        text-align: right;\n    }\n</style>\n<table border=\"1\" class=\"dataframe\">\n  <thead>\n    <tr style=\"text-align: right;\">\n      <th></th>\n      <th>总价</th>\n      <th>单价</th>\n      <th>面积</th>\n      <th>朝向</th>\n      <th>楼层</th>\n      <th>建成时间</th>\n      <th>崇州</th>\n      <th>成华</th>\n      <th>1室0厅</th>\n      <th>1室1厅</th>\n      <th>...</th>\n      <th>6室2厅</th>\n      <th>6室3厅</th>\n      <th>其他</th>\n      <th>毛坯</th>\n      <th>简装</th>\n      <th>精装</th>\n      <th>塔楼</th>\n      <th>平房</th>\n      <th>板塔结合</th>\n      <th>板楼</th>\n    </tr>\n  </thead>\n  <tbody>\n    <tr>\n      <th>0</th>\n      <td>77.0</td>\n      <td>5983.0</td>\n      <td>128.70</td>\n      <td>东南</td>\n      <td>中楼层(共18层)</td>\n      <td>2012</td>\n      <td>1</td>\n      <td>0</td>\n      <td>0</td>\n      <td>0</td>\n      <td>...</td>\n      <td>0</td>\n      <td>0</td>\n      <td>0</td>\n      <td>1</td>\n      <td>0</td>\n      <td>0</td>\n      <td>1</td>\n      <td>0</td>\n      <td>0</td>\n      <td>0</td>\n    </tr>\n    <tr>\n      <th>1</th>\n      <td>155.0</td>\n      <td>9592.0</td>\n      <td>161.60</td>\n      <td>东南</td>\n      <td>高楼层(共9层)</td>\n      <td>2019</td>\n      <td>1</td>\n      <td>0</td>\n      <td>0</td>\n      <td>0</td>\n      <td>...</td>\n      <td>0</td>\n      <td>0</td>\n      <td>0</td>\n      <td>1</td>\n      <td>0</td>\n      <td>0</td>\n      <td>0</td>\n      <td>0</td>\n      <td>0</td>\n      <td>1</td>\n    </tr>\n    <tr>\n      <th>2</th>\n      <td>160.0</td>\n      <td>9932.0</td>\n      <td>161.11</td>\n      <td>南</td>\n      <td>高楼层(共9层)</td>\n      <td>2018</td>\n      <td>1</td>\n      <td>0</td>\n      <td>0</td>\n      <td>0</td>\n      <td>...</td>\n      <td>0</td>\n      <td>0</td>\n      <td>0</td>\n      <td>1</td>\n      <td>0</td>\n      <td>0</td>\n      <td>0</td>\n      <td>0</td>\n      <td>0</td>\n      <td>1</td>\n    </tr>\n    <tr>\n      <th>3</th>\n      <td>100.0</td>\n      <td>7992.0</td>\n      <td>125.13</td>\n      <td>南</td>\n      <td>中楼层(共9层)</td>\n      <td>2018</td>\n      <td>1</td>\n      <td>0</td>\n      <td>0</td>\n      <td>0</td>\n      <td>...</td>\n      <td>0</td>\n      <td>0</td>\n      <td>0</td>\n      <td>1</td>\n      <td>0</td>\n      <td>0</td>\n      <td>0</td>\n      <td>0</td>\n      <td>0</td>\n      <td>1</td>\n    </tr>\n    <tr>\n      <th>4</th>\n      <td>108.0</td>\n      <td>8522.0</td>\n      <td>126.74</td>\n      <td>南</td>\n      <td>中楼层(共6层)</td>\n      <td>2018</td>\n      <td>1</td>\n      <td>0</td>\n      <td>0</td>\n      <td>0</td>\n      <td>...</td>\n      <td>0</td>\n      <td>0</td>\n      <td>0</td>\n      <td>0</td>\n      <td>1</td>\n      <td>0</td>\n      <td>0</td>\n      <td>0</td>\n      <td>0</td>\n      <td>1</td>\n    </tr>\n  </tbody>\n</table>\n<p>5 rows × 34 columns</p>\n</div>"
     },
     "execution_count": 200,
     "metadata": {},
     "output_type": "execute_result"
    }
   ],
   "source": [
    "data.head()"
   ],
   "metadata": {
    "collapsed": false,
    "pycharm": {
     "name": "#%%\n"
    }
   }
  },
  {
   "cell_type": "code",
   "execution_count": 201,
   "outputs": [],
   "source": [
    "data.loc[:,'floor']=data.楼层.map(lambda x:x.split('(')[0])"
   ],
   "metadata": {
    "collapsed": false,
    "pycharm": {
     "name": "#%%\n"
    }
   }
  },
  {
   "cell_type": "code",
   "execution_count": 202,
   "outputs": [
    {
     "data": {
      "text/plain": "      总价      单价      面积    朝向           楼层  建成时间  崇州  成华  1室0厅   1室1厅   ...  \\\n0   77.0  5983.0  128.70   东南    中楼层(共18层)   2012   1   0      0      0  ...   \n1  155.0  9592.0  161.60   东南     高楼层(共9层)   2019   1   0      0      0  ...   \n2  160.0  9932.0  161.11    南     高楼层(共9层)   2018   1   0      0      0  ...   \n3  100.0  7992.0  125.13    南     中楼层(共9层)   2018   1   0      0      0  ...   \n4  108.0  8522.0  126.74    南     中楼层(共6层)   2018   1   0      0      0  ...   \n\n    毛坯    简装    精装    塔楼   平房   板塔结合   板楼   中楼层   低楼层   高楼层  \n0     1     0     0    1    0      0    0     1     0     0  \n1     1     0     0    0    0      0    1     0     0     1  \n2     1     0     0    0    0      0    1     0     0     1  \n3     1     0     0    0    0      0    1     1     0     0  \n4     0     1     0    0    0      0    1     1     0     0  \n\n[5 rows x 37 columns]",
      "text/html": "<div>\n<style scoped>\n    .dataframe tbody tr th:only-of-type {\n        vertical-align: middle;\n    }\n\n    .dataframe tbody tr th {\n        vertical-align: top;\n    }\n\n    .dataframe thead th {\n        text-align: right;\n    }\n</style>\n<table border=\"1\" class=\"dataframe\">\n  <thead>\n    <tr style=\"text-align: right;\">\n      <th></th>\n      <th>总价</th>\n      <th>单价</th>\n      <th>面积</th>\n      <th>朝向</th>\n      <th>楼层</th>\n      <th>建成时间</th>\n      <th>崇州</th>\n      <th>成华</th>\n      <th>1室0厅</th>\n      <th>1室1厅</th>\n      <th>...</th>\n      <th>毛坯</th>\n      <th>简装</th>\n      <th>精装</th>\n      <th>塔楼</th>\n      <th>平房</th>\n      <th>板塔结合</th>\n      <th>板楼</th>\n      <th>中楼层</th>\n      <th>低楼层</th>\n      <th>高楼层</th>\n    </tr>\n  </thead>\n  <tbody>\n    <tr>\n      <th>0</th>\n      <td>77.0</td>\n      <td>5983.0</td>\n      <td>128.70</td>\n      <td>东南</td>\n      <td>中楼层(共18层)</td>\n      <td>2012</td>\n      <td>1</td>\n      <td>0</td>\n      <td>0</td>\n      <td>0</td>\n      <td>...</td>\n      <td>1</td>\n      <td>0</td>\n      <td>0</td>\n      <td>1</td>\n      <td>0</td>\n      <td>0</td>\n      <td>0</td>\n      <td>1</td>\n      <td>0</td>\n      <td>0</td>\n    </tr>\n    <tr>\n      <th>1</th>\n      <td>155.0</td>\n      <td>9592.0</td>\n      <td>161.60</td>\n      <td>东南</td>\n      <td>高楼层(共9层)</td>\n      <td>2019</td>\n      <td>1</td>\n      <td>0</td>\n      <td>0</td>\n      <td>0</td>\n      <td>...</td>\n      <td>1</td>\n      <td>0</td>\n      <td>0</td>\n      <td>0</td>\n      <td>0</td>\n      <td>0</td>\n      <td>1</td>\n      <td>0</td>\n      <td>0</td>\n      <td>1</td>\n    </tr>\n    <tr>\n      <th>2</th>\n      <td>160.0</td>\n      <td>9932.0</td>\n      <td>161.11</td>\n      <td>南</td>\n      <td>高楼层(共9层)</td>\n      <td>2018</td>\n      <td>1</td>\n      <td>0</td>\n      <td>0</td>\n      <td>0</td>\n      <td>...</td>\n      <td>1</td>\n      <td>0</td>\n      <td>0</td>\n      <td>0</td>\n      <td>0</td>\n      <td>0</td>\n      <td>1</td>\n      <td>0</td>\n      <td>0</td>\n      <td>1</td>\n    </tr>\n    <tr>\n      <th>3</th>\n      <td>100.0</td>\n      <td>7992.0</td>\n      <td>125.13</td>\n      <td>南</td>\n      <td>中楼层(共9层)</td>\n      <td>2018</td>\n      <td>1</td>\n      <td>0</td>\n      <td>0</td>\n      <td>0</td>\n      <td>...</td>\n      <td>1</td>\n      <td>0</td>\n      <td>0</td>\n      <td>0</td>\n      <td>0</td>\n      <td>0</td>\n      <td>1</td>\n      <td>1</td>\n      <td>0</td>\n      <td>0</td>\n    </tr>\n    <tr>\n      <th>4</th>\n      <td>108.0</td>\n      <td>8522.0</td>\n      <td>126.74</td>\n      <td>南</td>\n      <td>中楼层(共6层)</td>\n      <td>2018</td>\n      <td>1</td>\n      <td>0</td>\n      <td>0</td>\n      <td>0</td>\n      <td>...</td>\n      <td>0</td>\n      <td>1</td>\n      <td>0</td>\n      <td>0</td>\n      <td>0</td>\n      <td>0</td>\n      <td>1</td>\n      <td>1</td>\n      <td>0</td>\n      <td>0</td>\n    </tr>\n  </tbody>\n</table>\n<p>5 rows × 37 columns</p>\n</div>"
     },
     "execution_count": 202,
     "metadata": {},
     "output_type": "execute_result"
    }
   ],
   "source": [
    "data=data.join(pd.get_dummies(data['floor']))\n",
    "data=data.drop('floor',axis=1)\n",
    "data.head()"
   ],
   "metadata": {
    "collapsed": false,
    "pycharm": {
     "name": "#%%\n"
    }
   }
  },
  {
   "cell_type": "code",
   "execution_count": 203,
   "outputs": [
    {
     "data": {
      "text/plain": "      总价      单价      面积    朝向           楼层  建成时间  崇州  成华  1室0厅   1室1厅   ...  \\\n0   77.0  5983.0  128.70   东南    中楼层(共18层)   2012   1   0      0      0  ...   \n1  155.0  9592.0  161.60   东南     高楼层(共9层)   2019   1   0      0      0  ...   \n2  160.0  9932.0  161.11    南     高楼层(共9层)   2018   1   0      0      0  ...   \n3  100.0  7992.0  125.13    南     中楼层(共9层)   2018   1   0      0      0  ...   \n4  108.0  8522.0  126.74    南     中楼层(共6层)   2018   1   0      0      0  ...   \n\n    简装    精装    塔楼   平房   板塔结合   板楼   中楼层   低楼层   高楼层  总楼层  \n0     0     0    1    0      0    0     1     0     0  1.0  \n1     0     0    0    0      0    1     0     0     1  NaN  \n2     0     0    0    0      0    1     0     0     1  NaN  \n3     0     0    0    0      0    1     1     0     0  NaN  \n4     1     0    0    0      0    1     1     0     0  NaN  \n\n[5 rows x 38 columns]",
      "text/html": "<div>\n<style scoped>\n    .dataframe tbody tr th:only-of-type {\n        vertical-align: middle;\n    }\n\n    .dataframe tbody tr th {\n        vertical-align: top;\n    }\n\n    .dataframe thead th {\n        text-align: right;\n    }\n</style>\n<table border=\"1\" class=\"dataframe\">\n  <thead>\n    <tr style=\"text-align: right;\">\n      <th></th>\n      <th>总价</th>\n      <th>单价</th>\n      <th>面积</th>\n      <th>朝向</th>\n      <th>楼层</th>\n      <th>建成时间</th>\n      <th>崇州</th>\n      <th>成华</th>\n      <th>1室0厅</th>\n      <th>1室1厅</th>\n      <th>...</th>\n      <th>简装</th>\n      <th>精装</th>\n      <th>塔楼</th>\n      <th>平房</th>\n      <th>板塔结合</th>\n      <th>板楼</th>\n      <th>中楼层</th>\n      <th>低楼层</th>\n      <th>高楼层</th>\n      <th>总楼层</th>\n    </tr>\n  </thead>\n  <tbody>\n    <tr>\n      <th>0</th>\n      <td>77.0</td>\n      <td>5983.0</td>\n      <td>128.70</td>\n      <td>东南</td>\n      <td>中楼层(共18层)</td>\n      <td>2012</td>\n      <td>1</td>\n      <td>0</td>\n      <td>0</td>\n      <td>0</td>\n      <td>...</td>\n      <td>0</td>\n      <td>0</td>\n      <td>1</td>\n      <td>0</td>\n      <td>0</td>\n      <td>0</td>\n      <td>1</td>\n      <td>0</td>\n      <td>0</td>\n      <td>1.0</td>\n    </tr>\n    <tr>\n      <th>1</th>\n      <td>155.0</td>\n      <td>9592.0</td>\n      <td>161.60</td>\n      <td>东南</td>\n      <td>高楼层(共9层)</td>\n      <td>2019</td>\n      <td>1</td>\n      <td>0</td>\n      <td>0</td>\n      <td>0</td>\n      <td>...</td>\n      <td>0</td>\n      <td>0</td>\n      <td>0</td>\n      <td>0</td>\n      <td>0</td>\n      <td>1</td>\n      <td>0</td>\n      <td>0</td>\n      <td>1</td>\n      <td>NaN</td>\n    </tr>\n    <tr>\n      <th>2</th>\n      <td>160.0</td>\n      <td>9932.0</td>\n      <td>161.11</td>\n      <td>南</td>\n      <td>高楼层(共9层)</td>\n      <td>2018</td>\n      <td>1</td>\n      <td>0</td>\n      <td>0</td>\n      <td>0</td>\n      <td>...</td>\n      <td>0</td>\n      <td>0</td>\n      <td>0</td>\n      <td>0</td>\n      <td>0</td>\n      <td>1</td>\n      <td>0</td>\n      <td>0</td>\n      <td>1</td>\n      <td>NaN</td>\n    </tr>\n    <tr>\n      <th>3</th>\n      <td>100.0</td>\n      <td>7992.0</td>\n      <td>125.13</td>\n      <td>南</td>\n      <td>中楼层(共9层)</td>\n      <td>2018</td>\n      <td>1</td>\n      <td>0</td>\n      <td>0</td>\n      <td>0</td>\n      <td>...</td>\n      <td>0</td>\n      <td>0</td>\n      <td>0</td>\n      <td>0</td>\n      <td>0</td>\n      <td>1</td>\n      <td>1</td>\n      <td>0</td>\n      <td>0</td>\n      <td>NaN</td>\n    </tr>\n    <tr>\n      <th>4</th>\n      <td>108.0</td>\n      <td>8522.0</td>\n      <td>126.74</td>\n      <td>南</td>\n      <td>中楼层(共6层)</td>\n      <td>2018</td>\n      <td>1</td>\n      <td>0</td>\n      <td>0</td>\n      <td>0</td>\n      <td>...</td>\n      <td>1</td>\n      <td>0</td>\n      <td>0</td>\n      <td>0</td>\n      <td>0</td>\n      <td>1</td>\n      <td>1</td>\n      <td>0</td>\n      <td>0</td>\n      <td>NaN</td>\n    </tr>\n  </tbody>\n</table>\n<p>5 rows × 38 columns</p>\n</div>"
     },
     "execution_count": 203,
     "metadata": {},
     "output_type": "execute_result"
    }
   ],
   "source": [
    "\n",
    "data = data.join(pd.get_dummies(['总楼层']))\n",
    "data.head()"
   ],
   "metadata": {
    "collapsed": false,
    "pycharm": {
     "name": "#%%\n"
    }
   }
  },
  {
   "cell_type": "code",
   "execution_count": 204,
   "outputs": [
    {
     "data": {
      "text/plain": "         总价       单价      面积    朝向  建成时间  崇州  成华  1室0厅   1室1厅   1室2厅   ...  \\\n0      77.0   5983.0  128.70   东南   2012   1   0      0      0      0  ...   \n1     155.0   9592.0  161.60   东南   2019   1   0      0      0      0  ...   \n2     160.0   9932.0  161.11    南   2018   1   0      0      0      0  ...   \n3     100.0   7992.0  125.13    南   2018   1   0      0      0      0  ...   \n4     108.0   8522.0  126.74    南   2018   1   0      0      0      0  ...   \n...     ...      ...     ...   ...   ...  ..  ..    ...    ...    ...  ...   \n2769  180.0  22247.0   80.91    东   2009   0   1      0      0      0  ...   \n2770   90.0  16240.0   55.42    南   1991   0   1      0      0      0  ...   \n2771  140.0  14943.0   93.69   西北   2007   0   1      0      0      0  ...   \n2772   82.0  18544.0   44.22    东   2008   0   1      0      1      0  ...   \n2773   92.0  13946.0   65.97    南   2004   0   1      0      0      0  ...   \n\n       简装    精装    塔楼   平房   板塔结合   板楼   中楼层   低楼层   高楼层  总楼层  \n0        0     0    1    0      0    0     1     0     0   18  \n1        0     0    0    0      0    1     0     0     1    9  \n2        0     0    0    0      0    1     0     0     1    9  \n3        0     0    0    0      0    1     1     0     0    9  \n4        1     0    0    0      0    1     1     0     0    6  \n...    ...   ...  ...  ...    ...  ...   ...   ...   ...  ...  \n2769     0     1    1    0      0    0     1     0     0   18  \n2770     0     1    0    0      0    1     1     0     0    7  \n2771     1     0    0    0      0    1     0     1     0   22  \n2772     1     0    0    0      1    0     0     0     1   32  \n2773     1     0    0    0      0    1     1     0     0    6  \n\n[2773 rows x 37 columns]",
      "text/html": "<div>\n<style scoped>\n    .dataframe tbody tr th:only-of-type {\n        vertical-align: middle;\n    }\n\n    .dataframe tbody tr th {\n        vertical-align: top;\n    }\n\n    .dataframe thead th {\n        text-align: right;\n    }\n</style>\n<table border=\"1\" class=\"dataframe\">\n  <thead>\n    <tr style=\"text-align: right;\">\n      <th></th>\n      <th>总价</th>\n      <th>单价</th>\n      <th>面积</th>\n      <th>朝向</th>\n      <th>建成时间</th>\n      <th>崇州</th>\n      <th>成华</th>\n      <th>1室0厅</th>\n      <th>1室1厅</th>\n      <th>1室2厅</th>\n      <th>...</th>\n      <th>简装</th>\n      <th>精装</th>\n      <th>塔楼</th>\n      <th>平房</th>\n      <th>板塔结合</th>\n      <th>板楼</th>\n      <th>中楼层</th>\n      <th>低楼层</th>\n      <th>高楼层</th>\n      <th>总楼层</th>\n    </tr>\n  </thead>\n  <tbody>\n    <tr>\n      <th>0</th>\n      <td>77.0</td>\n      <td>5983.0</td>\n      <td>128.70</td>\n      <td>东南</td>\n      <td>2012</td>\n      <td>1</td>\n      <td>0</td>\n      <td>0</td>\n      <td>0</td>\n      <td>0</td>\n      <td>...</td>\n      <td>0</td>\n      <td>0</td>\n      <td>1</td>\n      <td>0</td>\n      <td>0</td>\n      <td>0</td>\n      <td>1</td>\n      <td>0</td>\n      <td>0</td>\n      <td>18</td>\n    </tr>\n    <tr>\n      <th>1</th>\n      <td>155.0</td>\n      <td>9592.0</td>\n      <td>161.60</td>\n      <td>东南</td>\n      <td>2019</td>\n      <td>1</td>\n      <td>0</td>\n      <td>0</td>\n      <td>0</td>\n      <td>0</td>\n      <td>...</td>\n      <td>0</td>\n      <td>0</td>\n      <td>0</td>\n      <td>0</td>\n      <td>0</td>\n      <td>1</td>\n      <td>0</td>\n      <td>0</td>\n      <td>1</td>\n      <td>9</td>\n    </tr>\n    <tr>\n      <th>2</th>\n      <td>160.0</td>\n      <td>9932.0</td>\n      <td>161.11</td>\n      <td>南</td>\n      <td>2018</td>\n      <td>1</td>\n      <td>0</td>\n      <td>0</td>\n      <td>0</td>\n      <td>0</td>\n      <td>...</td>\n      <td>0</td>\n      <td>0</td>\n      <td>0</td>\n      <td>0</td>\n      <td>0</td>\n      <td>1</td>\n      <td>0</td>\n      <td>0</td>\n      <td>1</td>\n      <td>9</td>\n    </tr>\n    <tr>\n      <th>3</th>\n      <td>100.0</td>\n      <td>7992.0</td>\n      <td>125.13</td>\n      <td>南</td>\n      <td>2018</td>\n      <td>1</td>\n      <td>0</td>\n      <td>0</td>\n      <td>0</td>\n      <td>0</td>\n      <td>...</td>\n      <td>0</td>\n      <td>0</td>\n      <td>0</td>\n      <td>0</td>\n      <td>0</td>\n      <td>1</td>\n      <td>1</td>\n      <td>0</td>\n      <td>0</td>\n      <td>9</td>\n    </tr>\n    <tr>\n      <th>4</th>\n      <td>108.0</td>\n      <td>8522.0</td>\n      <td>126.74</td>\n      <td>南</td>\n      <td>2018</td>\n      <td>1</td>\n      <td>0</td>\n      <td>0</td>\n      <td>0</td>\n      <td>0</td>\n      <td>...</td>\n      <td>1</td>\n      <td>0</td>\n      <td>0</td>\n      <td>0</td>\n      <td>0</td>\n      <td>1</td>\n      <td>1</td>\n      <td>0</td>\n      <td>0</td>\n      <td>6</td>\n    </tr>\n    <tr>\n      <th>...</th>\n      <td>...</td>\n      <td>...</td>\n      <td>...</td>\n      <td>...</td>\n      <td>...</td>\n      <td>...</td>\n      <td>...</td>\n      <td>...</td>\n      <td>...</td>\n      <td>...</td>\n      <td>...</td>\n      <td>...</td>\n      <td>...</td>\n      <td>...</td>\n      <td>...</td>\n      <td>...</td>\n      <td>...</td>\n      <td>...</td>\n      <td>...</td>\n      <td>...</td>\n      <td>...</td>\n    </tr>\n    <tr>\n      <th>2769</th>\n      <td>180.0</td>\n      <td>22247.0</td>\n      <td>80.91</td>\n      <td>东</td>\n      <td>2009</td>\n      <td>0</td>\n      <td>1</td>\n      <td>0</td>\n      <td>0</td>\n      <td>0</td>\n      <td>...</td>\n      <td>0</td>\n      <td>1</td>\n      <td>1</td>\n      <td>0</td>\n      <td>0</td>\n      <td>0</td>\n      <td>1</td>\n      <td>0</td>\n      <td>0</td>\n      <td>18</td>\n    </tr>\n    <tr>\n      <th>2770</th>\n      <td>90.0</td>\n      <td>16240.0</td>\n      <td>55.42</td>\n      <td>南</td>\n      <td>1991</td>\n      <td>0</td>\n      <td>1</td>\n      <td>0</td>\n      <td>0</td>\n      <td>0</td>\n      <td>...</td>\n      <td>0</td>\n      <td>1</td>\n      <td>0</td>\n      <td>0</td>\n      <td>0</td>\n      <td>1</td>\n      <td>1</td>\n      <td>0</td>\n      <td>0</td>\n      <td>7</td>\n    </tr>\n    <tr>\n      <th>2771</th>\n      <td>140.0</td>\n      <td>14943.0</td>\n      <td>93.69</td>\n      <td>西北</td>\n      <td>2007</td>\n      <td>0</td>\n      <td>1</td>\n      <td>0</td>\n      <td>0</td>\n      <td>0</td>\n      <td>...</td>\n      <td>1</td>\n      <td>0</td>\n      <td>0</td>\n      <td>0</td>\n      <td>0</td>\n      <td>1</td>\n      <td>0</td>\n      <td>1</td>\n      <td>0</td>\n      <td>22</td>\n    </tr>\n    <tr>\n      <th>2772</th>\n      <td>82.0</td>\n      <td>18544.0</td>\n      <td>44.22</td>\n      <td>东</td>\n      <td>2008</td>\n      <td>0</td>\n      <td>1</td>\n      <td>0</td>\n      <td>1</td>\n      <td>0</td>\n      <td>...</td>\n      <td>1</td>\n      <td>0</td>\n      <td>0</td>\n      <td>0</td>\n      <td>1</td>\n      <td>0</td>\n      <td>0</td>\n      <td>0</td>\n      <td>1</td>\n      <td>32</td>\n    </tr>\n    <tr>\n      <th>2773</th>\n      <td>92.0</td>\n      <td>13946.0</td>\n      <td>65.97</td>\n      <td>南</td>\n      <td>2004</td>\n      <td>0</td>\n      <td>1</td>\n      <td>0</td>\n      <td>0</td>\n      <td>0</td>\n      <td>...</td>\n      <td>1</td>\n      <td>0</td>\n      <td>0</td>\n      <td>0</td>\n      <td>0</td>\n      <td>1</td>\n      <td>1</td>\n      <td>0</td>\n      <td>0</td>\n      <td>6</td>\n    </tr>\n  </tbody>\n</table>\n<p>2773 rows × 37 columns</p>\n</div>"
     },
     "execution_count": 204,
     "metadata": {},
     "output_type": "execute_result"
    }
   ],
   "source": [
    "data.总楼层=data.楼层.map(lambda x:re.findall(r\"\\d+\\.?\\d*\",x)[0] )\n",
    "data=data.drop('楼层',axis=1)\n",
    "data"
   ],
   "metadata": {
    "collapsed": false,
    "pycharm": {
     "name": "#%%\n"
    }
   }
  },
  {
   "cell_type": "code",
   "execution_count": 205,
   "outputs": [],
   "source": [
    "array1=np.zeros((len(data),8),dtype=np.int32)"
   ],
   "metadata": {
    "collapsed": false,
    "pycharm": {
     "name": "#%%\n"
    }
   }
  },
  {
   "cell_type": "code",
   "execution_count": 206,
   "outputs": [],
   "source": [
    "df=pd.DataFrame(array1,columns=['东', '南', '西', '北', '东北', '东南', '西南', '西北'])"
   ],
   "metadata": {
    "collapsed": false,
    "pycharm": {
     "name": "#%%\n"
    }
   }
  },
  {
   "cell_type": "markdown",
   "source": [],
   "metadata": {
    "collapsed": false
   }
  },
  {
   "cell_type": "code",
   "execution_count": 207,
   "outputs": [],
   "source": [
    "def get_dummies_dir(house_dir):\n",
    "    for i in range(len(house_dir)):\n",
    "        a = house_dir[i].split(' ')\n",
    "        for j in a:\n",
    "            df.loc[i,str(j)] = 1"
   ],
   "metadata": {
    "collapsed": false,
    "pycharm": {
     "name": "#%%\n"
    }
   }
  },
  {
   "cell_type": "code",
   "execution_count": 208,
   "outputs": [],
   "source": [
    "data=data.reset_index()\n",
    "data=data.drop('index',axis=1)\n",
    "\n",
    "#data=data.drop()"
   ],
   "metadata": {
    "collapsed": false,
    "pycharm": {
     "name": "#%%\n"
    }
   }
  },
  {
   "cell_type": "code",
   "execution_count": 209,
   "outputs": [
    {
     "data": {
      "text/plain": "      总价      单价      面积  建成时间  崇州  成华  1室0厅   1室1厅   1室2厅   2室0厅   ...   高楼层  \\\n0   77.0  5983.0  128.70  2012   1   0      0      0      0      0  ...     0   \n1  155.0  9592.0  161.60  2019   1   0      0      0      0      0  ...     1   \n2  160.0  9932.0  161.11  2018   1   0      0      0      0      0  ...     1   \n3  100.0  7992.0  125.13  2018   1   0      0      0      0      0  ...     0   \n4  108.0  8522.0  126.74  2018   1   0      0      0      0      0  ...     0   \n\n   总楼层  东  南  西  北  东北  东南  西南  西北  \n0   18  0  0  0  0   0   1   0   0  \n1    9  0  0  0  0   0   1   0   0  \n2    9  0  1  0  0   0   0   0   0  \n3    9  0  1  0  0   0   0   0   0  \n4    6  0  1  0  0   0   0   0   0  \n\n[5 rows x 44 columns]",
      "text/html": "<div>\n<style scoped>\n    .dataframe tbody tr th:only-of-type {\n        vertical-align: middle;\n    }\n\n    .dataframe tbody tr th {\n        vertical-align: top;\n    }\n\n    .dataframe thead th {\n        text-align: right;\n    }\n</style>\n<table border=\"1\" class=\"dataframe\">\n  <thead>\n    <tr style=\"text-align: right;\">\n      <th></th>\n      <th>总价</th>\n      <th>单价</th>\n      <th>面积</th>\n      <th>建成时间</th>\n      <th>崇州</th>\n      <th>成华</th>\n      <th>1室0厅</th>\n      <th>1室1厅</th>\n      <th>1室2厅</th>\n      <th>2室0厅</th>\n      <th>...</th>\n      <th>高楼层</th>\n      <th>总楼层</th>\n      <th>东</th>\n      <th>南</th>\n      <th>西</th>\n      <th>北</th>\n      <th>东北</th>\n      <th>东南</th>\n      <th>西南</th>\n      <th>西北</th>\n    </tr>\n  </thead>\n  <tbody>\n    <tr>\n      <th>0</th>\n      <td>77.0</td>\n      <td>5983.0</td>\n      <td>128.70</td>\n      <td>2012</td>\n      <td>1</td>\n      <td>0</td>\n      <td>0</td>\n      <td>0</td>\n      <td>0</td>\n      <td>0</td>\n      <td>...</td>\n      <td>0</td>\n      <td>18</td>\n      <td>0</td>\n      <td>0</td>\n      <td>0</td>\n      <td>0</td>\n      <td>0</td>\n      <td>1</td>\n      <td>0</td>\n      <td>0</td>\n    </tr>\n    <tr>\n      <th>1</th>\n      <td>155.0</td>\n      <td>9592.0</td>\n      <td>161.60</td>\n      <td>2019</td>\n      <td>1</td>\n      <td>0</td>\n      <td>0</td>\n      <td>0</td>\n      <td>0</td>\n      <td>0</td>\n      <td>...</td>\n      <td>1</td>\n      <td>9</td>\n      <td>0</td>\n      <td>0</td>\n      <td>0</td>\n      <td>0</td>\n      <td>0</td>\n      <td>1</td>\n      <td>0</td>\n      <td>0</td>\n    </tr>\n    <tr>\n      <th>2</th>\n      <td>160.0</td>\n      <td>9932.0</td>\n      <td>161.11</td>\n      <td>2018</td>\n      <td>1</td>\n      <td>0</td>\n      <td>0</td>\n      <td>0</td>\n      <td>0</td>\n      <td>0</td>\n      <td>...</td>\n      <td>1</td>\n      <td>9</td>\n      <td>0</td>\n      <td>1</td>\n      <td>0</td>\n      <td>0</td>\n      <td>0</td>\n      <td>0</td>\n      <td>0</td>\n      <td>0</td>\n    </tr>\n    <tr>\n      <th>3</th>\n      <td>100.0</td>\n      <td>7992.0</td>\n      <td>125.13</td>\n      <td>2018</td>\n      <td>1</td>\n      <td>0</td>\n      <td>0</td>\n      <td>0</td>\n      <td>0</td>\n      <td>0</td>\n      <td>...</td>\n      <td>0</td>\n      <td>9</td>\n      <td>0</td>\n      <td>1</td>\n      <td>0</td>\n      <td>0</td>\n      <td>0</td>\n      <td>0</td>\n      <td>0</td>\n      <td>0</td>\n    </tr>\n    <tr>\n      <th>4</th>\n      <td>108.0</td>\n      <td>8522.0</td>\n      <td>126.74</td>\n      <td>2018</td>\n      <td>1</td>\n      <td>0</td>\n      <td>0</td>\n      <td>0</td>\n      <td>0</td>\n      <td>0</td>\n      <td>...</td>\n      <td>0</td>\n      <td>6</td>\n      <td>0</td>\n      <td>1</td>\n      <td>0</td>\n      <td>0</td>\n      <td>0</td>\n      <td>0</td>\n      <td>0</td>\n      <td>0</td>\n    </tr>\n  </tbody>\n</table>\n<p>5 rows × 44 columns</p>\n</div>"
     },
     "execution_count": 209,
     "metadata": {},
     "output_type": "execute_result"
    }
   ],
   "source": [
    "get_dummies_dir(data.朝向)\n",
    "df = df.drop('',axis = 1)\n",
    "data = data.join(df)\n",
    "data = data.drop('朝向',axis = 1)\n",
    "data.head()"
   ],
   "metadata": {
    "collapsed": false,
    "pycharm": {
     "name": "#%%\n"
    }
   }
  },
  {
   "cell_type": "code",
   "execution_count": 210,
   "outputs": [],
   "source": [
    "y=data.单价"
   ],
   "metadata": {
    "collapsed": false,
    "pycharm": {
     "name": "#%%\n"
    }
   }
  },
  {
   "cell_type": "code",
   "execution_count": 211,
   "outputs": [
    {
     "data": {
      "text/plain": "Index(['总价', '单价', '面积', '建成时间', '崇州', '成华', '1室0厅 ', '1室1厅 ', '1室2厅 ',\n       '2室0厅 ', '2室1厅 ', '2室2厅 ', '3室0厅 ', '3室1厅 ', '3室2厅 ', '4室1厅 ', '4室2厅 ',\n       '4室3厅 ', '4室4厅 ', '5室1厅 ', '5室2厅 ', '5室3厅 ', '6室2厅 ', '6室3厅 ', ' 其他 ',\n       ' 毛坯 ', ' 简装 ', ' 精装 ', ' 塔楼', ' 平房', ' 板塔结合', ' 板楼', ' 中楼层', ' 低楼层',\n       ' 高楼层', '总楼层', '东', '南', '西', '北', '东北', '东南', '西南', '西北'],\n      dtype='object')"
     },
     "execution_count": 211,
     "metadata": {},
     "output_type": "execute_result"
    }
   ],
   "source": [
    "data.columns"
   ],
   "metadata": {
    "collapsed": false,
    "pycharm": {
     "name": "#%%\n"
    }
   }
  },
  {
   "cell_type": "code",
   "execution_count": 212,
   "outputs": [],
   "source": [
    "x=data[['面积','崇州', '成华', '1室0厅 ', '1室1厅 ', '1室2厅 ',\n",
    "       '2室0厅 ', '2室1厅 ', '2室2厅 ', '3室0厅 ', '3室1厅 ', '3室2厅 ', '4室1厅 ', '4室2厅 ',\n",
    "       '4室3厅 ', '4室4厅 ', '5室1厅 ', '5室2厅 ', '5室3厅 ', '6室2厅 ', '6室3厅 ', ' 塔楼', ' 平房', ' 中楼层', ' 低楼层',\n",
    "       ' 高楼层', '总楼层','东', '南', '西', '北', '东北', '东南', '西南', '西北']]"
   ],
   "metadata": {
    "collapsed": false,
    "pycharm": {
     "name": "#%%\n"
    }
   }
  },
  {
   "cell_type": "code",
   "execution_count": 213,
   "outputs": [],
   "source": [
    "xtrain,xtest,ytrain,ytest=train_test_split(x,y,test_size=0.2,random_state=10)\n"
   ],
   "metadata": {
    "collapsed": false,
    "pycharm": {
     "name": "#%%\n"
    }
   }
  },
  {
   "cell_type": "code",
   "execution_count": 214,
   "outputs": [],
   "source": [
    "reg=LR().fit(xtrain,ytrain)"
   ],
   "metadata": {
    "collapsed": false,
    "pycharm": {
     "name": "#%%\n"
    }
   }
  },
  {
   "cell_type": "code",
   "execution_count": 215,
   "outputs": [],
   "source": [
    "ypre=reg.predict(xtest)"
   ],
   "metadata": {
    "collapsed": false,
    "pycharm": {
     "name": "#%%\n"
    }
   }
  },
  {
   "cell_type": "code",
   "execution_count": 216,
   "outputs": [],
   "source": [
    "ypre=pd.DataFrame(ypre,columns=['单价'])\n",
    "\n",
    "# ypre=ypre.sort_values(by='单价')\n",
    "# ypre=ypre.reset_index()\n",
    "# ypre=ypre.drop('index',axis=1)\n",
    "# ypre"
   ],
   "metadata": {
    "collapsed": false,
    "pycharm": {
     "name": "#%%\n"
    }
   }
  },
  {
   "cell_type": "code",
   "execution_count": 217,
   "outputs": [],
   "source": [
    "# ytest=ytest.sort_values()\n",
    "# ytest=ytest.reset_index()\n",
    "# ytest=ytest.drop('index',axis=1)"
   ],
   "metadata": {
    "collapsed": false,
    "pycharm": {
     "name": "#%%\n"
    }
   }
  },
  {
   "cell_type": "code",
   "execution_count": 218,
   "outputs": [
    {
     "data": {
      "text/plain": "<matplotlib.legend.Legend at 0x1d78b150b80>"
     },
     "execution_count": 218,
     "metadata": {},
     "output_type": "execute_result"
    },
    {
     "data": {
      "text/plain": "<Figure size 640x480 with 1 Axes>",
      "image/png": "[encoded data removed]"
     },
     "metadata": {},
     "output_type": "display_data"
    }
   ],
   "source": [
    "plt.rcParams['font.sans-serif']=['SimHei']   # 用黑体显示中文\n",
    "plt.plot(range(len(ypre))[:50],ypre[:50],label='预测值')\n",
    "plt.plot(range(len(ytest))[:50],ytest[:50],label='真实值')\n",
    "plt.legend()"
   ],
   "metadata": {
    "collapsed": false,
    "pycharm": {
     "name": "#%%\n"
    }
   }
  },
  {
   "cell_type": "code",
   "execution_count": 219,
   "outputs": [
    {
     "name": "stdout",
     "output_type": "stream",
     "text": [
      "0.4507180648107775\n"
     ]
    }
   ],
   "source": [
    "r2=r2_score(ytest,ypre)\n",
    "print(r2)"
   ],
   "metadata": {
    "collapsed": false,
    "pycharm": {
     "name": "#%%\n"
    }
   }
  },
  {
   "cell_type": "code",
   "execution_count": 219,
   "outputs": [],
   "source": [],
   "metadata": {
    "collapsed": false,
    "pycharm": {
     "name": "#%%\n"
    }
   }
  }
 ],
 "metadata": {
  "kernelspec": {
   "display_name": "Python 3",
   "language": "python",
   "name": "python3"
  },
  "language_info": {
   "codemirror_mode": {
    "name": "ipython",
    "version": 2
   },
   "file_extension": ".py",
   "mimetype": "text/x-python",
   "name": "python",
   "nbconvert_exporter": "python",
   "pygments_lexer": "ipython2",
   "version": "2.7.6"
  }
 },
 "nbformat": 4,
 "nbformat_minor": 0
}