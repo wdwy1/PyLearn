{
 "cells": [
  {
   "cell_type": "code",
   "execution_count": 1,
   "outputs": [],
   "source": [
    "# 基于大数据的房产估价\n",
    "# 一、实验目的与要求\n",
    "#\n",
    "# 1、掌握使用numpy和pandas库处理数据的基本方法。\n",
    "# 2、掌握使用Sklearn库对多元线性回归算法的实现及其评价方法。\n",
    "# 3、掌握使用matplotlib结合pandas库对数据分析可视化处理的基本方法。\n",
    "# 二、实验内容\n",
    "#\n",
    "# 1、利用python中pandas等库完成对数据的预处理，最后将处理好的文件进行保存。\n",
    "# 2、利用pandas、matplotlib等库完成对预处理数据的可视化。\n",
    "# 3、结合pandas、matplotlib库对聚类完成的结果进行可视化处理。\n",
    "# 三、实验步骤\n",
    "\n"
   ],
   "metadata": {
    "collapsed": false,
    "pycharm": {
     "name": "#%%\n"
    }
   }
  },
  {
   "cell_type": "code",
   "execution_count": 2,
   "outputs": [
    {
     "data": {
      "text/plain": "                        描述     位置信息  区域  \\\n0         康河郦景二期 3室1厅 273万  康河郦景二期   武侯   \n1  双楠二环内，精装三居室，首付二十多万，随时看房    双楠三区   武侯   \n2    溢阳绿城，精装修标准套三，楼层好，配套完善    溢阳绿城   武侯   \n3         一环内标准套三，明厨明卫，采光好    华西美庐   武侯   \n4      棕北套二低楼层，精装修保养好，配套成熟   锦绣街9号   武侯   \n\n                                                房屋信息             关注信息     总价  \\\n0  3室1厅 | 151.44平米 | 东南 | 精装 | 中楼层(共18层) | 2006年建...   36人关注 / 6天以前发布   273万   \n1  3室2厅 | 79.71平米 | 东南 | 精装 | 高楼层(共7层) | 1999年建 | 板楼  89人关注 / 3个月以前发布  87.7万   \n2   3室1厅 | 127.8平米 | 南 | 精装 | 中楼层(共6层) | 2002年建 | 板楼  20人关注 / 1个月以前发布   240万   \n3        3室2厅 | 177.11平米 | 西北 | 简装 | 中楼层(共28层)  | 塔楼  41人关注 / 1个月以前发布   248万   \n4   2室1厅 | 63.03平米 | 西 | 精装 | 低楼层(共7层) | 1996年建 | 板楼  28人关注 / 22天以前发布   103万   \n\n            单价  \n0  单价18027元/平米  \n1  单价11003元/平米  \n2  单价18780元/平米  \n3  单价14003元/平米  \n4  单价16342元/平米  ",
      "text/html": "<div>\n<style scoped>\n    .dataframe tbody tr th:only-of-type {\n        vertical-align: middle;\n    }\n\n    .dataframe tbody tr th {\n        vertical-align: top;\n    }\n\n    .dataframe thead th {\n        text-align: right;\n    }\n</style>\n<table border=\"1\" class=\"dataframe\">\n  <thead>\n    <tr style=\"text-align: right;\">\n      <th></th>\n      <th>描述</th>\n      <th>位置信息</th>\n      <th>区域</th>\n      <th>房屋信息</th>\n      <th>关注信息</th>\n      <th>总价</th>\n      <th>单价</th>\n    </tr>\n  </thead>\n  <tbody>\n    <tr>\n      <th>0</th>\n      <td>康河郦景二期 3室1厅 273万</td>\n      <td>康河郦景二期</td>\n      <td>武侯</td>\n      <td>3室1厅 | 151.44平米 | 东南 | 精装 | 中楼层(共18层) | 2006年建...</td>\n      <td>36人关注 / 6天以前发布</td>\n      <td>273万</td>\n      <td>单价18027元/平米</td>\n    </tr>\n    <tr>\n      <th>1</th>\n      <td>双楠二环内，精装三居室，首付二十多万，随时看房</td>\n      <td>双楠三区</td>\n      <td>武侯</td>\n      <td>3室2厅 | 79.71平米 | 东南 | 精装 | 高楼层(共7层) | 1999年建 | 板楼</td>\n      <td>89人关注 / 3个月以前发布</td>\n      <td>87.7万</td>\n      <td>单价11003元/平米</td>\n    </tr>\n    <tr>\n      <th>2</th>\n      <td>溢阳绿城，精装修标准套三，楼层好，配套完善</td>\n      <td>溢阳绿城</td>\n      <td>武侯</td>\n      <td>3室1厅 | 127.8平米 | 南 | 精装 | 中楼层(共6层) | 2002年建 | 板楼</td>\n      <td>20人关注 / 1个月以前发布</td>\n      <td>240万</td>\n      <td>单价18780元/平米</td>\n    </tr>\n    <tr>\n      <th>3</th>\n      <td>一环内标准套三，明厨明卫，采光好</td>\n      <td>华西美庐</td>\n      <td>武侯</td>\n      <td>3室2厅 | 177.11平米 | 西北 | 简装 | 中楼层(共28层)  | 塔楼</td>\n      <td>41人关注 / 1个月以前发布</td>\n      <td>248万</td>\n      <td>单价14003元/平米</td>\n    </tr>\n    <tr>\n      <th>4</th>\n      <td>棕北套二低楼层，精装修保养好，配套成熟</td>\n      <td>锦绣街9号</td>\n      <td>武侯</td>\n      <td>2室1厅 | 63.03平米 | 西 | 精装 | 低楼层(共7层) | 1996年建 | 板楼</td>\n      <td>28人关注 / 22天以前发布</td>\n      <td>103万</td>\n      <td>单价16342元/平米</td>\n    </tr>\n  </tbody>\n</table>\n</div>"
     },
     "execution_count": 2,
     "metadata": {},
     "output_type": "execute_result"
    }
   ],
   "source": [
    "\n",
    "# 1.数据预处理\n",
    "\n",
    "# （1）导入所需要使用的包\n",
    "import numpy as np\n",
    "import pandas as pd\n",
    "import re\n",
    "import os\n",
    "import matplotlib.pyplot as plt\n",
    "import matplotlib as mpl\n",
    "from sklearn.model_selection import train_test_split\n",
    "from sklearn.linear_model import LinearRegression as LR\n",
    "from sklearn.metrics import r2_score\n",
    "\n",
    "# （2）读取文件\n",
    "input_dir = 'E:\\python大数据\\lab1_data\\data/'\n",
    "files = os.listdir(input_dir)\n",
    "data = []\n",
    "for i in files:\n",
    "    data.append(pd.read_excel(input_dir+i))\n",
    "data = pd.concat(data)\n",
    "data.head()"
   ],
   "metadata": {
    "collapsed": false,
    "pycharm": {
     "name": "#%%\n"
    }
   }
  },
  {
   "cell_type": "code",
   "execution_count": 3,
   "outputs": [
    {
     "data": {
      "text/plain": "                       描述     位置信息     区域  \\\ncount               35662    35662  35662   \nunique              35180     5707     17   \ntop     此房电梯清水，物管费底适合居住居家  恒大御景半岛      武侯   \nfreq                    8      202   3000   \n\n                                           房屋信息            关注信息     总价  \\\ncount                                     35662           35662  35662   \nunique                                    35310            3332   1554   \ntop     1室1厅 | 30平米 | 东南 | 其他 | 高楼层(共22层)  | 塔楼  0人关注 / 1个月以前发布   120万   \nfreq                                          5             730    637   \n\n                 单价  \ncount         35662  \nunique        17140  \ntop     单价10000元/平米  \nfreq             78  ",
      "text/html": "<div>\n<style scoped>\n    .dataframe tbody tr th:only-of-type {\n        vertical-align: middle;\n    }\n\n    .dataframe tbody tr th {\n        vertical-align: top;\n    }\n\n    .dataframe thead th {\n        text-align: right;\n    }\n</style>\n<table border=\"1\" class=\"dataframe\">\n  <thead>\n    <tr style=\"text-align: right;\">\n      <th></th>\n      <th>描述</th>\n      <th>位置信息</th>\n      <th>区域</th>\n      <th>房屋信息</th>\n      <th>关注信息</th>\n      <th>总价</th>\n      <th>单价</th>\n    </tr>\n  </thead>\n  <tbody>\n    <tr>\n      <th>count</th>\n      <td>35662</td>\n      <td>35662</td>\n      <td>35662</td>\n      <td>35662</td>\n      <td>35662</td>\n      <td>35662</td>\n      <td>35662</td>\n    </tr>\n    <tr>\n      <th>unique</th>\n      <td>35180</td>\n      <td>5707</td>\n      <td>17</td>\n      <td>35310</td>\n      <td>3332</td>\n      <td>1554</td>\n      <td>17140</td>\n    </tr>\n    <tr>\n      <th>top</th>\n      <td>此房电梯清水，物管费底适合居住居家</td>\n      <td>恒大御景半岛</td>\n      <td>武侯</td>\n      <td>1室1厅 | 30平米 | 东南 | 其他 | 高楼层(共22层)  | 塔楼</td>\n      <td>0人关注 / 1个月以前发布</td>\n      <td>120万</td>\n      <td>单价10000元/平米</td>\n    </tr>\n    <tr>\n      <th>freq</th>\n      <td>8</td>\n      <td>202</td>\n      <td>3000</td>\n      <td>5</td>\n      <td>730</td>\n      <td>637</td>\n      <td>78</td>\n    </tr>\n  </tbody>\n</table>\n</div>"
     },
     "execution_count": 3,
     "metadata": {},
     "output_type": "execute_result"
    }
   ],
   "source": [
    "# （3）查看数据的基本统计信息\n",
    "data.describe()"
   ],
   "metadata": {
    "collapsed": false,
    "pycharm": {
     "name": "#%%\n"
    }
   }
  },
  {
   "cell_type": "code",
   "execution_count": 4,
   "outputs": [
    {
     "data": {
      "text/plain": "                        描述     位置信息  区域  \\\n0         康河郦景二期 3室1厅 273万  康河郦景二期   武侯   \n1  双楠二环内，精装三居室，首付二十多万，随时看房    双楠三区   武侯   \n2    溢阳绿城，精装修标准套三，楼层好，配套完善    溢阳绿城   武侯   \n3         一环内标准套三，明厨明卫，采光好    华西美庐   武侯   \n4      棕北套二低楼层，精装修保养好，配套成熟   锦绣街9号   武侯   \n\n                                                房屋信息             关注信息     总价  \\\n0  3室1厅 | 151.44平米 | 东南 | 精装 | 中楼层(共18层) | 2006年建...   36人关注 / 6天以前发布   273万   \n1  3室2厅 | 79.71平米 | 东南 | 精装 | 高楼层(共7层) | 1999年建 | 板楼  89人关注 / 3个月以前发布  87.7万   \n2   3室1厅 | 127.8平米 | 南 | 精装 | 中楼层(共6层) | 2002年建 | 板楼  20人关注 / 1个月以前发布   240万   \n3        3室2厅 | 177.11平米 | 西北 | 简装 | 中楼层(共28层)  | 塔楼  41人关注 / 1个月以前发布   248万   \n4   2室1厅 | 63.03平米 | 西 | 精装 | 低楼层(共7层) | 1996年建 | 板楼  28人关注 / 22天以前发布   103万   \n\n            单价  \n0  单价18027元/平米  \n1  单价11003元/平米  \n2  单价18780元/平米  \n3  单价14003元/平米  \n4  单价16342元/平米  ",
      "text/html": "<div>\n<style scoped>\n    .dataframe tbody tr th:only-of-type {\n        vertical-align: middle;\n    }\n\n    .dataframe tbody tr th {\n        vertical-align: top;\n    }\n\n    .dataframe thead th {\n        text-align: right;\n    }\n</style>\n<table border=\"1\" class=\"dataframe\">\n  <thead>\n    <tr style=\"text-align: right;\">\n      <th></th>\n      <th>描述</th>\n      <th>位置信息</th>\n      <th>区域</th>\n      <th>房屋信息</th>\n      <th>关注信息</th>\n      <th>总价</th>\n      <th>单价</th>\n    </tr>\n  </thead>\n  <tbody>\n    <tr>\n      <th>0</th>\n      <td>康河郦景二期 3室1厅 273万</td>\n      <td>康河郦景二期</td>\n      <td>武侯</td>\n      <td>3室1厅 | 151.44平米 | 东南 | 精装 | 中楼层(共18层) | 2006年建...</td>\n      <td>36人关注 / 6天以前发布</td>\n      <td>273万</td>\n      <td>单价18027元/平米</td>\n    </tr>\n    <tr>\n      <th>1</th>\n      <td>双楠二环内，精装三居室，首付二十多万，随时看房</td>\n      <td>双楠三区</td>\n      <td>武侯</td>\n      <td>3室2厅 | 79.71平米 | 东南 | 精装 | 高楼层(共7层) | 1999年建 | 板楼</td>\n      <td>89人关注 / 3个月以前发布</td>\n      <td>87.7万</td>\n      <td>单价11003元/平米</td>\n    </tr>\n    <tr>\n      <th>2</th>\n      <td>溢阳绿城，精装修标准套三，楼层好，配套完善</td>\n      <td>溢阳绿城</td>\n      <td>武侯</td>\n      <td>3室1厅 | 127.8平米 | 南 | 精装 | 中楼层(共6层) | 2002年建 | 板楼</td>\n      <td>20人关注 / 1个月以前发布</td>\n      <td>240万</td>\n      <td>单价18780元/平米</td>\n    </tr>\n    <tr>\n      <th>3</th>\n      <td>一环内标准套三，明厨明卫，采光好</td>\n      <td>华西美庐</td>\n      <td>武侯</td>\n      <td>3室2厅 | 177.11平米 | 西北 | 简装 | 中楼层(共28层)  | 塔楼</td>\n      <td>41人关注 / 1个月以前发布</td>\n      <td>248万</td>\n      <td>单价14003元/平米</td>\n    </tr>\n    <tr>\n      <th>4</th>\n      <td>棕北套二低楼层，精装修保养好，配套成熟</td>\n      <td>锦绣街9号</td>\n      <td>武侯</td>\n      <td>2室1厅 | 63.03平米 | 西 | 精装 | 低楼层(共7层) | 1996年建 | 板楼</td>\n      <td>28人关注 / 22天以前发布</td>\n      <td>103万</td>\n      <td>单价16342元/平米</td>\n    </tr>\n  </tbody>\n</table>\n</div>"
     },
     "execution_count": 4,
     "metadata": {},
     "output_type": "execute_result"
    }
   ],
   "source": [
    " #（4）删除csv文件中索引列，并重置 # #\n",
    "data=data.reset_index()\n",
    "data.head()\n",
    "data=data.drop('index',axis=1)\n",
    "data.head()"
   ],
   "metadata": {
    "collapsed": false,
    "pycharm": {
     "name": "#%%\n"
    }
   }
  },
  {
   "cell_type": "code",
   "execution_count": 5,
   "outputs": [
    {
     "data": {
      "text/plain": "                        描述     位置信息  区域  \\\n0         康河郦景二期 3室1厅 273万  康河郦景二期   武侯   \n1  双楠二环内，精装三居室，首付二十多万，随时看房    双楠三区   武侯   \n2    溢阳绿城，精装修标准套三，楼层好，配套完善    溢阳绿城   武侯   \n3         一环内标准套三，明厨明卫，采光好    华西美庐   武侯   \n4      棕北套二低楼层，精装修保养好，配套成熟   锦绣街9号   武侯   \n\n                                                房屋信息             关注信息     总价  \\\n0  3室1厅 | 151.44平米 | 东南 | 精装 | 中楼层(共18层) | 2006年建...   36人关注 / 6天以前发布   273万   \n1  3室2厅 | 79.71平米 | 东南 | 精装 | 高楼层(共7层) | 1999年建 | 板楼  89人关注 / 3个月以前发布  87.7万   \n2   3室1厅 | 127.8平米 | 南 | 精装 | 中楼层(共6层) | 2002年建 | 板楼  20人关注 / 1个月以前发布   240万   \n3        3室2厅 | 177.11平米 | 西北 | 简装 | 中楼层(共28层)  | 塔楼  41人关注 / 1个月以前发布   248万   \n4   2室1厅 | 63.03平米 | 西 | 精装 | 低楼层(共7层) | 1996年建 | 板楼  28人关注 / 22天以前发布   103万   \n\n            单价  \n0  单价18027元/平米  \n1  单价11003元/平米  \n2  单价18780元/平米  \n3  单价14003元/平米  \n4  单价16342元/平米  ",
      "text/html": "<div>\n<style scoped>\n    .dataframe tbody tr th:only-of-type {\n        vertical-align: middle;\n    }\n\n    .dataframe tbody tr th {\n        vertical-align: top;\n    }\n\n    .dataframe thead th {\n        text-align: right;\n    }\n</style>\n<table border=\"1\" class=\"dataframe\">\n  <thead>\n    <tr style=\"text-align: right;\">\n      <th></th>\n      <th>描述</th>\n      <th>位置信息</th>\n      <th>区域</th>\n      <th>房屋信息</th>\n      <th>关注信息</th>\n      <th>总价</th>\n      <th>单价</th>\n    </tr>\n  </thead>\n  <tbody>\n    <tr>\n      <th>0</th>\n      <td>康河郦景二期 3室1厅 273万</td>\n      <td>康河郦景二期</td>\n      <td>武侯</td>\n      <td>3室1厅 | 151.44平米 | 东南 | 精装 | 中楼层(共18层) | 2006年建...</td>\n      <td>36人关注 / 6天以前发布</td>\n      <td>273万</td>\n      <td>单价18027元/平米</td>\n    </tr>\n    <tr>\n      <th>1</th>\n      <td>双楠二环内，精装三居室，首付二十多万，随时看房</td>\n      <td>双楠三区</td>\n      <td>武侯</td>\n      <td>3室2厅 | 79.71平米 | 东南 | 精装 | 高楼层(共7层) | 1999年建 | 板楼</td>\n      <td>89人关注 / 3个月以前发布</td>\n      <td>87.7万</td>\n      <td>单价11003元/平米</td>\n    </tr>\n    <tr>\n      <th>2</th>\n      <td>溢阳绿城，精装修标准套三，楼层好，配套完善</td>\n      <td>溢阳绿城</td>\n      <td>武侯</td>\n      <td>3室1厅 | 127.8平米 | 南 | 精装 | 中楼层(共6层) | 2002年建 | 板楼</td>\n      <td>20人关注 / 1个月以前发布</td>\n      <td>240万</td>\n      <td>单价18780元/平米</td>\n    </tr>\n    <tr>\n      <th>3</th>\n      <td>一环内标准套三，明厨明卫，采光好</td>\n      <td>华西美庐</td>\n      <td>武侯</td>\n      <td>3室2厅 | 177.11平米 | 西北 | 简装 | 中楼层(共28层)  | 塔楼</td>\n      <td>41人关注 / 1个月以前发布</td>\n      <td>248万</td>\n      <td>单价14003元/平米</td>\n    </tr>\n    <tr>\n      <th>4</th>\n      <td>棕北套二低楼层，精装修保养好，配套成熟</td>\n      <td>锦绣街9号</td>\n      <td>武侯</td>\n      <td>2室1厅 | 63.03平米 | 西 | 精装 | 低楼层(共7层) | 1996年建 | 板楼</td>\n      <td>28人关注 / 22天以前发布</td>\n      <td>103万</td>\n      <td>单价16342元/平米</td>\n    </tr>\n  </tbody>\n</table>\n</div>"
     },
     "execution_count": 5,
     "metadata": {},
     "output_type": "execute_result"
    }
   ],
   "source": [
    "# # （5）处理空值 # #\n",
    "#data.isnull().any()\n",
    "data=data.dropna()\n",
    "data.head()"
   ],
   "metadata": {
    "collapsed": false,
    "pycharm": {
     "name": "#%%\n"
    }
   }
  },
  {
   "cell_type": "code",
   "execution_count": 6,
   "outputs": [
    {
     "data": {
      "text/plain": "                              描述       位置信息  区域     总价       单价  关注人数  \\\n0               康河郦景二期 3室1厅 273万    康河郦景二期   武侯  273.0  18027.0    36   \n1        双楠二环内，精装三居室，首付二十多万，随时看房      双楠三区   武侯   87.7  11003.0    89   \n2          溢阳绿城，精装修标准套三，楼层好，配套完善      溢阳绿城   武侯  240.0  18780.0    20   \n4            棕北套二低楼层，精装修保养好，配套成熟     锦绣街9号   武侯  103.0  16342.0    28   \n5            中间楼层  错层户型 采光好 诚心出售    中央花园二期   武侯  115.0   9931.0   111   \n...                          ...        ...  ..    ...      ...   ...   \n35657           蓝光SOFA 朝南对中庭 不临街  蓝光SOFA社区   青羊  178.0  22803.0    15   \n35658           中鹏花园A区 套四有装修 对中庭    中鹏花园A区   青羊  115.0   9831.0    65   \n35659  地铁口 蓝光SOFA  房东自住精装1室 拎包入住  蓝光SOFA社区   青羊   93.0  18857.0    17   \n35660       蓝光SOFA社区 装修小套二  不临马路  蓝光SOFA社区   青羊  170.0  21959.0     6   \n35661          浪琴湾 安静不临街的套二 自住装修       浪琴湾   青羊  182.0  20149.0   105   \n\n           发布时间     房型          面积    朝向    类型           楼层      建成时间     结构  \n0        6天以前发布  3室1厅    151.44平米    东南    精装    中楼层(共18层)    2006年建    板塔结合  \n1       3个月以前发布  3室2厅     79.71平米    东南    精装     高楼层(共7层)    1999年建      板楼  \n2       1个月以前发布  3室1厅     127.8平米     南    精装     中楼层(共6层)    2002年建      板楼  \n4       22天以前发布  2室1厅     63.03平米     西    精装     低楼层(共7层)    1996年建      板楼  \n5       2个月以前发布  3室1厅     115.8平米     南    精装     中楼层(共7层)    1998年建    板塔结合  \n...         ...    ...         ...   ...   ...          ...       ...    ...  \n35657     一年前发布  2室2厅     78.06平米     南    精装    低楼层(共20层)    2011年建      塔楼  \n35658     一年前发布  4室2厅    116.98平米     南    简装     中楼层(共7层)    1998年建      板楼  \n35659     一年前发布  1室2厅     49.32平米     西    精装    高楼层(共20层)    2011年建      塔楼  \n35660     一年前发布  2室1厅     77.42平米     东    简装    低楼层(共20层)    2011年建      塔楼  \n35661     一年前发布  2室1厅     90.33平米     南    精装     低楼层(共6层)    2004年建      板楼  \n\n[28705 rows x 14 columns]",
      "text/html": "<div>\n<style scoped>\n    .dataframe tbody tr th:only-of-type {\n        vertical-align: middle;\n    }\n\n    .dataframe tbody tr th {\n        vertical-align: top;\n    }\n\n    .dataframe thead th {\n        text-align: right;\n    }\n</style>\n<table border=\"1\" class=\"dataframe\">\n  <thead>\n    <tr style=\"text-align: right;\">\n      <th></th>\n      <th>描述</th>\n      <th>位置信息</th>\n      <th>区域</th>\n      <th>总价</th>\n      <th>单价</th>\n      <th>关注人数</th>\n      <th>发布时间</th>\n      <th>房型</th>\n      <th>面积</th>\n      <th>朝向</th>\n      <th>类型</th>\n      <th>楼层</th>\n      <th>建成时间</th>\n      <th>结构</th>\n    </tr>\n  </thead>\n  <tbody>\n    <tr>\n      <th>0</th>\n      <td>康河郦景二期 3室1厅 273万</td>\n      <td>康河郦景二期</td>\n      <td>武侯</td>\n      <td>273.0</td>\n      <td>18027.0</td>\n      <td>36</td>\n      <td>6天以前发布</td>\n      <td>3室1厅</td>\n      <td>151.44平米</td>\n      <td>东南</td>\n      <td>精装</td>\n      <td>中楼层(共18层)</td>\n      <td>2006年建</td>\n      <td>板塔结合</td>\n    </tr>\n    <tr>\n      <th>1</th>\n      <td>双楠二环内，精装三居室，首付二十多万，随时看房</td>\n      <td>双楠三区</td>\n      <td>武侯</td>\n      <td>87.7</td>\n      <td>11003.0</td>\n      <td>89</td>\n      <td>3个月以前发布</td>\n      <td>3室2厅</td>\n      <td>79.71平米</td>\n      <td>东南</td>\n      <td>精装</td>\n      <td>高楼层(共7层)</td>\n      <td>1999年建</td>\n      <td>板楼</td>\n    </tr>\n    <tr>\n      <th>2</th>\n      <td>溢阳绿城，精装修标准套三，楼层好，配套完善</td>\n      <td>溢阳绿城</td>\n      <td>武侯</td>\n      <td>240.0</td>\n      <td>18780.0</td>\n      <td>20</td>\n      <td>1个月以前发布</td>\n      <td>3室1厅</td>\n      <td>127.8平米</td>\n      <td>南</td>\n      <td>精装</td>\n      <td>中楼层(共6层)</td>\n      <td>2002年建</td>\n      <td>板楼</td>\n    </tr>\n    <tr>\n      <th>4</th>\n      <td>棕北套二低楼层，精装修保养好，配套成熟</td>\n      <td>锦绣街9号</td>\n      <td>武侯</td>\n      <td>103.0</td>\n      <td>16342.0</td>\n      <td>28</td>\n      <td>22天以前发布</td>\n      <td>2室1厅</td>\n      <td>63.03平米</td>\n      <td>西</td>\n      <td>精装</td>\n      <td>低楼层(共7层)</td>\n      <td>1996年建</td>\n      <td>板楼</td>\n    </tr>\n    <tr>\n      <th>5</th>\n      <td>中间楼层  错层户型 采光好 诚心出售</td>\n      <td>中央花园二期</td>\n      <td>武侯</td>\n      <td>115.0</td>\n      <td>9931.0</td>\n      <td>111</td>\n      <td>2个月以前发布</td>\n      <td>3室1厅</td>\n      <td>115.8平米</td>\n      <td>南</td>\n      <td>精装</td>\n      <td>中楼层(共7层)</td>\n      <td>1998年建</td>\n      <td>板塔结合</td>\n    </tr>\n    <tr>\n      <th>...</th>\n      <td>...</td>\n      <td>...</td>\n      <td>...</td>\n      <td>...</td>\n      <td>...</td>\n      <td>...</td>\n      <td>...</td>\n      <td>...</td>\n      <td>...</td>\n      <td>...</td>\n      <td>...</td>\n      <td>...</td>\n      <td>...</td>\n      <td>...</td>\n    </tr>\n    <tr>\n      <th>35657</th>\n      <td>蓝光SOFA 朝南对中庭 不临街</td>\n      <td>蓝光SOFA社区</td>\n      <td>青羊</td>\n      <td>178.0</td>\n      <td>22803.0</td>\n      <td>15</td>\n      <td>一年前发布</td>\n      <td>2室2厅</td>\n      <td>78.06平米</td>\n      <td>南</td>\n      <td>精装</td>\n      <td>低楼层(共20层)</td>\n      <td>2011年建</td>\n      <td>塔楼</td>\n    </tr>\n    <tr>\n      <th>35658</th>\n      <td>中鹏花园A区 套四有装修 对中庭</td>\n      <td>中鹏花园A区</td>\n      <td>青羊</td>\n      <td>115.0</td>\n      <td>9831.0</td>\n      <td>65</td>\n      <td>一年前发布</td>\n      <td>4室2厅</td>\n      <td>116.98平米</td>\n      <td>南</td>\n      <td>简装</td>\n      <td>中楼层(共7层)</td>\n      <td>1998年建</td>\n      <td>板楼</td>\n    </tr>\n    <tr>\n      <th>35659</th>\n      <td>地铁口 蓝光SOFA  房东自住精装1室 拎包入住</td>\n      <td>蓝光SOFA社区</td>\n      <td>青羊</td>\n      <td>93.0</td>\n      <td>18857.0</td>\n      <td>17</td>\n      <td>一年前发布</td>\n      <td>1室2厅</td>\n      <td>49.32平米</td>\n      <td>西</td>\n      <td>精装</td>\n      <td>高楼层(共20层)</td>\n      <td>2011年建</td>\n      <td>塔楼</td>\n    </tr>\n    <tr>\n      <th>35660</th>\n      <td>蓝光SOFA社区 装修小套二  不临马路</td>\n      <td>蓝光SOFA社区</td>\n      <td>青羊</td>\n      <td>170.0</td>\n      <td>21959.0</td>\n      <td>6</td>\n      <td>一年前发布</td>\n      <td>2室1厅</td>\n      <td>77.42平米</td>\n      <td>东</td>\n      <td>简装</td>\n      <td>低楼层(共20层)</td>\n      <td>2011年建</td>\n      <td>塔楼</td>\n    </tr>\n    <tr>\n      <th>35661</th>\n      <td>浪琴湾 安静不临街的套二 自住装修</td>\n      <td>浪琴湾</td>\n      <td>青羊</td>\n      <td>182.0</td>\n      <td>20149.0</td>\n      <td>105</td>\n      <td>一年前发布</td>\n      <td>2室1厅</td>\n      <td>90.33平米</td>\n      <td>南</td>\n      <td>精装</td>\n      <td>低楼层(共6层)</td>\n      <td>2004年建</td>\n      <td>板楼</td>\n    </tr>\n  </tbody>\n</table>\n<p>28705 rows × 14 columns</p>\n</div>"
     },
     "execution_count": 6,
     "metadata": {},
     "output_type": "execute_result"
    }
   ],
   "source": [
    "# （6）删除部分数据的中文字符，将数据类型转换为float型 #\n",
    "#总价处理\n",
    "data.总价=data.总价.map(lambda x:re.findall(r\"\\d+\\.?\\d*\",x)[0] )\n",
    "data.总价=data.总价.map(lambda x:float(x))\n",
    "\n",
    "#单价处理\n",
    "data.单价=data.单价.map(lambda x:re.findall(r\"\\d+\\.?\\d*\",x)[0] )\n",
    "data.单价=data.单价.map(lambda x:float(x))\n",
    "\n",
    "#关注信息处理\n",
    "data.loc[:,'关注人数']=data.关注信息.map(lambda  x: x.split('/')[0])\n",
    "data.loc[:,'发布时间']=data.关注信息.map(lambda  x: x.split('/')[1])\n",
    "data=data.drop('关注信息',axis=1)\n",
    "data.关注人数 = data.关注人数.map(lambda x : re.sub('[\\u4e00-\\u9fa5]','',x))\n",
    "data.关注人数 = data.关注人数.map(lambda x : int(x))\n",
    "data.head()\n",
    "#房屋信息处理\n",
    "msg=data.房屋信息.map(lambda  x: len(x.split('|')))\n",
    "msg.value_counts()\n",
    "data=data[msg==7]\n",
    "data.loc[:,'房型']=data.房屋信息.map(lambda  x: x.split('|')[0])\n",
    "data.loc[:,'面积']=data.房屋信息.map(lambda  x: x.split('|')[1])\n",
    "data.loc[:,'朝向']=data.房屋信息.map(lambda  x: x.split('|')[2])\n",
    "data.loc[:,'类型']=data.房屋信息.map(lambda  x: x.split('|')[3])\n",
    "data.loc[:,'楼层']=data.房屋信息.map(lambda  x: x.split('|')[4])\n",
    "data.loc[:,'建成时间']=data.房屋信息.map(lambda  x: x.split('|')[5])\n",
    "data.loc[:,'结构']=data.房屋信息.map(lambda  x: x.split('|')[6])\n",
    "data=data.drop('房屋信息',axis=1)\n",
    "data"
   ],
   "metadata": {
    "collapsed": false,
    "pycharm": {
     "name": "#%%\n"
    }
   }
  },
  {
   "cell_type": "code",
   "execution_count": 7,
   "outputs": [],
   "source": [
    "# # （7）对部分数据进行独热码编码 # #"
   ],
   "metadata": {
    "collapsed": false,
    "pycharm": {
     "name": "#%%\n"
    }
   }
  },
  {
   "cell_type": "code",
   "execution_count": 8,
   "outputs": [],
   "source": [
    "# （8）对数据进行标准化处理 # #"
   ],
   "metadata": {
    "collapsed": false,
    "pycharm": {
     "name": "#%%\n"
    }
   }
  },
  {
   "cell_type": "code",
   "execution_count": 9,
   "outputs": [],
   "source": [
    "# （9）存储预处理后的文件 #"
   ],
   "metadata": {
    "collapsed": false,
    "pycharm": {
     "name": "#%%\n"
    }
   }
  },
  {
   "cell_type": "code",
   "execution_count": 10,
   "outputs": [],
   "source": [
    "# 2、数据分析\n",
    "#\n",
    "# （1）读取预处理后的文件\n",
    "#\n",
    "#\n",
    "# （2）利用二八原则，划分训练集和测试集\n",
    "#\n",
    "#\n",
    "# （3）建立多元回归模型\n",
    "#\n",
    "#\n",
    "# （4）训练回归模型\n",
    "#\n",
    "# （5）计算估计值\n",
    "#\n",
    "#\n",
    "# （6）判断模型拟合的好坏程度"
   ],
   "metadata": {
    "collapsed": false,
    "pycharm": {
     "name": "#%%\n"
    }
   }
  },
  {
   "cell_type": "code",
   "execution_count": 11,
   "outputs": [],
   "source": [
    "# 3、数据可视化\n",
    "\n",
    "# （1）将训练集真实值与模型预测值用折线图的形式表现出来\n",
    "\n",
    "\n",
    "# （2）将测试集真实值与模型预测值用折线图的形式表现出来\n"
   ],
   "metadata": {
    "collapsed": false,
    "pycharm": {
     "name": "#%%\n"
    }
   }
  }
 ],
 "metadata": {
  "kernelspec": {
   "display_name": "Python 3",
   "language": "python",
   "name": "python3"
  },
  "language_info": {
   "codemirror_mode": {
    "name": "ipython",
    "version": 2
   },
   "file_extension": ".py",
   "mimetype": "text/x-python",
   "name": "python",
   "nbconvert_exporter": "python",
   "pygments_lexer": "ipython2",
   "version": "2.7.6"
  }
 },
 "nbformat": 4,
 "nbformat_minor": 0
}